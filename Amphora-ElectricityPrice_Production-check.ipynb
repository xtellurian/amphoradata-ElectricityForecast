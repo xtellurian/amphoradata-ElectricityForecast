{
 "cells": [
  {
   "cell_type": "markdown",
   "execution_count": 1,
   "metadata": {},
   "outputs": [],
   "source": [
    "# Creating Electricity Spot Price predictions for SA, NSW, VIC and QLD with data from amphora.com"
   ]
  },
  {
   "cell_type": "code",
   "execution_count": 51,
   "metadata": {},
   "outputs": [],
   "source": [
    "#!\"./setup-EForecast.sh\"\n",
    "%reload_ext autoreload\n",
    "%autoreload 2\n",
    "%matplotlib inline\n",
    "\n",
    "import pandas as pd\n",
    "from pandas.plotting import register_matplotlib_converters\n",
    "register_matplotlib_converters()\n",
    "import matplotlib.pyplot as plt\n",
    "import seaborn as sns\n",
    "from math import floor\n",
    "import numpy as np\n",
    "from datetime import datetime\n",
    "from sklearn import linear_model\n",
    "from sklearn.ensemble import RandomForestRegressor, ExtraTreesRegressor\n",
    "from joblib import dump, load\n",
    "from doodahs import doodahs\n",
    "from keras import models\n",
    "from keras.optimizers import SGD\n",
    "from doodahs import APIfetch"
   ]
  },
  {
   "cell_type": "markdown",
   "execution_count": null,
   "metadata": {},
   "outputs": [],
   "source": [
    "## Loading data, creating differential features, creating X, and Y data"
   ]
  },
  {
   "cell_type": "code",
   "execution_count": 3,
   "metadata": {},
   "outputs": [],
   "source": [
    "# load electricity and weather data from the amphora API\n",
    "params = {'id': '',\n",
    "        'start_time': datetime(2019,11,9,11),#YYYY,MM,DD,hh,mm\n",
    "        'end_time': datetime(2019,12,10,5),\n",
    "        #'filter': ''\n",
    "        }\n",
    "\n",
    "e_ids = {'electricity_NSW': 'ecc5263e-83b6-42d6-8852-64beffdf204e',  \n",
    "        'electricity_QLD': 'ef22fa0f-010c-4ab1-8a28-a8963f838ce9',  \n",
    "        'electricity_VIC': '3b66da5a-0723-4778-98fc-02d619c70664', \n",
    "        'electricity_SA': '89c2e30d-78c8-46ef-b591-140edd84ddb6'}  \n",
    "\n",
    "electricity_dict = {}\n",
    "for _ in e_ids:\n",
    "    params['id'] = e_ids[_]\n",
    "    banana_temp = APIfetch.fetch_data(params)\n",
    "    if 'filter' in params:\n",
    "        del banana_temp['periodType.{}'.format(params['filter'])]\n",
    "    else:\n",
    "        del banana_temp['periodType']\n",
    "    # add the _state suffix to column names:\n",
    "    banana_temp.columns = [col +'_'+_[_.index('_')+1:] for col in banana_temp.columns]\n",
    "    banana_temp = banana_temp.sort_index()\n",
    "    # prevent some weird pandas 'feature' from resampling the df:\n",
    "    banana_temp = banana_temp.apply(pd.to_numeric,                       errors='coerce')\n",
    "    electricity_dict[_] = banana_temp.resample('60T').mean()\n",
    "\n",
    "forecast_dict = {}\n",
    "for _ in e_ids:\n",
    "    params['filter'] = 'Forecast'\n",
    "    params['id'] = e_ids[_]\n",
    "    banana_temp = APIfetch.fetch_data(params)\n",
    "    del banana_temp['periodType.Forecast']\n",
    "    # add the _state suffix to column names:\n",
    "    banana_temp.columns = [col +'_'+_[_.index('_')+1:] for col in banana_temp.columns]\n",
    "    banana_temp = banana_temp.sort_index()\n",
    "    # prevent some weird pandas 'feature' from resampling the df:\n",
    "    banana_temp = banana_temp.apply(pd.to_numeric,                       errors='coerce')\n",
    "    forecast_dict[_] = banana_temp.resample('60T').mean()\n",
    "    del params['filter']\n",
    "    \n",
    "w_ids = {'weather_NSW': '11fd3d6a-12e4-4767-9d52-03271b543c66',  \n",
    "        'weather_QLD': 'a46f461f-f7ee-4cc5-a1e4-569960ea5ed8',  \n",
    "        'weather_VIC': 'd48ac35f-c658-41c1-909a-f662d6f3a972', \n",
    "        'weather_SA': 'f860ba45-9dda-41e0-91aa-73901a323318'}  \n",
    "\n",
    "weather_dict = {}\n",
    "for _ in w_ids:\n",
    "    params['id'] = w_ids[_]\n",
    "    banana_temp = APIfetch.fetch_data(params)\n",
    "    if 'filter' in params:\n",
    "        del banana_temp['description.{}'.format(params['filter'])]\n",
    "    else:\n",
    "        del banana_temp['description']\n",
    "    # add the _state suffix to column names:\n",
    "    banana_temp.columns = [col +'_'+_[_.index('_')+1:] for col in banana_temp.columns]\n",
    "    banana_temp = banana_temp.sort_index()\n",
    "    # prevent some weird pandas 'feature' from resampling the df:\n",
    "    banana_temp = banana_temp.apply(pd.to_numeric,                       errors='coerce')\n",
    "    weather_dict[_] = banana_temp.resample('60T').mean()"
   ]
  },
  {
   "cell_type": "code",
   "execution_count": 4,
   "metadata": {},
   "outputs": [],
   "source": [
    "# join all electricity data\n",
    "df_elec = electricity_dict['electricity_NSW'].join(electricity_dict['electricity_QLD'])\n",
    "df_elec = df_elec.join(electricity_dict['electricity_VIC'])\n",
    "df_elec = df_elec.join(electricity_dict['electricity_SA'])\n",
    "df_elec = doodahs.create_diffs(df_elec, list(range(len(df_elec.columns))))\n",
    "\n",
    "# join all forecast data\n",
    "df_fore = forecast_dict['electricity_NSW'].join(forecast_dict['electricity_QLD'])\n",
    "df_fore = df_fore.join(forecast_dict['electricity_VIC'])\n",
    "df_fore = df_fore.join(forecast_dict['electricity_SA'])\n",
    "df_fore = doodahs.create_diffs(df_fore, list(range(len(df_fore.columns))))\n",
    "\n",
    "# outer join for all weather data\n",
    "df_weather = weather_dict['weather_NSW'].join(weather_dict['weather_QLD'])\n",
    "df_weather = df_weather.join(weather_dict['weather_VIC'])\n",
    "df_weather = df_weather.join(weather_dict['weather_SA'])\n",
    "df_weather = doodahs.create_diffs(df_weather, list(range(len(df_weather.columns))))"
   ]
  },
  {
   "cell_type": "code",
   "execution_count": 5,
   "metadata": {},
   "outputs": [
    {
     "name": "stdout",
     "output_type": "stream",
     "text": "elec shape:  (738, 12)\ny shape:  (738, 4)\ndf_all shape:  (699, 76)\n"
    }
   ],
   "source": [
    "# re-sort dataset columns and extract test data y\n",
    "df_elec = df_elec.reindex(sorted(df_elec.columns), axis=1)\n",
    "y = df_elec.iloc[:,8:12]\n",
    "for _ in y.columns:\n",
    "    del df_elec[_]\n",
    "\n",
    "print('elec shape: ',df_elec.shape)\n",
    "print('y shape: ',y.shape)\n",
    "\n",
    "# Create complete dataset of all train variables\n",
    "df_all = df_weather.join(df_elec)\n",
    "df_all = df_all.join(df_fore)\n",
    "\n",
    "print('df_all shape: ',df_all.shape)"
   ]
  },
  {
   "cell_type": "code",
   "execution_count": 6,
   "metadata": {},
   "outputs": [
    {
     "data": {
      "text/plain": "(551, 4)"
     },
     "execution_count": 6,
     "metadata": {},
     "output_type": "execute_result"
    }
   ],
   "source": [
    "# ensure equal shape on both X & Y, so both train and test data share the same timeframe\n",
    "df_all = df_all.dropna()\n",
    "y = y[y.index.isin(df_all.index)]\n",
    "#y = y[(y.index>=df_all.index[0]) & (y.index<=df_all.index[-1])]\n",
    "assert all(dat in df_all.index for dat in y.index), 'Index differs for df_all and y!'\n",
    "y.shape"
   ]
  },
  {
   "cell_type": "markdown",
   "execution_count": null,
   "metadata": {},
   "outputs": [],
   "source": [
    "## Creating Linear, NN and CNN models:"
   ]
  },
  {
   "cell_type": "code",
   "execution_count": 7,
   "metadata": {},
   "outputs": [],
   "source": [
    "# Calculate correlations to price for slim and nimble multi-linear model:\n",
    "corr_NSW = (df_all.join(y.iloc[:,0])).corr()\n",
    "corr_QLD = (df_all.join(y.iloc[:,1])).corr()\n",
    "corr_SA = (df_all.join(y.iloc[:,2])).corr()\n",
    "corr_VIC = (df_all.join(y.iloc[:,3])).corr()"
   ]
  },
  {
   "cell_type": "code",
   "execution_count": 8,
   "metadata": {},
   "outputs": [],
   "source": [
    "##Define data ranges for train, validation, and test set:\n",
    "\n",
    "# data the model will be trained on (corresponding columns)\n",
    "train_from = 0\n",
    "train_to = floor(0.9 * df_all.shape[0])\n",
    "# data the current model (read: weights) are validated on\n",
    "valid_from = floor(0.9 * df_all.shape[0])+1\n",
    "valid_to = floor(0.95 * df_all.shape[0])\n",
    "# data the final fit will be tested on, to make predictions for the last timesteps\n",
    "test_from = floor(0.95 * df_all.shape[0])+1\n",
    "test_to = df_all.shape[0]"
   ]
  },
  {
   "cell_type": "code",
   "execution_count": 9,
   "metadata": {},
   "outputs": [
    {
     "data": {
      "text/plain": "Index(['price_NSW', 'price_QLD', 'price_SA', 'price_VIC'], dtype='object')"
     },
     "execution_count": 9,
     "metadata": {},
     "output_type": "execute_result"
    }
   ],
   "source": [
    "# error check:\n",
    "y.columns"
   ]
  },
  {
   "cell_type": "markdown",
   "execution_count": null,
   "metadata": {},
   "outputs": [],
   "source": [
    "### Fitting a multivariate linear model to the top i variables with the highest correlation to 'price_STATE':\n",
    "(caveat: ignoring the time-like structure of the problem. No hard-coded time-structure, effectively not extrapolating to later times, but intrapolating to similar times.)"
   ]
  },
  {
   "cell_type": "code",
   "execution_count": 12,
   "metadata": {},
   "outputs": [],
   "source": [
    "# Fitting a multivariate linear model to the top i variables with the highest correlation to 'price_NSW':\n",
    "\n",
    "state_dict = {'NSW': corr_NSW, 'QLD': corr_QLD, 'VIC': corr_VIC, 'SA': corr_SA}\n",
    "# df containing the predicted values with correct timestamps:\n",
    "lin_pred_df = pd.DataFrame(index=df_all.index[test_from:test_to])\n",
    "\n",
    "# predict for eacht state according to \n",
    "for _ in y.columns:\n",
    "    # extract state string:\n",
    "    state = _[_.index('_')+1:]\n",
    "    # select 8 vars with highest correlation to electricity spot price in state:\n",
    "    banana = list(state_dict[state][_].sort_values(ascending=False)[1:20].index)\n",
    "    # create training, validation and validation features:\n",
    "    training_x = df_all[banana].iloc[train_from:train_to,:]\n",
    "    training_y = y[[_]].iloc[train_from:train_to,:]\n",
    "    validation_x = df_all[banana].iloc[valid_from:valid_to,:]\n",
    "    test_data = y[[_]].iloc[test_from:test_to,:]\n",
    "\n",
    "    # get the (model, predictions) from the fit:\n",
    "    lin1, lin1_pred = doodahs.linear_model_predictions(training_x, training_y, validation_x)\n",
    "    \n",
    "    # mean absolute error and relative rror:\n",
    "    mae = doodahs.model_MAE(lin1, lin1_pred, test_data)\n",
    "    rel = doodahs.rel_error(lin1, lin1_pred, test_data)\n",
    "    \n",
    "    # save model to folder ./5_models:\n",
    "    now = datetime.now()\n",
    "    dump(lin1, f'./5_models/{state}-lin-model-{now:y%Y-m%m-d%d-h%H-m%M}-error{mae:.1f}.joblib') # load model by using load('./folder/filename')\n",
    "\n",
    "    # save predictions to df:\n",
    "    temp_str = ''.join([state,'_linModel-inferred'])\n",
    "    lin_pred_df[temp_str] = lin1_pred.reshape((len(lin1_pred)))\n",
    "\n",
    "# ...and also save preds to csv:\n",
    "lin_pred_df.to_csv('./6_predictions/lin-Model-predictions-{now:y%Y-m%m-d%d-h%H-m%M}.csv', header=True, index=True)\n"
   ]
  },
  {
   "cell_type": "markdown",
   "execution_count": null,
   "metadata": {},
   "outputs": [],
   "source": [
    "### Fitting a random forest regressor model to the data for all 'price_STATE':"
   ]
  },
  {
   "cell_type": "code",
   "execution_count": 14,
   "metadata": {},
   "outputs": [],
   "source": [
    "# Fitting a Random Forest to the entire 60 variable dataset, testing for the influence of the train/test split:\n",
    "\n",
    "# create predictions df:\n",
    "RFR_pred_df = pd.DataFrame(index=test_data.index)\n",
    "\n",
    "# loop over different states:\n",
    "for _ in y.columns:\n",
    "    # create state string:\n",
    "    state = _[_.index('_')+1:]\n",
    "\n",
    "    # select vars with higher correlation to electricity spot price in state to improve preds:\n",
    "    banana = list(state_dict[state][_].sort_values(ascending=False)[1:20].index)    \n",
    "    # create train, test data (validation data is intrinsic due to oob):\n",
    "    training_x = df_all[banana].iloc[0:valid_to,:]\n",
    "    training_y = y[[_]].iloc[0:valid_to,:]\n",
    "    test_x = df_all[banana].iloc[test_from:test_to,:]\n",
    "\n",
    "    RFR = RandomForestRegressor(n_estimators=1000, random_state=42)\n",
    "    RFR.fit(training_x, np.ravel(training_y))\n",
    "    RFR_pred = RFR.predict(test_x)\n",
    "\n",
    "    # save predictions to predictions dataframe:\n",
    "    temp_str = ''.join([state,'_RFRModel-inferred'])\n",
    "    RFR_pred_df[temp_str] = RFR_pred#.reshape((len(lin1_pred)))\n",
    "\n",
    "    mae = doodahs.model_MAE(RFR,RFR_pred.reshape((len(RFR_pred),1)),test_x)\n",
    "    rel = doodahs.rel_error(RFR,RFR_pred.reshape((len(RFR_pred),1)),test_x)\n",
    "\n",
    "    # save model to folder ./5_models:\n",
    "    now = datetime.now()\n",
    "    dump(RFR, f'./5_models/{state}-RFR-model-{now:y%Y-m%m-d%d-h%H-m%M}-error{mae:.1f}.joblib') # load model by using load('./folder/filename')\n",
    "\n",
    "RFR_pred_df.to_csv('./6_predictions/RFR-Model-predictions-{now:y%Y-m%m-d%d-h%H-m%M}.csv', header=True, index=True)"
   ]
  },
  {
   "cell_type": "code",
   "execution_count": 154,
   "metadata": {},
   "outputs": [],
   "source": [
    "# RFR.feature_importances_\n",
    "# apple = pd.DataFrame()\n",
    "# apple['feature'] = [*temp_df.iloc[:,1:16].columns]#,'testfeature']\n",
    "# apple['importance'] = [*RFR.feature_importances_]\n",
    "# apple.sort_values(by=['importance'], ascending=False)"
   ]
  },
  {
   "cell_type": "markdown",
   "execution_count": 18,
   "metadata": {},
   "outputs": [
    {
     "data": {
      "text/plain": "['scheduledGeneration_QLD',\n 'scheduledGeneration_VIC',\n 'scheduledGeneration_SA',\n 'd_scheduledGeneration_SA',\n 'd_price_VIC',\n 'd_scheduledGeneration_VIC',\n 'scheduledGeneration_NSW',\n 'd_price_NSW',\n 'd_pressure_NSW',\n 'windSpeed_NSW',\n 'd_scheduledGeneration_QLD',\n 'd_pressure_QLD',\n 'd_scheduledGeneration_NSW',\n 'windSpeed_QLD',\n 'd_price_QLD',\n 'cloudCover_VIC',\n 'temperature_SA',\n 'temperature_VIC',\n 'd_price_SA',\n 'windSpeed_VIC',\n 'windSpeed_SA',\n 'd_pressure_VIC',\n 'd_cloudCover_NSW',\n 'd_rainProb_SA',\n 'd_cloudCover_VIC',\n 'windDirection_SA',\n 'temperature_NSW',\n 'd_windDirection_QLD',\n 'd_cloudCover_SA',\n 'd_rainProb_VIC',\n 'rainProb_SA',\n 'rainProb_VIC',\n 'd_pressure_SA',\n 'cloudCover_SA',\n 'windDirection_QLD',\n 'windDirection_NSW',\n 'd_rainProb_NSW',\n 'temperature_QLD',\n 'd_windDirection_NSW',\n 'windDirection_VIC',\n 'd_cloudCover_QLD',\n 'd_windDirection_VIC',\n 'rainProb_QLD',\n 'cloudCover_NSW',\n 'pressure_VIC',\n 'pressure_SA',\n 'rainProb_NSW',\n 'd_windSpeed_NSW',\n 'd_windDirection_SA',\n 'pressure_NSW',\n 'd_rainProb_QLD',\n 'pressure_QLD',\n 'd_windSpeed_QLD',\n 'd_temperature_VIC',\n 'cloudCover_QLD',\n 'd_temperature_SA',\n 'd_temperature_NSW',\n 'd_windSpeed_SA',\n 'd_windSpeed_VIC']"
     },
     "execution_count": 18,
     "metadata": {},
     "output_type": "execute_result"
    }
   ],
   "source": [
    "#### CNN approach using multiple inputs, one output array:\n"
   ]
  },
  {
   "cell_type": "code",
   "execution_count": 15,
   "metadata": {},
   "outputs": [],
   "source": [
    "# split dates into year month day day of week hour, etc for additional features \n",
    "df_all = doodahs.split_dates_df(df_all,)\n",
    "\n",
    "# and this is what the new cols look like\n",
    "# df_all.iloc[:,-7:-1].head(1)"
   ]
  },
  {
   "cell_type": "code",
   "execution_count": 16,
   "metadata": {},
   "outputs": [],
   "source": [
    "# data is binned in 2h timesteps thus the following shifts:\n",
    "y_2h = doodahs.time_shift(y, 1)\n",
    "y_2h.name = 1\n",
    "y_6h = doodahs.time_shift(y, 3)\n",
    "y_6h.name = 3\n",
    "y_12h = doodahs.time_shift(y, 6)\n",
    "y_12h.name = 6\n",
    "y_24h = doodahs.time_shift(y, 12)\n",
    "y_24h.name = 12\n",
    "y_timeshift = [y_2h, y_6h, y_12h, y_24h]"
   ]
  },
  {
   "cell_type": "markdown",
   "execution_count": null,
   "metadata": {},
   "outputs": [],
   "source": [
    "Absolutely Rubbish, the accuracy yielded is atrocious.\n",
    "\n",
    "keras.preprocessing.sequence.TimeseriesGenerator(data, targets, length, sampling_rate=1, stride=1, start_index=0, end_index=None, shuffle=False, reverse=False, batch_size=128)\n"
   ]
  },
  {
   "cell_type": "code",
   "execution_count": 17,
   "metadata": {},
   "outputs": [],
   "source": [
    "# a bit dense, but it selects all cols containing the '_XXX' substring\n",
    "# creates a list thereof, unpacks it (* unpacks), then adds others\n",
    "# unnamde cols:\n",
    "df_NSW = df_all[[*df_all.columns[['_NSW' in a for a in df_all.columns]],'year', 'month', 'day', 'dayofweek','dayofyear', 'is_quarter_end', 'hour']]\n",
    "\n",
    "df_VIC = df_all[[*df_all.columns[['_VIC' in a for a in df_all.columns]],'year', 'month', 'day', 'dayofweek','dayofyear', 'is_quarter_end', 'hour']]\n",
    "\n",
    "df_QLD = df_all[[*df_all.columns[['_QLD' in a for a in df_all.columns]],'year', 'month', 'day', 'dayofweek','dayofyear', 'is_quarter_end', 'hour']]\n",
    "\n",
    "df_SA = df_all[[*df_all.columns[['_SA' in a for a in df_all.columns]],'year', 'month', 'day', 'dayofweek','dayofyear', 'is_quarter_end', 'hour']]"
   ]
  },
  {
   "cell_type": "code",
   "execution_count": 65,
   "metadata": {},
   "outputs": [],
   "source": [
    "#model_CNN.summary()"
   ]
  },
  {
   "cell_type": "code",
   "execution_count": 65,
   "metadata": {},
   "outputs": [],
   "source": [
    "import time\n",
    "batch_size = 24\n",
    "epochs = 500\n",
    "\n",
    "model_CNN = doodahs.func_CNN_1(df_QLD, nn_name='model_CNN')\n",
    "learning_rate = 0.2\n",
    "decay_rate = learning_rate/epochs\n",
    "momentum = 0.8\n",
    "sgd = SGD(lr=learning_rate, momentum=momentum, decay=decay_rate, nesterov=False)\n",
    "model_CNN.compile(loss='mse', optimizer=sgd, metrics=['accuracy'])\n",
    "\n",
    "start_time = time.time()\n",
    "NSW = doodahs.reshape_for_CNN(df_NSW)\n",
    "QLD = doodahs.reshape_for_CNN(df_QLD)\n",
    "VIC = doodahs.reshape_for_CNN(df_VIC)\n",
    "SA = doodahs.reshape_for_CNN(df_SA)\n",
    "\n",
    "# This model optimises for the mse for all four states to be minimal:\n",
    "history = model_CNN.fit([NSW[0:train_to,:], QLD[0:train_to,:], VIC[0:train_to,:], SA[0:train_to,:]], y.iloc[0:train_to,:],\n",
    "          validation_data=([NSW[valid_from:valid_to,:],\n",
    "           QLD[valid_from:valid_to,:], \n",
    "           VIC[valid_from:valid_to,:], \n",
    "           SA[valid_from:valid_to,:]],\n",
    "           y.iloc[valid_from:valid_to,:]),\n",
    "          batch_size=batch_size,\n",
    "          epochs=epochs,\n",
    "          verbose=0)\n",
    "\n",
    "print(\"--- {} seconds passed ---\".format(time.time() - start_time))\n",
    "\n",
    "# score = model_CNN.evaluate([NSW[201:213,:], QLD[201:213,:], VIC[201:213,:], SA[201:213,:]], y.iloc[201:213,:], verbose=0)\n",
    "# print('Test loss:', score[0])\n",
    "# print('Test accuracy:', score[1])\n",
    "\n",
    "predictions = model_CNN.predict([NSW[test_from:test_to,:], QLD[test_from:test_to,:], VIC[test_from:test_to,:], SA[test_from:test_to,:]])\n",
    "\n",
    "# save model to folder ./5_models:\n",
    "now = datetime.now()\n",
    "model_CNN.save(f'./5_models/CNN_1-model-epochs{epochs}-{now:y%Y-m%m-d%d-h%H-m%M}.h5')\n",
    "# load model by using: \n",
    "# models.load_model('./5_models/CNN_1-model-y2019-m12-d17-h09-m20.h5')\n",
    "\n",
    "CNN_1_pred_df = pd.DataFrame(predictions, columns=y.columns, index=y.iloc[test_from:test_to,:].index)\n",
    "CNN_1_pred_df.to_csv(f'./6_predictions/CNN_1-Model-predictions-epochs{epochs}-{now:y%Y-m%m-d%d-h%H-m%M}.csv', header=True, index=True)"
   ]
  },
  {
   "cell_type": "code",
   "execution_count": 55,
   "metadata": {},
   "outputs": [
    {
     "name": "stdout",
     "output_type": "stream",
     "text": "--- MAE ($) of\n price_NSW   NaN\nprice_QLD   NaN\nprice_SA    NaN\nprice_VIC   NaN\ndtype: float64,\n\nwith a relative error of\nprice_NSW   NaN\nprice_QLD   NaN\nprice_SA    NaN\nprice_VIC   NaN\ndtype: float64 ---\n"
    }
   ],
   "source": [
    "mae, rel = doodahs.MAE_CNN(predictions, y.iloc[test_from:test_to,:])\n",
    "print('--- MAE ($) of\\n {0},\\n\\nwith a relative error of\\n{1} ---'.format(mae, rel))"
   ]
  },
  {
   "cell_type": "code",
   "execution_count": 54,
   "metadata": {},
   "outputs": [
    {
     "data": {
      "image/png": "[encoded data removed]",
      "image/svg+xml": "<?xml version=\"1.0\" encoding=\"utf-8\" standalone=\"no\"?>\n<!DOCTYPE svg PUBLIC \"-//W3C//DTD SVG 1.1//EN\"\n  \"http://www.w3.org/Graphics/SVG/1.1/DTD/svg11.dtd\">\n<!-- Created with matplotlib (https://matplotlib.org/) -->\n<svg height=\"277.314375pt\" version=\"1.1\" viewBox=\"0 0 385.78125 277.314375\" width=\"385.78125pt\" xmlns=\"http://www.w3.org/2000/svg\" xmlns:xlink=\"http://www.w3.org/1999/xlink\">\n <defs>\n  <style type=\"text/css\">\n*{stroke-linecap:butt;stroke-linejoin:round;}\n  </style>\n </defs>\n <g id=\"figure_1\">\n  <g id=\"patch_1\">\n   <path d=\"M 0 277.314375 \nL 385.78125 277.314375 \nL 385.78125 0 \nL 0 0 \nz\n\" style=\"fill:none;\"/>\n  </g>\n  <g id=\"axes_1\">\n   <g id=\"patch_2\">\n    <path d=\"M 43.78125 239.758125 \nL 378.58125 239.758125 \nL 378.58125 22.318125 \nL 43.78125 22.318125 \nz\n\" style=\"fill:#ffffff;\"/>\n   </g>\n   <g id=\"matplotlib.axis_1\">\n    <g id=\"xtick_1\">\n     <g id=\"line2d_1\">\n      <defs>\n       <path d=\"M 0 0 \nL 0 3.5 \n\" id=\"m79b6f1ea68\" style=\"stroke:#000000;stroke-width:0.8;\"/>\n      </defs>\n      <g>\n       <use style=\"stroke:#000000;stroke-width:0.8;\" x=\"72.834143\" xlink:href=\"#m79b6f1ea68\" y=\"239.758125\"/>\n      </g>\n     </g>\n     <g id=\"text_1\">\n      <!-- 0.0 -->\n      <defs>\n       <path d=\"M 31.78125 66.40625 \nQ 24.171875 66.40625 20.328125 58.90625 \nQ 16.5 51.421875 16.5 36.375 \nQ 16.5 21.390625 20.328125 13.890625 \nQ 24.171875 6.390625 31.78125 6.390625 \nQ 39.453125 6.390625 43.28125 13.890625 \nQ 47.125 21.390625 47.125 36.375 \nQ 47.125 51.421875 43.28125 58.90625 \nQ 39.453125 66.40625 31.78125 66.40625 \nz\nM 31.78125 74.21875 \nQ 44.046875 74.21875 50.515625 64.515625 \nQ 56.984375 54.828125 56.984375 36.375 \nQ 56.984375 17.96875 50.515625 8.265625 \nQ 44.046875 -1.421875 31.78125 -1.421875 \nQ 19.53125 -1.421875 13.0625 8.265625 \nQ 6.59375 17.96875 6.59375 36.375 \nQ 6.59375 54.828125 13.0625 64.515625 \nQ 19.53125 74.21875 31.78125 74.21875 \nz\n\" id=\"DejaVuSans-48\"/>\n       <path d=\"M 10.6875 12.40625 \nL 21 12.40625 \nL 21 0 \nL 10.6875 0 \nz\n\" id=\"DejaVuSans-46\"/>\n      </defs>\n      <g transform=\"translate(64.88258 254.356562)scale(0.1 -0.1)\">\n       <use xlink:href=\"#DejaVuSans-48\"/>\n       <use x=\"63.623047\" xlink:href=\"#DejaVuSans-46\"/>\n       <use x=\"95.410156\" xlink:href=\"#DejaVuSans-48\"/>\n      </g>\n     </g>\n    </g>\n    <g id=\"xtick_2\">\n     <g id=\"line2d_2\">\n      <g>\n       <use style=\"stroke:#000000;stroke-width:0.8;\" x=\"128.172986\" xlink:href=\"#m79b6f1ea68\" y=\"239.758125\"/>\n      </g>\n     </g>\n     <g id=\"text_2\">\n      <!-- 0.2 -->\n      <defs>\n       <path d=\"M 19.1875 8.296875 \nL 53.609375 8.296875 \nL 53.609375 0 \nL 7.328125 0 \nL 7.328125 8.296875 \nQ 12.9375 14.109375 22.625 23.890625 \nQ 32.328125 33.6875 34.8125 36.53125 \nQ 39.546875 41.84375 41.421875 45.53125 \nQ 43.3125 49.21875 43.3125 52.78125 \nQ 43.3125 58.59375 39.234375 62.25 \nQ 35.15625 65.921875 28.609375 65.921875 \nQ 23.96875 65.921875 18.8125 64.3125 \nQ 13.671875 62.703125 7.8125 59.421875 \nL 7.8125 69.390625 \nQ 13.765625 71.78125 18.9375 73 \nQ 24.125 74.21875 28.421875 74.21875 \nQ 39.75 74.21875 46.484375 68.546875 \nQ 53.21875 62.890625 53.21875 53.421875 \nQ 53.21875 48.921875 51.53125 44.890625 \nQ 49.859375 40.875 45.40625 35.40625 \nQ 44.1875 33.984375 37.640625 27.21875 \nQ 31.109375 20.453125 19.1875 8.296875 \nz\n\" id=\"DejaVuSans-50\"/>\n      </defs>\n      <g transform=\"translate(120.221423 254.356562)scale(0.1 -0.1)\">\n       <use xlink:href=\"#DejaVuSans-48\"/>\n       <use x=\"63.623047\" xlink:href=\"#DejaVuSans-46\"/>\n       <use x=\"95.410156\" xlink:href=\"#DejaVuSans-50\"/>\n      </g>\n     </g>\n    </g>\n    <g id=\"xtick_3\">\n     <g id=\"line2d_3\">\n      <g>\n       <use style=\"stroke:#000000;stroke-width:0.8;\" x=\"183.511829\" xlink:href=\"#m79b6f1ea68\" y=\"239.758125\"/>\n      </g>\n     </g>\n     <g id=\"text_3\">\n      <!-- 0.4 -->\n      <defs>\n       <path d=\"M 37.796875 64.3125 \nL 12.890625 25.390625 \nL 37.796875 25.390625 \nz\nM 35.203125 72.90625 \nL 47.609375 72.90625 \nL 47.609375 25.390625 \nL 58.015625 25.390625 \nL 58.015625 17.1875 \nL 47.609375 17.1875 \nL 47.609375 0 \nL 37.796875 0 \nL 37.796875 17.1875 \nL 4.890625 17.1875 \nL 4.890625 26.703125 \nz\n\" id=\"DejaVuSans-52\"/>\n      </defs>\n      <g transform=\"translate(175.560266 254.356562)scale(0.1 -0.1)\">\n       <use xlink:href=\"#DejaVuSans-48\"/>\n       <use x=\"63.623047\" xlink:href=\"#DejaVuSans-46\"/>\n       <use x=\"95.410156\" xlink:href=\"#DejaVuSans-52\"/>\n      </g>\n     </g>\n    </g>\n    <g id=\"xtick_4\">\n     <g id=\"line2d_4\">\n      <g>\n       <use style=\"stroke:#000000;stroke-width:0.8;\" x=\"238.850671\" xlink:href=\"#m79b6f1ea68\" y=\"239.758125\"/>\n      </g>\n     </g>\n     <g id=\"text_4\">\n      <!-- 0.6 -->\n      <defs>\n       <path d=\"M 33.015625 40.375 \nQ 26.375 40.375 22.484375 35.828125 \nQ 18.609375 31.296875 18.609375 23.390625 \nQ 18.609375 15.53125 22.484375 10.953125 \nQ 26.375 6.390625 33.015625 6.390625 \nQ 39.65625 6.390625 43.53125 10.953125 \nQ 47.40625 15.53125 47.40625 23.390625 \nQ 47.40625 31.296875 43.53125 35.828125 \nQ 39.65625 40.375 33.015625 40.375 \nz\nM 52.59375 71.296875 \nL 52.59375 62.3125 \nQ 48.875 64.0625 45.09375 64.984375 \nQ 41.3125 65.921875 37.59375 65.921875 \nQ 27.828125 65.921875 22.671875 59.328125 \nQ 17.53125 52.734375 16.796875 39.40625 \nQ 19.671875 43.65625 24.015625 45.921875 \nQ 28.375 48.1875 33.59375 48.1875 \nQ 44.578125 48.1875 50.953125 41.515625 \nQ 57.328125 34.859375 57.328125 23.390625 \nQ 57.328125 12.15625 50.6875 5.359375 \nQ 44.046875 -1.421875 33.015625 -1.421875 \nQ 20.359375 -1.421875 13.671875 8.265625 \nQ 6.984375 17.96875 6.984375 36.375 \nQ 6.984375 53.65625 15.1875 63.9375 \nQ 23.390625 74.21875 37.203125 74.21875 \nQ 40.921875 74.21875 44.703125 73.484375 \nQ 48.484375 72.75 52.59375 71.296875 \nz\n\" id=\"DejaVuSans-54\"/>\n      </defs>\n      <g transform=\"translate(230.899109 254.356562)scale(0.1 -0.1)\">\n       <use xlink:href=\"#DejaVuSans-48\"/>\n       <use x=\"63.623047\" xlink:href=\"#DejaVuSans-46\"/>\n       <use x=\"95.410156\" xlink:href=\"#DejaVuSans-54\"/>\n      </g>\n     </g>\n    </g>\n    <g id=\"xtick_5\">\n     <g id=\"line2d_5\">\n      <g>\n       <use style=\"stroke:#000000;stroke-width:0.8;\" x=\"294.189514\" xlink:href=\"#m79b6f1ea68\" y=\"239.758125\"/>\n      </g>\n     </g>\n     <g id=\"text_5\">\n      <!-- 0.8 -->\n      <defs>\n       <path d=\"M 31.78125 34.625 \nQ 24.75 34.625 20.71875 30.859375 \nQ 16.703125 27.09375 16.703125 20.515625 \nQ 16.703125 13.921875 20.71875 10.15625 \nQ 24.75 6.390625 31.78125 6.390625 \nQ 38.8125 6.390625 42.859375 10.171875 \nQ 46.921875 13.96875 46.921875 20.515625 \nQ 46.921875 27.09375 42.890625 30.859375 \nQ 38.875 34.625 31.78125 34.625 \nz\nM 21.921875 38.8125 \nQ 15.578125 40.375 12.03125 44.71875 \nQ 8.5 49.078125 8.5 55.328125 \nQ 8.5 64.0625 14.71875 69.140625 \nQ 20.953125 74.21875 31.78125 74.21875 \nQ 42.671875 74.21875 48.875 69.140625 \nQ 55.078125 64.0625 55.078125 55.328125 \nQ 55.078125 49.078125 51.53125 44.71875 \nQ 48 40.375 41.703125 38.8125 \nQ 48.828125 37.15625 52.796875 32.3125 \nQ 56.78125 27.484375 56.78125 20.515625 \nQ 56.78125 9.90625 50.3125 4.234375 \nQ 43.84375 -1.421875 31.78125 -1.421875 \nQ 19.734375 -1.421875 13.25 4.234375 \nQ 6.78125 9.90625 6.78125 20.515625 \nQ 6.78125 27.484375 10.78125 32.3125 \nQ 14.796875 37.15625 21.921875 38.8125 \nz\nM 18.3125 54.390625 \nQ 18.3125 48.734375 21.84375 45.5625 \nQ 25.390625 42.390625 31.78125 42.390625 \nQ 38.140625 42.390625 41.71875 45.5625 \nQ 45.3125 48.734375 45.3125 54.390625 \nQ 45.3125 60.0625 41.71875 63.234375 \nQ 38.140625 66.40625 31.78125 66.40625 \nQ 25.390625 66.40625 21.84375 63.234375 \nQ 18.3125 60.0625 18.3125 54.390625 \nz\n\" id=\"DejaVuSans-56\"/>\n      </defs>\n      <g transform=\"translate(286.237952 254.356562)scale(0.1 -0.1)\">\n       <use xlink:href=\"#DejaVuSans-48\"/>\n       <use x=\"63.623047\" xlink:href=\"#DejaVuSans-46\"/>\n       <use x=\"95.410156\" xlink:href=\"#DejaVuSans-56\"/>\n      </g>\n     </g>\n    </g>\n    <g id=\"xtick_6\">\n     <g id=\"line2d_6\">\n      <g>\n       <use style=\"stroke:#000000;stroke-width:0.8;\" x=\"349.528357\" xlink:href=\"#m79b6f1ea68\" y=\"239.758125\"/>\n      </g>\n     </g>\n     <g id=\"text_6\">\n      <!-- 1.0 -->\n      <defs>\n       <path d=\"M 12.40625 8.296875 \nL 28.515625 8.296875 \nL 28.515625 63.921875 \nL 10.984375 60.40625 \nL 10.984375 69.390625 \nL 28.421875 72.90625 \nL 38.28125 72.90625 \nL 38.28125 8.296875 \nL 54.390625 8.296875 \nL 54.390625 0 \nL 12.40625 0 \nz\n\" id=\"DejaVuSans-49\"/>\n      </defs>\n      <g transform=\"translate(341.576795 254.356562)scale(0.1 -0.1)\">\n       <use xlink:href=\"#DejaVuSans-49\"/>\n       <use x=\"63.623047\" xlink:href=\"#DejaVuSans-46\"/>\n       <use x=\"95.410156\" xlink:href=\"#DejaVuSans-48\"/>\n      </g>\n     </g>\n    </g>\n    <g id=\"text_7\">\n     <!-- Epoch -->\n     <defs>\n      <path d=\"M 9.8125 72.90625 \nL 55.90625 72.90625 \nL 55.90625 64.59375 \nL 19.671875 64.59375 \nL 19.671875 43.015625 \nL 54.390625 43.015625 \nL 54.390625 34.71875 \nL 19.671875 34.71875 \nL 19.671875 8.296875 \nL 56.78125 8.296875 \nL 56.78125 0 \nL 9.8125 0 \nz\n\" id=\"DejaVuSans-69\"/>\n      <path d=\"M 18.109375 8.203125 \nL 18.109375 -20.796875 \nL 9.078125 -20.796875 \nL 9.078125 54.6875 \nL 18.109375 54.6875 \nL 18.109375 46.390625 \nQ 20.953125 51.265625 25.265625 53.625 \nQ 29.59375 56 35.59375 56 \nQ 45.5625 56 51.78125 48.09375 \nQ 58.015625 40.1875 58.015625 27.296875 \nQ 58.015625 14.40625 51.78125 6.484375 \nQ 45.5625 -1.421875 35.59375 -1.421875 \nQ 29.59375 -1.421875 25.265625 0.953125 \nQ 20.953125 3.328125 18.109375 8.203125 \nz\nM 48.6875 27.296875 \nQ 48.6875 37.203125 44.609375 42.84375 \nQ 40.53125 48.484375 33.40625 48.484375 \nQ 26.265625 48.484375 22.1875 42.84375 \nQ 18.109375 37.203125 18.109375 27.296875 \nQ 18.109375 17.390625 22.1875 11.75 \nQ 26.265625 6.109375 33.40625 6.109375 \nQ 40.53125 6.109375 44.609375 11.75 \nQ 48.6875 17.390625 48.6875 27.296875 \nz\n\" id=\"DejaVuSans-112\"/>\n      <path d=\"M 30.609375 48.390625 \nQ 23.390625 48.390625 19.1875 42.75 \nQ 14.984375 37.109375 14.984375 27.296875 \nQ 14.984375 17.484375 19.15625 11.84375 \nQ 23.34375 6.203125 30.609375 6.203125 \nQ 37.796875 6.203125 41.984375 11.859375 \nQ 46.1875 17.53125 46.1875 27.296875 \nQ 46.1875 37.015625 41.984375 42.703125 \nQ 37.796875 48.390625 30.609375 48.390625 \nz\nM 30.609375 56 \nQ 42.328125 56 49.015625 48.375 \nQ 55.71875 40.765625 55.71875 27.296875 \nQ 55.71875 13.875 49.015625 6.21875 \nQ 42.328125 -1.421875 30.609375 -1.421875 \nQ 18.84375 -1.421875 12.171875 6.21875 \nQ 5.515625 13.875 5.515625 27.296875 \nQ 5.515625 40.765625 12.171875 48.375 \nQ 18.84375 56 30.609375 56 \nz\n\" id=\"DejaVuSans-111\"/>\n      <path d=\"M 48.78125 52.59375 \nL 48.78125 44.1875 \nQ 44.96875 46.296875 41.140625 47.34375 \nQ 37.3125 48.390625 33.40625 48.390625 \nQ 24.65625 48.390625 19.8125 42.84375 \nQ 14.984375 37.3125 14.984375 27.296875 \nQ 14.984375 17.28125 19.8125 11.734375 \nQ 24.65625 6.203125 33.40625 6.203125 \nQ 37.3125 6.203125 41.140625 7.25 \nQ 44.96875 8.296875 48.78125 10.40625 \nL 48.78125 2.09375 \nQ 45.015625 0.34375 40.984375 -0.53125 \nQ 36.96875 -1.421875 32.421875 -1.421875 \nQ 20.0625 -1.421875 12.78125 6.34375 \nQ 5.515625 14.109375 5.515625 27.296875 \nQ 5.515625 40.671875 12.859375 48.328125 \nQ 20.21875 56 33.015625 56 \nQ 37.15625 56 41.109375 55.140625 \nQ 45.0625 54.296875 48.78125 52.59375 \nz\n\" id=\"DejaVuSans-99\"/>\n      <path d=\"M 54.890625 33.015625 \nL 54.890625 0 \nL 45.90625 0 \nL 45.90625 32.71875 \nQ 45.90625 40.484375 42.875 44.328125 \nQ 39.84375 48.1875 33.796875 48.1875 \nQ 26.515625 48.1875 22.3125 43.546875 \nQ 18.109375 38.921875 18.109375 30.90625 \nL 18.109375 0 \nL 9.078125 0 \nL 9.078125 75.984375 \nL 18.109375 75.984375 \nL 18.109375 46.1875 \nQ 21.34375 51.125 25.703125 53.5625 \nQ 30.078125 56 35.796875 56 \nQ 45.21875 56 50.046875 50.171875 \nQ 54.890625 44.34375 54.890625 33.015625 \nz\n\" id=\"DejaVuSans-104\"/>\n     </defs>\n     <g transform=\"translate(195.870313 268.034687)scale(0.1 -0.1)\">\n      <use xlink:href=\"#DejaVuSans-69\"/>\n      <use x=\"63.183594\" xlink:href=\"#DejaVuSans-112\"/>\n      <use x=\"126.660156\" xlink:href=\"#DejaVuSans-111\"/>\n      <use x=\"187.841797\" xlink:href=\"#DejaVuSans-99\"/>\n      <use x=\"242.822266\" xlink:href=\"#DejaVuSans-104\"/>\n     </g>\n    </g>\n   </g>\n   <g id=\"matplotlib.axis_2\">\n    <g id=\"ytick_1\">\n     <g id=\"line2d_7\">\n      <defs>\n       <path d=\"M 0 0 \nL -3.5 0 \n\" id=\"m6c55f4b4c4\" style=\"stroke:#000000;stroke-width:0.8;\"/>\n      </defs>\n      <g>\n       <use style=\"stroke:#000000;stroke-width:0.8;\" x=\"43.78125\" xlink:href=\"#m6c55f4b4c4\" y=\"220.889365\"/>\n      </g>\n     </g>\n     <g id=\"text_8\">\n      <!-- 0.0 -->\n      <g transform=\"translate(20.878125 224.688583)scale(0.1 -0.1)\">\n       <use xlink:href=\"#DejaVuSans-48\"/>\n       <use x=\"63.623047\" xlink:href=\"#DejaVuSans-46\"/>\n       <use x=\"95.410156\" xlink:href=\"#DejaVuSans-48\"/>\n      </g>\n     </g>\n    </g>\n    <g id=\"ytick_2\">\n     <g id=\"line2d_8\">\n      <g>\n       <use style=\"stroke:#000000;stroke-width:0.8;\" x=\"43.78125\" xlink:href=\"#m6c55f4b4c4\" y=\"184.948869\"/>\n      </g>\n     </g>\n     <g id=\"text_9\">\n      <!-- 0.2 -->\n      <g transform=\"translate(20.878125 188.748088)scale(0.1 -0.1)\">\n       <use xlink:href=\"#DejaVuSans-48\"/>\n       <use x=\"63.623047\" xlink:href=\"#DejaVuSans-46\"/>\n       <use x=\"95.410156\" xlink:href=\"#DejaVuSans-50\"/>\n      </g>\n     </g>\n    </g>\n    <g id=\"ytick_3\">\n     <g id=\"line2d_9\">\n      <g>\n       <use style=\"stroke:#000000;stroke-width:0.8;\" x=\"43.78125\" xlink:href=\"#m6c55f4b4c4\" y=\"149.008373\"/>\n      </g>\n     </g>\n     <g id=\"text_10\">\n      <!-- 0.4 -->\n      <g transform=\"translate(20.878125 152.807592)scale(0.1 -0.1)\">\n       <use xlink:href=\"#DejaVuSans-48\"/>\n       <use x=\"63.623047\" xlink:href=\"#DejaVuSans-46\"/>\n       <use x=\"95.410156\" xlink:href=\"#DejaVuSans-52\"/>\n      </g>\n     </g>\n    </g>\n    <g id=\"ytick_4\">\n     <g id=\"line2d_10\">\n      <g>\n       <use style=\"stroke:#000000;stroke-width:0.8;\" x=\"43.78125\" xlink:href=\"#m6c55f4b4c4\" y=\"113.067877\"/>\n      </g>\n     </g>\n     <g id=\"text_11\">\n      <!-- 0.6 -->\n      <g transform=\"translate(20.878125 116.867096)scale(0.1 -0.1)\">\n       <use xlink:href=\"#DejaVuSans-48\"/>\n       <use x=\"63.623047\" xlink:href=\"#DejaVuSans-46\"/>\n       <use x=\"95.410156\" xlink:href=\"#DejaVuSans-54\"/>\n      </g>\n     </g>\n    </g>\n    <g id=\"ytick_5\">\n     <g id=\"line2d_11\">\n      <g>\n       <use style=\"stroke:#000000;stroke-width:0.8;\" x=\"43.78125\" xlink:href=\"#m6c55f4b4c4\" y=\"77.127381\"/>\n      </g>\n     </g>\n     <g id=\"text_12\">\n      <!-- 0.8 -->\n      <g transform=\"translate(20.878125 80.9266)scale(0.1 -0.1)\">\n       <use xlink:href=\"#DejaVuSans-48\"/>\n       <use x=\"63.623047\" xlink:href=\"#DejaVuSans-46\"/>\n       <use x=\"95.410156\" xlink:href=\"#DejaVuSans-56\"/>\n      </g>\n     </g>\n    </g>\n    <g id=\"ytick_6\">\n     <g id=\"line2d_12\">\n      <g>\n       <use style=\"stroke:#000000;stroke-width:0.8;\" x=\"43.78125\" xlink:href=\"#m6c55f4b4c4\" y=\"41.186885\"/>\n      </g>\n     </g>\n     <g id=\"text_13\">\n      <!-- 1.0 -->\n      <g transform=\"translate(20.878125 44.986104)scale(0.1 -0.1)\">\n       <use xlink:href=\"#DejaVuSans-49\"/>\n       <use x=\"63.623047\" xlink:href=\"#DejaVuSans-46\"/>\n       <use x=\"95.410156\" xlink:href=\"#DejaVuSans-48\"/>\n      </g>\n     </g>\n    </g>\n    <g id=\"text_14\">\n     <!-- Loss ($) -->\n     <defs>\n      <path d=\"M 9.8125 72.90625 \nL 19.671875 72.90625 \nL 19.671875 8.296875 \nL 55.171875 8.296875 \nL 55.171875 0 \nL 9.8125 0 \nz\n\" id=\"DejaVuSans-76\"/>\n      <path d=\"M 44.28125 53.078125 \nL 44.28125 44.578125 \nQ 40.484375 46.53125 36.375 47.5 \nQ 32.28125 48.484375 27.875 48.484375 \nQ 21.1875 48.484375 17.84375 46.4375 \nQ 14.5 44.390625 14.5 40.28125 \nQ 14.5 37.15625 16.890625 35.375 \nQ 19.28125 33.59375 26.515625 31.984375 \nL 29.59375 31.296875 \nQ 39.15625 29.25 43.1875 25.515625 \nQ 47.21875 21.78125 47.21875 15.09375 \nQ 47.21875 7.46875 41.1875 3.015625 \nQ 35.15625 -1.421875 24.609375 -1.421875 \nQ 20.21875 -1.421875 15.453125 -0.5625 \nQ 10.6875 0.296875 5.421875 2 \nL 5.421875 11.28125 \nQ 10.40625 8.6875 15.234375 7.390625 \nQ 20.0625 6.109375 24.8125 6.109375 \nQ 31.15625 6.109375 34.5625 8.28125 \nQ 37.984375 10.453125 37.984375 14.40625 \nQ 37.984375 18.0625 35.515625 20.015625 \nQ 33.0625 21.96875 24.703125 23.78125 \nL 21.578125 24.515625 \nQ 13.234375 26.265625 9.515625 29.90625 \nQ 5.8125 33.546875 5.8125 39.890625 \nQ 5.8125 47.609375 11.28125 51.796875 \nQ 16.75 56 26.8125 56 \nQ 31.78125 56 36.171875 55.265625 \nQ 40.578125 54.546875 44.28125 53.078125 \nz\n\" id=\"DejaVuSans-115\"/>\n      <path id=\"DejaVuSans-32\"/>\n      <path d=\"M 31 75.875 \nQ 24.46875 64.65625 21.28125 53.65625 \nQ 18.109375 42.671875 18.109375 31.390625 \nQ 18.109375 20.125 21.3125 9.0625 \nQ 24.515625 -2 31 -13.1875 \nL 23.1875 -13.1875 \nQ 15.875 -1.703125 12.234375 9.375 \nQ 8.59375 20.453125 8.59375 31.390625 \nQ 8.59375 42.28125 12.203125 53.3125 \nQ 15.828125 64.359375 23.1875 75.875 \nz\n\" id=\"DejaVuSans-40\"/>\n      <path d=\"M 33.796875 -14.703125 \nL 28.90625 -14.703125 \nL 28.859375 0 \nQ 23.734375 0.09375 18.609375 1.1875 \nQ 13.484375 2.296875 8.296875 4.5 \nL 8.296875 13.28125 \nQ 13.28125 10.15625 18.375 8.5625 \nQ 23.484375 6.984375 28.90625 6.9375 \nL 28.90625 29.203125 \nQ 18.109375 30.953125 13.203125 35.15625 \nQ 8.296875 39.359375 8.296875 46.6875 \nQ 8.296875 54.640625 13.625 59.21875 \nQ 18.953125 63.8125 28.90625 64.5 \nL 28.90625 75.984375 \nL 33.796875 75.984375 \nL 33.796875 64.65625 \nQ 38.328125 64.453125 42.578125 63.6875 \nQ 46.828125 62.9375 50.875 61.625 \nL 50.875 53.078125 \nQ 46.828125 55.125 42.546875 56.25 \nQ 38.28125 57.375 33.796875 57.5625 \nL 33.796875 36.71875 \nQ 44.875 35.015625 50.09375 30.609375 \nQ 55.328125 26.21875 55.328125 18.609375 \nQ 55.328125 10.359375 49.78125 5.59375 \nQ 44.234375 0.828125 33.796875 0.09375 \nz\nM 28.90625 37.59375 \nL 28.90625 57.625 \nQ 23.25 56.984375 20.265625 54.390625 \nQ 17.28125 51.8125 17.28125 47.515625 \nQ 17.28125 43.3125 20.03125 40.96875 \nQ 22.796875 38.625 28.90625 37.59375 \nz\nM 33.796875 28.21875 \nL 33.796875 7.078125 \nQ 39.984375 7.90625 43.140625 10.59375 \nQ 46.296875 13.28125 46.296875 17.671875 \nQ 46.296875 21.96875 43.28125 24.5 \nQ 40.28125 27.046875 33.796875 28.21875 \nz\n\" id=\"DejaVuSans-36\"/>\n      <path d=\"M 8.015625 75.875 \nL 15.828125 75.875 \nQ 23.140625 64.359375 26.78125 53.3125 \nQ 30.421875 42.28125 30.421875 31.390625 \nQ 30.421875 20.453125 26.78125 9.375 \nQ 23.140625 -1.703125 15.828125 -13.1875 \nL 8.015625 -13.1875 \nQ 14.5 -2 17.703125 9.0625 \nQ 20.90625 20.125 20.90625 31.390625 \nQ 20.90625 42.671875 17.703125 53.65625 \nQ 14.5 64.65625 8.015625 75.875 \nz\n\" id=\"DejaVuSans-41\"/>\n     </defs>\n     <g transform=\"translate(14.798438 150.763906)rotate(-90)scale(0.1 -0.1)\">\n      <use xlink:href=\"#DejaVuSans-76\"/>\n      <use x=\"55.697266\" xlink:href=\"#DejaVuSans-111\"/>\n      <use x=\"116.878906\" xlink:href=\"#DejaVuSans-115\"/>\n      <use x=\"168.978516\" xlink:href=\"#DejaVuSans-115\"/>\n      <use x=\"221.078125\" xlink:href=\"#DejaVuSans-32\"/>\n      <use x=\"252.865234\" xlink:href=\"#DejaVuSans-40\"/>\n      <use x=\"291.878906\" xlink:href=\"#DejaVuSans-36\"/>\n      <use x=\"355.501953\" xlink:href=\"#DejaVuSans-41\"/>\n     </g>\n    </g>\n   </g>\n   <g id=\"line2d_13\">\n    <path clip-path=\"url(#pc6c17c133c)\" d=\"M 0 0 \n\" style=\"fill:none;stroke:#1f77b4;stroke-linecap:square;stroke-width:1.5;\"/>\n   </g>\n   <g id=\"line2d_14\">\n    <path clip-path=\"url(#pc6c17c133c)\" d=\"M 0 0 \n\" style=\"fill:none;stroke:#ff7f0e;stroke-linecap:square;stroke-width:1.5;\"/>\n   </g>\n   <g id=\"patch_3\">\n    <path d=\"M 43.78125 239.758125 \nL 43.78125 22.318125 \n\" style=\"fill:none;stroke:#000000;stroke-linecap:square;stroke-linejoin:miter;stroke-width:0.8;\"/>\n   </g>\n   <g id=\"patch_4\">\n    <path d=\"M 378.58125 239.758125 \nL 378.58125 22.318125 \n\" style=\"fill:none;stroke:#000000;stroke-linecap:square;stroke-linejoin:miter;stroke-width:0.8;\"/>\n   </g>\n   <g id=\"patch_5\">\n    <path d=\"M 43.78125 239.758125 \nL 378.58125 239.758125 \n\" style=\"fill:none;stroke:#000000;stroke-linecap:square;stroke-linejoin:miter;stroke-width:0.8;\"/>\n   </g>\n   <g id=\"patch_6\">\n    <path d=\"M 43.78125 22.318125 \nL 378.58125 22.318125 \n\" style=\"fill:none;stroke:#000000;stroke-linecap:square;stroke-linejoin:miter;stroke-width:0.8;\"/>\n   </g>\n   <g id=\"text_15\">\n    <!-- Model loss -->\n    <defs>\n     <path d=\"M 9.8125 72.90625 \nL 24.515625 72.90625 \nL 43.109375 23.296875 \nL 61.8125 72.90625 \nL 76.515625 72.90625 \nL 76.515625 0 \nL 66.890625 0 \nL 66.890625 64.015625 \nL 48.09375 14.015625 \nL 38.1875 14.015625 \nL 19.390625 64.015625 \nL 19.390625 0 \nL 9.8125 0 \nz\n\" id=\"DejaVuSans-77\"/>\n     <path d=\"M 45.40625 46.390625 \nL 45.40625 75.984375 \nL 54.390625 75.984375 \nL 54.390625 0 \nL 45.40625 0 \nL 45.40625 8.203125 \nQ 42.578125 3.328125 38.25 0.953125 \nQ 33.9375 -1.421875 27.875 -1.421875 \nQ 17.96875 -1.421875 11.734375 6.484375 \nQ 5.515625 14.40625 5.515625 27.296875 \nQ 5.515625 40.1875 11.734375 48.09375 \nQ 17.96875 56 27.875 56 \nQ 33.9375 56 38.25 53.625 \nQ 42.578125 51.265625 45.40625 46.390625 \nz\nM 14.796875 27.296875 \nQ 14.796875 17.390625 18.875 11.75 \nQ 22.953125 6.109375 30.078125 6.109375 \nQ 37.203125 6.109375 41.296875 11.75 \nQ 45.40625 17.390625 45.40625 27.296875 \nQ 45.40625 37.203125 41.296875 42.84375 \nQ 37.203125 48.484375 30.078125 48.484375 \nQ 22.953125 48.484375 18.875 42.84375 \nQ 14.796875 37.203125 14.796875 27.296875 \nz\n\" id=\"DejaVuSans-100\"/>\n     <path d=\"M 56.203125 29.59375 \nL 56.203125 25.203125 \nL 14.890625 25.203125 \nQ 15.484375 15.921875 20.484375 11.0625 \nQ 25.484375 6.203125 34.421875 6.203125 \nQ 39.59375 6.203125 44.453125 7.46875 \nQ 49.3125 8.734375 54.109375 11.28125 \nL 54.109375 2.78125 \nQ 49.265625 0.734375 44.1875 -0.34375 \nQ 39.109375 -1.421875 33.890625 -1.421875 \nQ 20.796875 -1.421875 13.15625 6.1875 \nQ 5.515625 13.8125 5.515625 26.8125 \nQ 5.515625 40.234375 12.765625 48.109375 \nQ 20.015625 56 32.328125 56 \nQ 43.359375 56 49.78125 48.890625 \nQ 56.203125 41.796875 56.203125 29.59375 \nz\nM 47.21875 32.234375 \nQ 47.125 39.59375 43.09375 43.984375 \nQ 39.0625 48.390625 32.421875 48.390625 \nQ 24.90625 48.390625 20.390625 44.140625 \nQ 15.875 39.890625 15.1875 32.171875 \nz\n\" id=\"DejaVuSans-101\"/>\n     <path d=\"M 9.421875 75.984375 \nL 18.40625 75.984375 \nL 18.40625 0 \nL 9.421875 0 \nz\n\" id=\"DejaVuSans-108\"/>\n    </defs>\n    <g transform=\"translate(179.669062 16.318125)scale(0.12 -0.12)\">\n     <use xlink:href=\"#DejaVuSans-77\"/>\n     <use x=\"86.279297\" xlink:href=\"#DejaVuSans-111\"/>\n     <use x=\"147.460938\" xlink:href=\"#DejaVuSans-100\"/>\n     <use x=\"210.9375\" xlink:href=\"#DejaVuSans-101\"/>\n     <use x=\"272.460938\" xlink:href=\"#DejaVuSans-108\"/>\n     <use x=\"300.244141\" xlink:href=\"#DejaVuSans-32\"/>\n     <use x=\"332.03125\" xlink:href=\"#DejaVuSans-108\"/>\n     <use x=\"359.814453\" xlink:href=\"#DejaVuSans-111\"/>\n     <use x=\"420.996094\" xlink:href=\"#DejaVuSans-115\"/>\n     <use x=\"473.095703\" xlink:href=\"#DejaVuSans-115\"/>\n    </g>\n   </g>\n   <g id=\"legend_1\">\n    <g id=\"patch_7\">\n     <path d=\"M 50.78125 59.674375 \nL 108.221875 59.674375 \nQ 110.221875 59.674375 110.221875 57.674375 \nL 110.221875 29.318125 \nQ 110.221875 27.318125 108.221875 27.318125 \nL 50.78125 27.318125 \nQ 48.78125 27.318125 48.78125 29.318125 \nL 48.78125 57.674375 \nQ 48.78125 59.674375 50.78125 59.674375 \nz\n\" style=\"fill:#ffffff;opacity:0.8;stroke:#cccccc;stroke-linejoin:miter;\"/>\n    </g>\n    <g id=\"line2d_15\">\n     <path d=\"M 52.78125 35.416562 \nL 72.78125 35.416562 \n\" style=\"fill:none;stroke:#1f77b4;stroke-linecap:square;stroke-width:1.5;\"/>\n    </g>\n    <g id=\"line2d_16\"/>\n    <g id=\"text_16\">\n     <!-- Train -->\n     <defs>\n      <path d=\"M -0.296875 72.90625 \nL 61.375 72.90625 \nL 61.375 64.59375 \nL 35.5 64.59375 \nL 35.5 0 \nL 25.59375 0 \nL 25.59375 64.59375 \nL -0.296875 64.59375 \nz\n\" id=\"DejaVuSans-84\"/>\n      <path d=\"M 41.109375 46.296875 \nQ 39.59375 47.171875 37.8125 47.578125 \nQ 36.03125 48 33.890625 48 \nQ 26.265625 48 22.1875 43.046875 \nQ 18.109375 38.09375 18.109375 28.8125 \nL 18.109375 0 \nL 9.078125 0 \nL 9.078125 54.6875 \nL 18.109375 54.6875 \nL 18.109375 46.1875 \nQ 20.953125 51.171875 25.484375 53.578125 \nQ 30.03125 56 36.53125 56 \nQ 37.453125 56 38.578125 55.875 \nQ 39.703125 55.765625 41.0625 55.515625 \nz\n\" id=\"DejaVuSans-114\"/>\n      <path d=\"M 34.28125 27.484375 \nQ 23.390625 27.484375 19.1875 25 \nQ 14.984375 22.515625 14.984375 16.5 \nQ 14.984375 11.71875 18.140625 8.90625 \nQ 21.296875 6.109375 26.703125 6.109375 \nQ 34.1875 6.109375 38.703125 11.40625 \nQ 43.21875 16.703125 43.21875 25.484375 \nL 43.21875 27.484375 \nz\nM 52.203125 31.203125 \nL 52.203125 0 \nL 43.21875 0 \nL 43.21875 8.296875 \nQ 40.140625 3.328125 35.546875 0.953125 \nQ 30.953125 -1.421875 24.3125 -1.421875 \nQ 15.921875 -1.421875 10.953125 3.296875 \nQ 6 8.015625 6 15.921875 \nQ 6 25.140625 12.171875 29.828125 \nQ 18.359375 34.515625 30.609375 34.515625 \nL 43.21875 34.515625 \nL 43.21875 35.40625 \nQ 43.21875 41.609375 39.140625 45 \nQ 35.0625 48.390625 27.6875 48.390625 \nQ 23 48.390625 18.546875 47.265625 \nQ 14.109375 46.140625 10.015625 43.890625 \nL 10.015625 52.203125 \nQ 14.9375 54.109375 19.578125 55.046875 \nQ 24.21875 56 28.609375 56 \nQ 40.484375 56 46.34375 49.84375 \nQ 52.203125 43.703125 52.203125 31.203125 \nz\n\" id=\"DejaVuSans-97\"/>\n      <path d=\"M 9.421875 54.6875 \nL 18.40625 54.6875 \nL 18.40625 0 \nL 9.421875 0 \nz\nM 9.421875 75.984375 \nL 18.40625 75.984375 \nL 18.40625 64.59375 \nL 9.421875 64.59375 \nz\n\" id=\"DejaVuSans-105\"/>\n      <path d=\"M 54.890625 33.015625 \nL 54.890625 0 \nL 45.90625 0 \nL 45.90625 32.71875 \nQ 45.90625 40.484375 42.875 44.328125 \nQ 39.84375 48.1875 33.796875 48.1875 \nQ 26.515625 48.1875 22.3125 43.546875 \nQ 18.109375 38.921875 18.109375 30.90625 \nL 18.109375 0 \nL 9.078125 0 \nL 9.078125 54.6875 \nL 18.109375 54.6875 \nL 18.109375 46.1875 \nQ 21.34375 51.125 25.703125 53.5625 \nQ 30.078125 56 35.796875 56 \nQ 45.21875 56 50.046875 50.171875 \nQ 54.890625 44.34375 54.890625 33.015625 \nz\n\" id=\"DejaVuSans-110\"/>\n     </defs>\n     <g transform=\"translate(80.78125 38.916562)scale(0.1 -0.1)\">\n      <use xlink:href=\"#DejaVuSans-84\"/>\n      <use x=\"60.865234\" xlink:href=\"#DejaVuSans-114\"/>\n      <use x=\"101.978516\" xlink:href=\"#DejaVuSans-97\"/>\n      <use x=\"163.257812\" xlink:href=\"#DejaVuSans-105\"/>\n      <use x=\"191.041016\" xlink:href=\"#DejaVuSans-110\"/>\n     </g>\n    </g>\n    <g id=\"line2d_17\">\n     <path d=\"M 52.78125 50.094687 \nL 72.78125 50.094687 \n\" style=\"fill:none;stroke:#ff7f0e;stroke-linecap:square;stroke-width:1.5;\"/>\n    </g>\n    <g id=\"line2d_18\"/>\n    <g id=\"text_17\">\n     <!-- Test -->\n     <defs>\n      <path d=\"M 18.3125 70.21875 \nL 18.3125 54.6875 \nL 36.8125 54.6875 \nL 36.8125 47.703125 \nL 18.3125 47.703125 \nL 18.3125 18.015625 \nQ 18.3125 11.328125 20.140625 9.421875 \nQ 21.96875 7.515625 27.59375 7.515625 \nL 36.8125 7.515625 \nL 36.8125 0 \nL 27.59375 0 \nQ 17.1875 0 13.234375 3.875 \nQ 9.28125 7.765625 9.28125 18.015625 \nL 9.28125 47.703125 \nL 2.6875 47.703125 \nL 2.6875 54.6875 \nL 9.28125 54.6875 \nL 9.28125 70.21875 \nz\n\" id=\"DejaVuSans-116\"/>\n     </defs>\n     <g transform=\"translate(80.78125 53.594687)scale(0.1 -0.1)\">\n      <use xlink:href=\"#DejaVuSans-84\"/>\n      <use x=\"60.818359\" xlink:href=\"#DejaVuSans-101\"/>\n      <use x=\"122.341797\" xlink:href=\"#DejaVuSans-115\"/>\n      <use x=\"174.441406\" xlink:href=\"#DejaVuSans-116\"/>\n     </g>\n    </g>\n   </g>\n  </g>\n </g>\n <defs>\n  <clipPath id=\"pc6c17c133c\">\n   <rect height=\"217.44\" width=\"334.8\" x=\"43.78125\" y=\"22.318125\"/>\n  </clipPath>\n </defs>\n</svg>\n",
      "text/plain": "<Figure size 432x288 with 1 Axes>"
     },
     "metadata": {
      "needs_background": "light"
     },
     "output_type": "display_data"
    }
   ],
   "source": [
    "import matplotlib.pyplot as plt\n",
    "n = 5\n",
    "plt.plot([history.history['loss'][i] for i in range(len(history.history['loss'])) if i%1==0])\n",
    "plt.plot([history.history['val_loss'][i] for i in range(len(history.history['val_loss'])) if i%1==0])\n",
    "plt.title('Model loss')\n",
    "plt.ylabel('Loss ($)')\n",
    "plt.xlabel('Epoch')\n",
    "plt.legend(['Train', 'Test'], loc='upper left')\n",
    "plt.show()"
   ]
  },
  {
   "cell_type": "code",
   "execution_count": 49,
   "metadata": {},
   "outputs": [
    {
     "data": {
      "text/plain": "[<matplotlib.lines.Line2D at 0x1cac6fe410>]"
     },
     "execution_count": 49,
     "metadata": {},
     "output_type": "execute_result"
    },
    {
     "data": {
      "image/png": "[encoded data removed]",
      "image/svg+xml": "<?xml version=\"1.0\" encoding=\"utf-8\" standalone=\"no\"?>\n<!DOCTYPE svg PUBLIC \"-//W3C//DTD SVG 1.1//EN\"\n  \"http://www.w3.org/Graphics/SVG/1.1/DTD/svg11.dtd\">\n<!-- Created with matplotlib (https://matplotlib.org/) -->\n<svg height=\"248.518125pt\" version=\"1.1\" viewBox=\"0 0 384.828125 248.518125\" width=\"384.828125pt\" xmlns=\"http://www.w3.org/2000/svg\" xmlns:xlink=\"http://www.w3.org/1999/xlink\">\n <defs>\n  <style type=\"text/css\">\n*{stroke-linecap:butt;stroke-linejoin:round;}\n  </style>\n </defs>\n <g id=\"figure_1\">\n  <g id=\"patch_1\">\n   <path d=\"M 0 248.518125 \nL 384.828125 248.518125 \nL 384.828125 0 \nL 0 0 \nz\n\" style=\"fill:none;\"/>\n  </g>\n  <g id=\"axes_1\">\n   <g id=\"patch_2\">\n    <path d=\"M 42.828125 224.64 \nL 377.628125 224.64 \nL 377.628125 7.2 \nL 42.828125 7.2 \nz\n\" style=\"fill:#ffffff;\"/>\n   </g>\n   <g id=\"matplotlib.axis_1\">\n    <g id=\"xtick_1\">\n     <g id=\"line2d_1\">\n      <defs>\n       <path d=\"M 0 0 \nL 0 3.5 \n\" id=\"mde78862862\" style=\"stroke:#000000;stroke-width:0.8;\"/>\n      </defs>\n      <g>\n       <use style=\"stroke:#000000;stroke-width:0.8;\" x=\"58.046307\" xlink:href=\"#mde78862862\" y=\"224.64\"/>\n      </g>\n     </g>\n     <g id=\"text_1\">\n      <!-- 0 -->\n      <defs>\n       <path d=\"M 31.78125 66.40625 \nQ 24.171875 66.40625 20.328125 58.90625 \nQ 16.5 51.421875 16.5 36.375 \nQ 16.5 21.390625 20.328125 13.890625 \nQ 24.171875 6.390625 31.78125 6.390625 \nQ 39.453125 6.390625 43.28125 13.890625 \nQ 47.125 21.390625 47.125 36.375 \nQ 47.125 51.421875 43.28125 58.90625 \nQ 39.453125 66.40625 31.78125 66.40625 \nz\nM 31.78125 74.21875 \nQ 44.046875 74.21875 50.515625 64.515625 \nQ 56.984375 54.828125 56.984375 36.375 \nQ 56.984375 17.96875 50.515625 8.265625 \nQ 44.046875 -1.421875 31.78125 -1.421875 \nQ 19.53125 -1.421875 13.0625 8.265625 \nQ 6.59375 17.96875 6.59375 36.375 \nQ 6.59375 54.828125 13.0625 64.515625 \nQ 19.53125 74.21875 31.78125 74.21875 \nz\n\" id=\"DejaVuSans-48\"/>\n      </defs>\n      <g transform=\"translate(54.865057 239.238438)scale(0.1 -0.1)\">\n       <use xlink:href=\"#DejaVuSans-48\"/>\n      </g>\n     </g>\n    </g>\n    <g id=\"xtick_2\">\n     <g id=\"line2d_2\">\n      <g>\n       <use style=\"stroke:#000000;stroke-width:0.8;\" x=\"118.979968\" xlink:href=\"#mde78862862\" y=\"224.64\"/>\n      </g>\n     </g>\n     <g id=\"text_2\">\n      <!-- 200 -->\n      <defs>\n       <path d=\"M 19.1875 8.296875 \nL 53.609375 8.296875 \nL 53.609375 0 \nL 7.328125 0 \nL 7.328125 8.296875 \nQ 12.9375 14.109375 22.625 23.890625 \nQ 32.328125 33.6875 34.8125 36.53125 \nQ 39.546875 41.84375 41.421875 45.53125 \nQ 43.3125 49.21875 43.3125 52.78125 \nQ 43.3125 58.59375 39.234375 62.25 \nQ 35.15625 65.921875 28.609375 65.921875 \nQ 23.96875 65.921875 18.8125 64.3125 \nQ 13.671875 62.703125 7.8125 59.421875 \nL 7.8125 69.390625 \nQ 13.765625 71.78125 18.9375 73 \nQ 24.125 74.21875 28.421875 74.21875 \nQ 39.75 74.21875 46.484375 68.546875 \nQ 53.21875 62.890625 53.21875 53.421875 \nQ 53.21875 48.921875 51.53125 44.890625 \nQ 49.859375 40.875 45.40625 35.40625 \nQ 44.1875 33.984375 37.640625 27.21875 \nQ 31.109375 20.453125 19.1875 8.296875 \nz\n\" id=\"DejaVuSans-50\"/>\n      </defs>\n      <g transform=\"translate(109.436218 239.238438)scale(0.1 -0.1)\">\n       <use xlink:href=\"#DejaVuSans-50\"/>\n       <use x=\"63.623047\" xlink:href=\"#DejaVuSans-48\"/>\n       <use x=\"127.246094\" xlink:href=\"#DejaVuSans-48\"/>\n      </g>\n     </g>\n    </g>\n    <g id=\"xtick_3\">\n     <g id=\"line2d_3\">\n      <g>\n       <use style=\"stroke:#000000;stroke-width:0.8;\" x=\"179.913629\" xlink:href=\"#mde78862862\" y=\"224.64\"/>\n      </g>\n     </g>\n     <g id=\"text_3\">\n      <!-- 400 -->\n      <defs>\n       <path d=\"M 37.796875 64.3125 \nL 12.890625 25.390625 \nL 37.796875 25.390625 \nz\nM 35.203125 72.90625 \nL 47.609375 72.90625 \nL 47.609375 25.390625 \nL 58.015625 25.390625 \nL 58.015625 17.1875 \nL 47.609375 17.1875 \nL 47.609375 0 \nL 37.796875 0 \nL 37.796875 17.1875 \nL 4.890625 17.1875 \nL 4.890625 26.703125 \nz\n\" id=\"DejaVuSans-52\"/>\n      </defs>\n      <g transform=\"translate(170.369879 239.238438)scale(0.1 -0.1)\">\n       <use xlink:href=\"#DejaVuSans-52\"/>\n       <use x=\"63.623047\" xlink:href=\"#DejaVuSans-48\"/>\n       <use x=\"127.246094\" xlink:href=\"#DejaVuSans-48\"/>\n      </g>\n     </g>\n    </g>\n    <g id=\"xtick_4\">\n     <g id=\"line2d_4\">\n      <g>\n       <use style=\"stroke:#000000;stroke-width:0.8;\" x=\"240.84729\" xlink:href=\"#mde78862862\" y=\"224.64\"/>\n      </g>\n     </g>\n     <g id=\"text_4\">\n      <!-- 600 -->\n      <defs>\n       <path d=\"M 33.015625 40.375 \nQ 26.375 40.375 22.484375 35.828125 \nQ 18.609375 31.296875 18.609375 23.390625 \nQ 18.609375 15.53125 22.484375 10.953125 \nQ 26.375 6.390625 33.015625 6.390625 \nQ 39.65625 6.390625 43.53125 10.953125 \nQ 47.40625 15.53125 47.40625 23.390625 \nQ 47.40625 31.296875 43.53125 35.828125 \nQ 39.65625 40.375 33.015625 40.375 \nz\nM 52.59375 71.296875 \nL 52.59375 62.3125 \nQ 48.875 64.0625 45.09375 64.984375 \nQ 41.3125 65.921875 37.59375 65.921875 \nQ 27.828125 65.921875 22.671875 59.328125 \nQ 17.53125 52.734375 16.796875 39.40625 \nQ 19.671875 43.65625 24.015625 45.921875 \nQ 28.375 48.1875 33.59375 48.1875 \nQ 44.578125 48.1875 50.953125 41.515625 \nQ 57.328125 34.859375 57.328125 23.390625 \nQ 57.328125 12.15625 50.6875 5.359375 \nQ 44.046875 -1.421875 33.015625 -1.421875 \nQ 20.359375 -1.421875 13.671875 8.265625 \nQ 6.984375 17.96875 6.984375 36.375 \nQ 6.984375 53.65625 15.1875 63.9375 \nQ 23.390625 74.21875 37.203125 74.21875 \nQ 40.921875 74.21875 44.703125 73.484375 \nQ 48.484375 72.75 52.59375 71.296875 \nz\n\" id=\"DejaVuSans-54\"/>\n      </defs>\n      <g transform=\"translate(231.30354 239.238438)scale(0.1 -0.1)\">\n       <use xlink:href=\"#DejaVuSans-54\"/>\n       <use x=\"63.623047\" xlink:href=\"#DejaVuSans-48\"/>\n       <use x=\"127.246094\" xlink:href=\"#DejaVuSans-48\"/>\n      </g>\n     </g>\n    </g>\n    <g id=\"xtick_5\">\n     <g id=\"line2d_5\">\n      <g>\n       <use style=\"stroke:#000000;stroke-width:0.8;\" x=\"301.780951\" xlink:href=\"#mde78862862\" y=\"224.64\"/>\n      </g>\n     </g>\n     <g id=\"text_5\">\n      <!-- 800 -->\n      <defs>\n       <path d=\"M 31.78125 34.625 \nQ 24.75 34.625 20.71875 30.859375 \nQ 16.703125 27.09375 16.703125 20.515625 \nQ 16.703125 13.921875 20.71875 10.15625 \nQ 24.75 6.390625 31.78125 6.390625 \nQ 38.8125 6.390625 42.859375 10.171875 \nQ 46.921875 13.96875 46.921875 20.515625 \nQ 46.921875 27.09375 42.890625 30.859375 \nQ 38.875 34.625 31.78125 34.625 \nz\nM 21.921875 38.8125 \nQ 15.578125 40.375 12.03125 44.71875 \nQ 8.5 49.078125 8.5 55.328125 \nQ 8.5 64.0625 14.71875 69.140625 \nQ 20.953125 74.21875 31.78125 74.21875 \nQ 42.671875 74.21875 48.875 69.140625 \nQ 55.078125 64.0625 55.078125 55.328125 \nQ 55.078125 49.078125 51.53125 44.71875 \nQ 48 40.375 41.703125 38.8125 \nQ 48.828125 37.15625 52.796875 32.3125 \nQ 56.78125 27.484375 56.78125 20.515625 \nQ 56.78125 9.90625 50.3125 4.234375 \nQ 43.84375 -1.421875 31.78125 -1.421875 \nQ 19.734375 -1.421875 13.25 4.234375 \nQ 6.78125 9.90625 6.78125 20.515625 \nQ 6.78125 27.484375 10.78125 32.3125 \nQ 14.796875 37.15625 21.921875 38.8125 \nz\nM 18.3125 54.390625 \nQ 18.3125 48.734375 21.84375 45.5625 \nQ 25.390625 42.390625 31.78125 42.390625 \nQ 38.140625 42.390625 41.71875 45.5625 \nQ 45.3125 48.734375 45.3125 54.390625 \nQ 45.3125 60.0625 41.71875 63.234375 \nQ 38.140625 66.40625 31.78125 66.40625 \nQ 25.390625 66.40625 21.84375 63.234375 \nQ 18.3125 60.0625 18.3125 54.390625 \nz\n\" id=\"DejaVuSans-56\"/>\n      </defs>\n      <g transform=\"translate(292.237201 239.238438)scale(0.1 -0.1)\">\n       <use xlink:href=\"#DejaVuSans-56\"/>\n       <use x=\"63.623047\" xlink:href=\"#DejaVuSans-48\"/>\n       <use x=\"127.246094\" xlink:href=\"#DejaVuSans-48\"/>\n      </g>\n     </g>\n    </g>\n    <g id=\"xtick_6\">\n     <g id=\"line2d_6\">\n      <g>\n       <use style=\"stroke:#000000;stroke-width:0.8;\" x=\"362.714611\" xlink:href=\"#mde78862862\" y=\"224.64\"/>\n      </g>\n     </g>\n     <g id=\"text_6\">\n      <!-- 1000 -->\n      <defs>\n       <path d=\"M 12.40625 8.296875 \nL 28.515625 8.296875 \nL 28.515625 63.921875 \nL 10.984375 60.40625 \nL 10.984375 69.390625 \nL 28.421875 72.90625 \nL 38.28125 72.90625 \nL 38.28125 8.296875 \nL 54.390625 8.296875 \nL 54.390625 0 \nL 12.40625 0 \nz\n\" id=\"DejaVuSans-49\"/>\n      </defs>\n      <g transform=\"translate(349.989611 239.238438)scale(0.1 -0.1)\">\n       <use xlink:href=\"#DejaVuSans-49\"/>\n       <use x=\"63.623047\" xlink:href=\"#DejaVuSans-48\"/>\n       <use x=\"127.246094\" xlink:href=\"#DejaVuSans-48\"/>\n       <use x=\"190.869141\" xlink:href=\"#DejaVuSans-48\"/>\n      </g>\n     </g>\n    </g>\n   </g>\n   <g id=\"matplotlib.axis_2\">\n    <g id=\"ytick_1\">\n     <g id=\"line2d_7\">\n      <defs>\n       <path d=\"M 0 0 \nL -3.5 0 \n\" id=\"m751014a26b\" style=\"stroke:#000000;stroke-width:0.8;\"/>\n      </defs>\n      <g>\n       <use style=\"stroke:#000000;stroke-width:0.8;\" x=\"42.828125\" xlink:href=\"#m751014a26b\" y=\"219.407487\"/>\n      </g>\n     </g>\n     <g id=\"text_7\">\n      <!-- 0.600 -->\n      <defs>\n       <path d=\"M 10.6875 12.40625 \nL 21 12.40625 \nL 21 0 \nL 10.6875 0 \nz\n\" id=\"DejaVuSans-46\"/>\n      </defs>\n      <g transform=\"translate(7.2 223.206706)scale(0.1 -0.1)\">\n       <use xlink:href=\"#DejaVuSans-48\"/>\n       <use x=\"63.623047\" xlink:href=\"#DejaVuSans-46\"/>\n       <use x=\"95.410156\" xlink:href=\"#DejaVuSans-54\"/>\n       <use x=\"159.033203\" xlink:href=\"#DejaVuSans-48\"/>\n       <use x=\"222.65625\" xlink:href=\"#DejaVuSans-48\"/>\n      </g>\n     </g>\n    </g>\n    <g id=\"ytick_2\">\n     <g id=\"line2d_8\">\n      <g>\n       <use style=\"stroke:#000000;stroke-width:0.8;\" x=\"42.828125\" xlink:href=\"#m751014a26b\" y=\"190.628665\"/>\n      </g>\n     </g>\n     <g id=\"text_8\">\n      <!-- 0.625 -->\n      <defs>\n       <path d=\"M 10.796875 72.90625 \nL 49.515625 72.90625 \nL 49.515625 64.59375 \nL 19.828125 64.59375 \nL 19.828125 46.734375 \nQ 21.96875 47.46875 24.109375 47.828125 \nQ 26.265625 48.1875 28.421875 48.1875 \nQ 40.625 48.1875 47.75 41.5 \nQ 54.890625 34.8125 54.890625 23.390625 \nQ 54.890625 11.625 47.5625 5.09375 \nQ 40.234375 -1.421875 26.90625 -1.421875 \nQ 22.3125 -1.421875 17.546875 -0.640625 \nQ 12.796875 0.140625 7.71875 1.703125 \nL 7.71875 11.625 \nQ 12.109375 9.234375 16.796875 8.0625 \nQ 21.484375 6.890625 26.703125 6.890625 \nQ 35.15625 6.890625 40.078125 11.328125 \nQ 45.015625 15.765625 45.015625 23.390625 \nQ 45.015625 31 40.078125 35.4375 \nQ 35.15625 39.890625 26.703125 39.890625 \nQ 22.75 39.890625 18.8125 39.015625 \nQ 14.890625 38.140625 10.796875 36.28125 \nz\n\" id=\"DejaVuSans-53\"/>\n      </defs>\n      <g transform=\"translate(7.2 194.427884)scale(0.1 -0.1)\">\n       <use xlink:href=\"#DejaVuSans-48\"/>\n       <use x=\"63.623047\" xlink:href=\"#DejaVuSans-46\"/>\n       <use x=\"95.410156\" xlink:href=\"#DejaVuSans-54\"/>\n       <use x=\"159.033203\" xlink:href=\"#DejaVuSans-50\"/>\n       <use x=\"222.65625\" xlink:href=\"#DejaVuSans-53\"/>\n      </g>\n     </g>\n    </g>\n    <g id=\"ytick_3\">\n     <g id=\"line2d_9\">\n      <g>\n       <use style=\"stroke:#000000;stroke-width:0.8;\" x=\"42.828125\" xlink:href=\"#m751014a26b\" y=\"161.849843\"/>\n      </g>\n     </g>\n     <g id=\"text_9\">\n      <!-- 0.650 -->\n      <g transform=\"translate(7.2 165.649061)scale(0.1 -0.1)\">\n       <use xlink:href=\"#DejaVuSans-48\"/>\n       <use x=\"63.623047\" xlink:href=\"#DejaVuSans-46\"/>\n       <use x=\"95.410156\" xlink:href=\"#DejaVuSans-54\"/>\n       <use x=\"159.033203\" xlink:href=\"#DejaVuSans-53\"/>\n       <use x=\"222.65625\" xlink:href=\"#DejaVuSans-48\"/>\n      </g>\n     </g>\n    </g>\n    <g id=\"ytick_4\">\n     <g id=\"line2d_10\">\n      <g>\n       <use style=\"stroke:#000000;stroke-width:0.8;\" x=\"42.828125\" xlink:href=\"#m751014a26b\" y=\"133.07102\"/>\n      </g>\n     </g>\n     <g id=\"text_10\">\n      <!-- 0.675 -->\n      <defs>\n       <path d=\"M 8.203125 72.90625 \nL 55.078125 72.90625 \nL 55.078125 68.703125 \nL 28.609375 0 \nL 18.3125 0 \nL 43.21875 64.59375 \nL 8.203125 64.59375 \nz\n\" id=\"DejaVuSans-55\"/>\n      </defs>\n      <g transform=\"translate(7.2 136.870239)scale(0.1 -0.1)\">\n       <use xlink:href=\"#DejaVuSans-48\"/>\n       <use x=\"63.623047\" xlink:href=\"#DejaVuSans-46\"/>\n       <use x=\"95.410156\" xlink:href=\"#DejaVuSans-54\"/>\n       <use x=\"159.033203\" xlink:href=\"#DejaVuSans-55\"/>\n       <use x=\"222.65625\" xlink:href=\"#DejaVuSans-53\"/>\n      </g>\n     </g>\n    </g>\n    <g id=\"ytick_5\">\n     <g id=\"line2d_11\">\n      <g>\n       <use style=\"stroke:#000000;stroke-width:0.8;\" x=\"42.828125\" xlink:href=\"#m751014a26b\" y=\"104.292198\"/>\n      </g>\n     </g>\n     <g id=\"text_11\">\n      <!-- 0.700 -->\n      <g transform=\"translate(7.2 108.091416)scale(0.1 -0.1)\">\n       <use xlink:href=\"#DejaVuSans-48\"/>\n       <use x=\"63.623047\" xlink:href=\"#DejaVuSans-46\"/>\n       <use x=\"95.410156\" xlink:href=\"#DejaVuSans-55\"/>\n       <use x=\"159.033203\" xlink:href=\"#DejaVuSans-48\"/>\n       <use x=\"222.65625\" xlink:href=\"#DejaVuSans-48\"/>\n      </g>\n     </g>\n    </g>\n    <g id=\"ytick_6\">\n     <g id=\"line2d_12\">\n      <g>\n       <use style=\"stroke:#000000;stroke-width:0.8;\" x=\"42.828125\" xlink:href=\"#m751014a26b\" y=\"75.513375\"/>\n      </g>\n     </g>\n     <g id=\"text_12\">\n      <!-- 0.725 -->\n      <g transform=\"translate(7.2 79.312594)scale(0.1 -0.1)\">\n       <use xlink:href=\"#DejaVuSans-48\"/>\n       <use x=\"63.623047\" xlink:href=\"#DejaVuSans-46\"/>\n       <use x=\"95.410156\" xlink:href=\"#DejaVuSans-55\"/>\n       <use x=\"159.033203\" xlink:href=\"#DejaVuSans-50\"/>\n       <use x=\"222.65625\" xlink:href=\"#DejaVuSans-53\"/>\n      </g>\n     </g>\n    </g>\n    <g id=\"ytick_7\">\n     <g id=\"line2d_13\">\n      <g>\n       <use style=\"stroke:#000000;stroke-width:0.8;\" x=\"42.828125\" xlink:href=\"#m751014a26b\" y=\"46.734553\"/>\n      </g>\n     </g>\n     <g id=\"text_13\">\n      <!-- 0.750 -->\n      <g transform=\"translate(7.2 50.533771)scale(0.1 -0.1)\">\n       <use xlink:href=\"#DejaVuSans-48\"/>\n       <use x=\"63.623047\" xlink:href=\"#DejaVuSans-46\"/>\n       <use x=\"95.410156\" xlink:href=\"#DejaVuSans-55\"/>\n       <use x=\"159.033203\" xlink:href=\"#DejaVuSans-53\"/>\n       <use x=\"222.65625\" xlink:href=\"#DejaVuSans-48\"/>\n      </g>\n     </g>\n    </g>\n    <g id=\"ytick_8\">\n     <g id=\"line2d_14\">\n      <g>\n       <use style=\"stroke:#000000;stroke-width:0.8;\" x=\"42.828125\" xlink:href=\"#m751014a26b\" y=\"17.95573\"/>\n      </g>\n     </g>\n     <g id=\"text_14\">\n      <!-- 0.775 -->\n      <g transform=\"translate(7.2 21.754949)scale(0.1 -0.1)\">\n       <use xlink:href=\"#DejaVuSans-48\"/>\n       <use x=\"63.623047\" xlink:href=\"#DejaVuSans-46\"/>\n       <use x=\"95.410156\" xlink:href=\"#DejaVuSans-55\"/>\n       <use x=\"159.033203\" xlink:href=\"#DejaVuSans-55\"/>\n       <use x=\"222.65625\" xlink:href=\"#DejaVuSans-53\"/>\n      </g>\n     </g>\n    </g>\n   </g>\n   <g id=\"line2d_15\">\n    <path clip-path=\"url(#p02e6dfaf3a)\" d=\"M 58.046307 138.01284 \nL 58.350975 168.245136 \nL 58.655643 172.896254 \nL 58.960312 105.454982 \nL 59.26498 140.338398 \nL 59.569648 161.268446 \nL 59.874317 172.896262 \nL 60.178985 165.919576 \nL 60.483653 163.594012 \nL 60.788322 214.756364 \nL 61.09299 184.524058 \nL 61.397658 142.66396 \nL 61.702326 170.570695 \nL 62.006995 170.570696 \nL 62.311663 177.547377 \nL 62.616331 156.617339 \nL 62.921 177.547376 \nL 63.225668 154.291764 \nL 63.530336 149.640636 \nL 63.835005 138.01284 \nL 64.139673 154.291766 \nL 64.444341 198.477433 \nL 64.74901 133.36171 \nL 65.053678 131.036151 \nL 65.358346 154.291771 \nL 65.663014 165.919572 \nL 65.967683 158.942891 \nL 66.272351 193.826311 \nL 66.577019 140.338404 \nL 66.881688 191.500747 \nL 67.491024 149.640649 \nL 67.795693 128.710585 \nL 68.100361 149.640645 \nL 68.405029 210.105244 \nL 68.709697 158.942889 \nL 69.014366 144.989519 \nL 69.319034 189.175188 \nL 69.623702 172.896261 \nL 69.928371 177.54738 \nL 70.233039 205.45412 \nL 70.537707 138.012835 \nL 70.842376 142.663959 \nL 71.147044 131.036156 \nL 71.451712 189.175188 \nL 71.756381 182.198498 \nL 72.061049 163.594014 \nL 72.670385 177.547377 \nL 72.975054 144.989523 \nL 73.279722 135.687271 \nL 73.58439 147.315079 \nL 73.889059 182.198503 \nL 74.193727 182.198505 \nL 74.498395 133.36171 \nL 74.803064 184.524061 \nL 75.107732 126.38503 \nL 75.4124 182.1985 \nL 75.717068 186.849632 \nL 76.021737 205.454116 \nL 76.326405 158.942884 \nL 76.631073 182.198502 \nL 76.935742 163.594011 \nL 77.24041 172.896257 \nL 77.545078 133.36171 \nL 77.849747 135.687271 \nL 78.154415 133.36172 \nL 78.459083 177.547383 \nL 78.763752 163.594011 \nL 79.06842 119.408345 \nL 79.373088 128.71059 \nL 79.677756 172.896261 \nL 79.982425 140.338397 \nL 80.287093 131.036154 \nL 80.591761 147.31508 \nL 80.89643 126.385032 \nL 81.201098 119.408347 \nL 81.505766 117.082786 \nL 81.810435 177.547384 \nL 82.115103 161.268447 \nL 82.419771 138.012834 \nL 82.724439 170.570702 \nL 83.029108 124.059469 \nL 83.333776 149.640653 \nL 83.638444 138.01283 \nL 83.943113 163.594013 \nL 84.247781 175.221821 \nL 84.552449 128.710594 \nL 84.857118 182.198509 \nL 85.161786 131.03615 \nL 85.466454 184.524065 \nL 85.771123 156.617327 \nL 86.075791 117.082789 \nL 86.380459 182.198501 \nL 86.685127 149.640641 \nL 86.989796 133.361716 \nL 87.294464 177.547387 \nL 87.599132 151.966206 \nL 87.903801 193.826314 \nL 88.208469 193.826308 \nL 88.817806 112.43166 \nL 89.122474 184.524063 \nL 89.427142 170.570696 \nL 89.731811 126.385034 \nL 90.036479 184.524058 \nL 90.341147 170.570699 \nL 90.645815 177.547383 \nL 91.255152 96.152737 \nL 91.55982 177.547388 \nL 91.864489 144.989532 \nL 92.169157 131.036152 \nL 92.473825 142.663962 \nL 92.778494 158.942891 \nL 93.083162 156.617331 \nL 93.692498 126.385036 \nL 93.997167 163.594009 \nL 94.301835 175.221824 \nL 94.606503 156.617332 \nL 94.911172 119.408345 \nL 95.21584 133.361712 \nL 95.520508 117.082781 \nL 95.825177 151.966211 \nL 96.129845 144.98952 \nL 96.434513 154.291768 \nL 96.739182 154.291766 \nL 97.04385 151.966201 \nL 97.348518 151.966207 \nL 97.653186 135.687278 \nL 97.957855 177.547376 \nL 98.262523 96.15274 \nL 98.567191 182.1985 \nL 98.87186 165.919571 \nL 99.176528 119.408347 \nL 99.481196 128.710594 \nL 99.785865 170.570697 \nL 100.090533 117.082778 \nL 100.395201 156.617329 \nL 100.699869 133.36172 \nL 101.004538 89.176057 \nL 101.309206 184.524064 \nL 101.918543 133.361723 \nL 102.223211 154.291763 \nL 102.527879 117.082785 \nL 102.832548 126.385021 \nL 103.137216 163.594013 \nL 103.441884 114.757226 \nL 103.746553 124.059471 \nL 104.051221 144.98951 \nL 104.355889 147.315077 \nL 104.660557 98.478294 \nL 104.965226 151.966211 \nL 105.269894 128.710583 \nL 105.574562 135.687272 \nL 105.879231 149.640646 \nL 106.183899 144.989528 \nL 106.488567 147.315082 \nL 106.793236 138.012832 \nL 107.097904 189.175188 \nL 107.402572 121.733917 \nL 107.70724 165.919577 \nL 108.011909 140.338401 \nL 108.316577 154.291768 \nL 108.621245 154.291766 \nL 108.925914 131.036153 \nL 109.230582 154.291768 \nL 109.53525 161.268449 \nL 109.839919 142.66396 \nL 110.144587 144.989528 \nL 110.449255 163.594015 \nL 110.753924 110.106101 \nL 111.058592 107.780544 \nL 111.36326 161.268453 \nL 111.667928 144.989532 \nL 111.972597 172.896254 \nL 112.277265 117.082789 \nL 112.581933 98.478292 \nL 112.886602 156.617328 \nL 113.19127 117.082779 \nL 113.800607 154.291761 \nL 114.105275 135.687274 \nL 114.714611 163.594018 \nL 115.01928 144.989518 \nL 115.323948 144.989526 \nL 115.628616 151.966209 \nL 115.933285 154.291766 \nL 116.237953 131.036156 \nL 116.542621 75.222674 \nL 116.84729 42.664822 \nL 117.151958 128.710593 \nL 117.456626 100.803854 \nL 117.761295 168.245133 \nL 118.065963 121.733907 \nL 118.370631 119.408345 \nL 118.675299 103.129416 \nL 118.979968 121.733904 \nL 119.284636 117.08278 \nL 119.589304 100.803854 \nL 119.893973 131.036159 \nL 120.198641 135.687278 \nL 120.807978 161.268458 \nL 121.417314 119.408347 \nL 121.721982 128.710587 \nL 122.026651 103.12941 \nL 122.331319 117.082789 \nL 122.635987 151.966204 \nL 122.940656 131.036152 \nL 123.245324 142.663958 \nL 123.549992 158.942887 \nL 123.854661 144.989519 \nL 124.159329 151.966206 \nL 124.463997 121.733903 \nL 124.768666 117.082788 \nL 125.073334 121.733905 \nL 125.378002 119.408347 \nL 125.68267 110.106098 \nL 125.987339 126.385036 \nL 126.292007 203.128552 \nL 126.596675 161.268452 \nL 127.206012 121.733909 \nL 127.51068 149.640639 \nL 127.815349 149.640637 \nL 128.120017 198.477435 \nL 128.424685 156.617335 \nL 128.729354 165.919573 \nL 129.034022 128.710592 \nL 129.33869 149.640645 \nL 129.643358 126.385027 \nL 129.948027 121.733909 \nL 130.252695 121.733906 \nL 130.557363 117.082787 \nL 130.862032 105.454978 \nL 131.1667 86.850491 \nL 131.471368 114.757222 \nL 131.776037 119.408344 \nL 132.080705 128.710592 \nL 132.385373 114.757228 \nL 132.690041 165.919572 \nL 132.99471 114.757219 \nL 133.299378 133.361716 \nL 133.604046 128.710592 \nL 133.908715 126.385034 \nL 134.213383 135.687277 \nL 134.518051 121.733907 \nL 134.82272 165.919572 \nL 135.127388 142.663961 \nL 135.432056 135.687271 \nL 135.736725 112.431666 \nL 136.041393 156.617324 \nL 136.346061 117.082785 \nL 136.650729 135.68728 \nL 136.955398 86.850486 \nL 137.260066 170.570691 \nL 137.564734 161.268454 \nL 137.869403 110.106101 \nL 138.174071 117.082787 \nL 138.783408 144.989526 \nL 139.088076 112.431667 \nL 139.392744 156.617327 \nL 139.697412 144.98952 \nL 140.002081 100.803858 \nL 140.306749 114.757226 \nL 140.611417 121.733901 \nL 140.916086 105.454975 \nL 141.220754 151.966205 \nL 141.525422 158.942879 \nL 142.134759 107.780543 \nL 142.439427 117.082781 \nL 142.744096 91.501607 \nL 143.353432 126.385029 \nL 143.6581 93.827177 \nL 143.962769 117.082782 \nL 144.267437 110.106098 \nL 145.181442 147.315078 \nL 145.48611 138.012837 \nL 145.790779 124.059462 \nL 146.095447 121.733912 \nL 146.400115 86.850488 \nL 146.704783 93.827172 \nL 147.009452 126.385023 \nL 147.31412 135.687278 \nL 147.923457 77.548236 \nL 148.228125 98.478298 \nL 148.532793 100.803854 \nL 149.14213 158.942887 \nL 149.446798 121.733908 \nL 149.751467 119.408349 \nL 150.056135 100.803856 \nL 150.360803 161.268452 \nL 150.665471 138.012831 \nL 150.97014 84.524926 \nL 151.274808 154.291767 \nL 151.579476 107.780548 \nL 151.884145 117.082784 \nL 152.188813 110.106097 \nL 152.493481 114.757224 \nL 152.79815 110.106101 \nL 153.102818 110.106096 \nL 153.407486 98.478292 \nL 153.712154 91.501605 \nL 154.016823 142.663962 \nL 154.321491 133.361717 \nL 154.626159 135.687279 \nL 154.930828 91.501613 \nL 155.235496 112.431657 \nL 155.540164 142.663961 \nL 156.149501 91.501609 \nL 156.454169 147.315086 \nL 156.758838 100.803848 \nL 157.063506 91.50161 \nL 157.368174 103.129418 \nL 157.672842 103.129422 \nL 157.977511 91.501613 \nL 158.282179 154.291766 \nL 158.586847 149.640651 \nL 158.891516 72.897111 \nL 159.196184 114.757224 \nL 159.500852 186.849624 \nL 159.805521 107.780533 \nL 160.110189 98.478298 \nL 160.414857 126.385032 \nL 160.719525 75.222673 \nL 161.024194 86.850483 \nL 161.328862 89.176046 \nL 161.63353 84.524929 \nL 161.938199 89.176047 \nL 162.242867 107.780543 \nL 162.547535 107.780539 \nL 162.852204 117.082786 \nL 163.156872 96.15274 \nL 163.46154 135.687279 \nL 163.766209 72.89713 \nL 164.070877 135.687277 \nL 164.375545 131.036157 \nL 164.680213 107.780536 \nL 164.984882 117.082785 \nL 165.28955 70.571562 \nL 165.594218 156.617326 \nL 165.898887 114.757227 \nL 166.203555 117.082787 \nL 166.508223 107.780536 \nL 167.11756 142.663952 \nL 167.726896 72.897122 \nL 168.031565 128.710591 \nL 168.336233 98.478291 \nL 168.640901 103.129414 \nL 169.250238 86.85048 \nL 169.554906 63.594865 \nL 169.859575 112.43166 \nL 170.164243 140.3384 \nL 170.468911 96.152728 \nL 170.77358 77.548249 \nL 171.078248 93.827173 \nL 171.382916 121.733903 \nL 171.687584 105.454978 \nL 171.992253 147.315078 \nL 172.296921 131.036157 \nL 172.906258 89.17604 \nL 173.210926 75.222674 \nL 173.515594 161.268448 \nL 173.820263 131.036153 \nL 174.124931 121.733909 \nL 174.429599 93.827167 \nL 174.734268 170.5707 \nL 175.038936 112.431664 \nL 175.343604 103.129418 \nL 175.648272 114.757228 \nL 176.257609 128.710592 \nL 176.562277 100.803857 \nL 176.866946 103.129408 \nL 177.780951 154.291768 \nL 178.085619 89.176051 \nL 178.390287 156.617331 \nL 178.694955 149.640645 \nL 178.999624 96.152737 \nL 179.304292 91.501615 \nL 179.60896 107.780535 \nL 179.913629 110.106105 \nL 180.522965 110.1061 \nL 180.827634 96.152735 \nL 181.132302 89.17605 \nL 181.43697 126.385028 \nL 181.741639 70.571565 \nL 182.046307 126.385039 \nL 182.350975 131.036155 \nL 182.655643 91.501612 \nL 182.960312 144.989515 \nL 183.26498 138.012836 \nL 183.569648 119.408343 \nL 183.874317 75.222673 \nL 184.178985 91.501612 \nL 184.483653 79.873799 \nL 184.788322 128.710593 \nL 185.397658 86.850487 \nL 185.702326 112.431656 \nL 186.006995 112.431661 \nL 186.311663 117.082788 \nL 186.616331 117.082781 \nL 186.921 138.012843 \nL 187.225668 107.780547 \nL 187.530336 93.827176 \nL 187.835005 117.082784 \nL 188.139673 110.1061 \nL 188.444341 89.176042 \nL 188.74901 96.152741 \nL 189.053678 135.687276 \nL 189.358346 124.05947 \nL 189.663014 147.31509 \nL 189.967683 117.082785 \nL 190.272351 163.594018 \nL 190.577019 128.710591 \nL 190.881688 147.315083 \nL 191.491024 89.176048 \nL 192.100361 140.338395 \nL 192.405029 144.989523 \nL 192.709697 107.780533 \nL 193.014366 96.152731 \nL 193.319034 75.222681 \nL 193.928371 124.059461 \nL 194.233039 107.780544 \nL 194.537707 158.942891 \nL 194.842376 100.803853 \nL 195.147044 112.431662 \nL 196.061049 65.920432 \nL 196.365717 112.431673 \nL 196.670385 82.199362 \nL 196.975054 93.827172 \nL 197.279722 117.082779 \nL 197.58439 126.385031 \nL 197.889059 119.408349 \nL 198.193727 91.501613 \nL 198.498395 114.757225 \nL 198.803064 107.780543 \nL 199.107732 117.082787 \nL 199.4124 110.106106 \nL 199.717068 121.733911 \nL 200.326405 103.12942 \nL 200.631073 126.385028 \nL 200.935742 140.338389 \nL 201.849747 89.176051 \nL 202.154415 124.059462 \nL 202.459083 110.106094 \nL 202.763752 103.129425 \nL 203.06842 140.338399 \nL 203.373088 128.710593 \nL 203.677756 100.803864 \nL 203.982425 151.966211 \nL 204.591761 75.222676 \nL 204.89643 121.733903 \nL 205.201098 103.129418 \nL 205.505766 100.803858 \nL 205.810435 82.199364 \nL 206.115103 114.757224 \nL 206.419771 98.478287 \nL 206.724439 89.176052 \nL 207.029108 98.478293 \nL 207.333776 89.176057 \nL 207.638444 107.780539 \nL 207.943113 114.757224 \nL 208.247781 91.501607 \nL 208.552449 89.176057 \nL 208.857118 135.687279 \nL 209.161786 144.98952 \nL 209.466454 112.431659 \nL 210.075791 86.850478 \nL 210.380459 114.757222 \nL 210.685127 93.827168 \nL 210.989796 131.036152 \nL 211.294464 91.501614 \nL 211.599132 86.850482 \nL 211.903801 98.4783 \nL 212.208469 84.524926 \nL 212.513137 89.176048 \nL 212.817806 96.152735 \nL 213.122474 79.873802 \nL 213.427142 110.106099 \nL 213.731811 86.850493 \nL 214.036479 93.827168 \nL 214.341147 114.757226 \nL 214.645815 82.199363 \nL 214.950484 133.361717 \nL 215.255152 86.850483 \nL 215.55982 89.176041 \nL 215.864489 98.478297 \nL 216.169157 82.199364 \nL 216.473825 133.36171 \nL 216.778494 133.361708 \nL 217.083162 65.92044 \nL 217.38783 110.106099 \nL 217.692498 112.431663 \nL 217.997167 86.850483 \nL 218.301835 103.129419 \nL 218.606503 105.454972 \nL 218.911172 96.152732 \nL 219.21584 121.733906 \nL 219.520508 70.571553 \nL 220.129845 107.780542 \nL 220.434513 119.408343 \nL 220.739182 84.524919 \nL 221.04385 70.571552 \nL 221.348518 79.873798 \nL 221.653186 49.641499 \nL 221.957855 89.176052 \nL 222.262523 98.478286 \nL 222.567191 114.757226 \nL 222.87186 112.431657 \nL 223.176528 56.61819 \nL 223.481196 128.710589 \nL 223.785865 56.61818 \nL 224.090533 96.15273 \nL 224.395201 117.082784 \nL 224.699869 107.780532 \nL 225.004538 91.501607 \nL 225.309206 112.431661 \nL 225.613874 79.8738 \nL 225.918543 93.827169 \nL 226.223211 100.803854 \nL 226.527879 42.664821 \nL 226.832548 68.246 \nL 227.137216 112.431659 \nL 227.441884 93.827169 \nL 227.746553 91.501612 \nL 228.051221 79.873801 \nL 228.355889 84.524923 \nL 228.660557 112.431664 \nL 228.965226 121.733911 \nL 229.269894 151.966206 \nL 229.574562 135.687277 \nL 229.879231 112.431659 \nL 230.183899 147.31508 \nL 230.488567 89.17605 \nL 231.097904 119.408351 \nL 231.70724 86.850481 \nL 232.011909 63.594869 \nL 232.316577 114.757222 \nL 232.621245 117.082781 \nL 232.925914 56.618192 \nL 233.230582 98.478298 \nL 233.53525 75.222683 \nL 233.839919 86.850481 \nL 234.144587 82.199359 \nL 234.753924 138.012837 \nL 235.058592 68.245997 \nL 235.36326 100.80386 \nL 235.667928 156.61733 \nL 236.277265 75.222679 \nL 236.581933 98.478296 \nL 236.886602 140.338399 \nL 237.19127 98.478299 \nL 237.495938 98.478297 \nL 237.800607 77.548248 \nL 238.105275 65.920436 \nL 238.714611 119.408345 \nL 239.01928 77.548242 \nL 239.323948 65.920436 \nL 239.628616 114.757219 \nL 239.933285 77.548237 \nL 240.237953 56.618193 \nL 240.542621 96.152738 \nL 240.84729 107.780531 \nL 241.151958 86.850479 \nL 241.456626 54.292622 \nL 241.761295 91.501615 \nL 242.065963 42.664819 \nL 242.370631 124.059472 \nL 242.979968 47.315935 \nL 243.284636 121.733905 \nL 243.589304 103.129418 \nL 243.893973 107.780532 \nL 244.198641 84.52492 \nL 244.503309 75.222678 \nL 244.807978 70.571556 \nL 245.112646 68.245996 \nL 245.417314 105.454974 \nL 245.721982 114.757225 \nL 246.026651 86.850486 \nL 246.331319 114.757227 \nL 246.635987 93.82717 \nL 246.940656 100.803858 \nL 247.245324 58.943744 \nL 247.549992 110.10611 \nL 247.854661 58.943756 \nL 248.159329 107.780538 \nL 248.463997 105.454977 \nL 248.768666 96.152724 \nL 249.073334 100.80385 \nL 249.378002 65.920438 \nL 249.68267 117.082783 \nL 249.987339 133.361718 \nL 250.292007 93.827162 \nL 250.596675 98.478301 \nL 250.901344 75.222682 \nL 251.206012 77.548238 \nL 251.51068 91.501605 \nL 251.815349 61.269318 \nL 252.120017 44.990382 \nL 252.424685 151.9662 \nL 252.729354 82.199367 \nL 253.034022 124.059468 \nL 253.33869 61.269304 \nL 253.643358 65.920436 \nL 253.948027 135.687285 \nL 254.252695 89.176052 \nL 254.557363 96.152729 \nL 254.862032 84.52493 \nL 255.1667 98.478297 \nL 255.471368 65.920433 \nL 255.776037 84.524926 \nL 256.080705 77.548231 \nL 256.385373 119.408343 \nL 256.690041 89.176057 \nL 256.99471 75.222681 \nL 257.299378 70.57156 \nL 257.604046 58.943748 \nL 257.908715 68.245993 \nL 258.213383 61.269306 \nL 258.518051 151.966209 \nL 258.82272 68.245991 \nL 259.127388 103.129418 \nL 259.432056 105.454978 \nL 259.736725 91.501603 \nL 260.041393 63.594874 \nL 260.346061 131.036156 \nL 260.650729 93.827171 \nL 260.955398 133.36171 \nL 261.260066 91.501608 \nL 261.564734 100.803854 \nL 262.174071 44.990378 \nL 262.478739 84.52492 \nL 262.783408 93.82717 \nL 263.088076 142.663958 \nL 263.392744 86.850484 \nL 263.697412 84.524927 \nL 264.002081 72.89712 \nL 264.306749 82.19936 \nL 264.611417 98.478296 \nL 264.916086 131.036152 \nL 265.220754 110.106098 \nL 265.525422 140.338398 \nL 265.830091 119.408344 \nL 266.134759 107.780542 \nL 266.439427 86.850492 \nL 266.744096 77.548237 \nL 267.353432 126.385028 \nL 267.962769 42.664813 \nL 268.572105 131.036155 \nL 268.876774 33.362577 \nL 269.181442 75.222675 \nL 269.48611 61.269311 \nL 269.790779 79.873802 \nL 270.095447 82.199375 \nL 270.704783 47.31594 \nL 271.009452 56.61819 \nL 271.31412 84.524923 \nL 271.618788 93.827171 \nL 271.923457 63.594877 \nL 272.228125 91.501616 \nL 272.532793 84.524924 \nL 272.837462 84.524937 \nL 273.14213 112.43166 \nL 273.446798 100.803855 \nL 273.751467 119.408337 \nL 274.056135 96.15273 \nL 274.360803 89.176046 \nL 274.665471 93.827173 \nL 274.97014 91.50161 \nL 275.274808 93.827167 \nL 275.579476 79.873802 \nL 275.884145 72.897121 \nL 276.188813 19.409205 \nL 276.493481 84.524923 \nL 276.79815 100.803853 \nL 277.102818 70.571561 \nL 277.407486 65.920431 \nL 277.712154 65.920438 \nL 278.016823 119.408346 \nL 278.321491 131.036147 \nL 278.626159 77.548245 \nL 278.930828 63.594871 \nL 279.235496 126.385031 \nL 279.540164 68.246003 \nL 279.844833 105.454978 \nL 280.149501 93.827175 \nL 280.454169 77.548245 \nL 280.758838 70.571554 \nL 281.063506 58.943752 \nL 281.368174 77.548244 \nL 281.672842 114.757224 \nL 281.977511 110.106103 \nL 282.282179 77.54824 \nL 282.586847 63.59487 \nL 282.891516 89.176041 \nL 283.196184 47.315944 \nL 283.500852 103.129417 \nL 283.805521 72.89712 \nL 284.110189 84.524922 \nL 284.414857 105.454976 \nL 284.719525 63.594871 \nL 285.024194 82.199366 \nL 285.328862 68.245992 \nL 285.63353 35.688139 \nL 285.938199 91.501606 \nL 286.242867 82.199364 \nL 286.547535 112.431668 \nL 286.852204 58.943753 \nL 287.156872 63.594872 \nL 287.46154 70.571548 \nL 287.766209 89.176045 \nL 288.070877 28.711455 \nL 288.375545 44.990379 \nL 288.680213 68.245999 \nL 288.984882 121.73391 \nL 289.28955 112.431661 \nL 289.594218 72.897118 \nL 289.898887 91.501613 \nL 290.203555 72.897125 \nL 290.508223 86.850485 \nL 290.812892 72.89712 \nL 291.11756 47.315947 \nL 291.422228 82.199368 \nL 291.726896 75.222681 \nL 292.031565 56.618194 \nL 292.336233 98.478289 \nL 293.250238 79.873802 \nL 293.554906 75.222681 \nL 293.859575 121.733909 \nL 294.164243 68.245997 \nL 294.468911 54.292626 \nL 294.77358 47.315943 \nL 295.078248 84.524925 \nL 295.382916 91.501612 \nL 295.687584 82.199362 \nL 295.992253 65.920434 \nL 296.296921 103.129408 \nL 296.906258 77.548241 \nL 297.210926 56.618189 \nL 297.515594 63.594869 \nL 297.820263 96.15273 \nL 298.429599 100.803856 \nL 298.734268 65.920433 \nL 299.038936 86.850484 \nL 299.343604 91.501609 \nL 299.648272 65.920425 \nL 299.952941 72.897121 \nL 300.562277 56.61819 \nL 300.866946 70.571553 \nL 301.171614 75.222682 \nL 301.476282 119.408342 \nL 301.780951 56.618191 \nL 302.085619 44.990383 \nL 302.390287 42.664822 \nL 302.999624 105.454982 \nL 303.304292 77.548248 \nL 303.60896 63.59487 \nL 303.913629 68.246 \nL 304.218297 114.757219 \nL 304.522965 58.943751 \nL 304.827634 105.454985 \nL 305.132302 114.757221 \nL 305.43697 54.292635 \nL 306.046307 100.803856 \nL 306.350975 75.222671 \nL 306.655643 103.129416 \nL 306.960312 58.943752 \nL 307.26498 42.66482 \nL 307.569648 89.176051 \nL 307.874317 75.222677 \nL 308.178985 107.780541 \nL 308.483653 82.199365 \nL 308.788322 72.897122 \nL 309.09299 79.8738 \nL 309.397658 91.501606 \nL 310.006995 63.594874 \nL 310.311663 105.454983 \nL 310.616331 58.943742 \nL 310.921 63.594879 \nL 311.225668 98.478299 \nL 311.530336 63.594876 \nL 311.835005 61.269303 \nL 312.139673 93.827175 \nL 312.444341 77.548244 \nL 312.74901 93.827173 \nL 313.053678 151.966205 \nL 313.663014 63.594871 \nL 313.967683 82.199362 \nL 314.272351 82.199369 \nL 314.577019 40.339259 \nL 314.881688 100.80385 \nL 315.186356 77.548237 \nL 315.491024 75.222676 \nL 315.795693 51.967061 \nL 316.100361 84.524916 \nL 316.405029 89.176045 \nL 316.709697 103.129417 \nL 317.014366 61.26931 \nL 317.319034 65.920438 \nL 317.928371 105.45498 \nL 318.233039 75.22268 \nL 318.537707 93.827169 \nL 318.842376 49.641505 \nL 319.147044 61.269311 \nL 319.451712 91.501606 \nL 319.756381 72.897119 \nL 320.061049 110.106101 \nL 320.365717 110.10611 \nL 320.670385 93.827166 \nL 320.975054 51.967061 \nL 321.279722 61.269312 \nL 321.58439 86.850494 \nL 321.889059 38.013694 \nL 322.193727 89.176047 \nL 322.498395 98.478293 \nL 322.803064 93.82718 \nL 323.107732 72.897119 \nL 323.4124 75.222676 \nL 323.717068 68.245987 \nL 324.021737 77.54824 \nL 324.326405 72.897124 \nL 324.631073 79.873796 \nL 325.545078 51.967065 \nL 325.849747 70.571552 \nL 326.154415 54.292624 \nL 326.459083 17.083636 \nL 326.763752 38.013696 \nL 327.06842 70.571559 \nL 327.373088 65.920433 \nL 327.677756 96.152727 \nL 327.982425 75.222679 \nL 328.287093 42.66482 \nL 328.591761 70.571558 \nL 328.89643 35.688138 \nL 329.201098 65.920428 \nL 329.505766 68.245998 \nL 329.810435 56.618187 \nL 330.115103 63.59487 \nL 330.419771 93.827167 \nL 330.724439 72.897114 \nL 331.029108 77.548234 \nL 331.333776 65.920431 \nL 331.943113 89.17605 \nL 332.247781 147.31509 \nL 332.552449 86.850492 \nL 332.857118 49.641505 \nL 333.161786 70.571557 \nL 333.466454 72.897123 \nL 333.771123 65.920433 \nL 334.075791 40.339264 \nL 334.380459 77.548246 \nL 334.685127 77.548239 \nL 335.903801 47.315942 \nL 336.208469 77.548242 \nL 336.817806 49.641505 \nL 337.122474 79.873805 \nL 337.427142 77.548239 \nL 337.731811 56.618183 \nL 338.036479 75.222676 \nL 338.341147 40.339256 \nL 338.645815 77.548233 \nL 338.950484 24.060336 \nL 339.255152 63.594877 \nL 339.55982 63.594876 \nL 339.864489 33.362573 \nL 340.169157 72.897116 \nL 340.473825 56.61819 \nL 340.778494 98.478295 \nL 341.083162 79.873804 \nL 341.38783 91.501612 \nL 341.997167 65.920438 \nL 342.301835 44.990376 \nL 342.606503 61.26931 \nL 342.911172 84.52492 \nL 343.520508 89.176047 \nL 343.825177 54.292631 \nL 344.129845 65.920429 \nL 344.434513 65.920436 \nL 344.739182 63.594879 \nL 345.04385 65.920425 \nL 345.348518 56.618191 \nL 345.653186 51.96706 \nL 345.957855 77.54824 \nL 346.262523 61.269311 \nL 346.567191 35.688133 \nL 346.87186 68.245994 \nL 347.176528 54.29263 \nL 347.481196 33.362579 \nL 347.785865 38.013702 \nL 348.395201 86.850484 \nL 348.699869 68.245995 \nL 349.004538 77.548239 \nL 349.309206 51.967065 \nL 349.613874 54.292633 \nL 349.918543 33.362574 \nL 350.223211 63.59487 \nL 350.527879 79.873805 \nL 350.832548 63.594869 \nL 351.137216 68.246 \nL 351.441884 112.431659 \nL 351.746553 51.967075 \nL 352.051221 77.548245 \nL 352.355889 79.873801 \nL 352.660557 70.571554 \nL 352.965226 31.037013 \nL 353.269894 26.385895 \nL 353.574562 63.594866 \nL 353.879231 24.060331 \nL 354.183899 65.920437 \nL 354.488567 56.618187 \nL 354.793236 56.61819 \nL 355.097904 68.245993 \nL 355.402572 42.664823 \nL 355.70724 56.618188 \nL 356.011909 56.618195 \nL 356.316577 114.757214 \nL 357.230582 28.711449 \nL 357.53525 68.245985 \nL 357.839919 63.594872 \nL 358.144587 31.037017 \nL 358.449255 75.222686 \nL 358.753924 17.083643 \nL 359.058592 58.943754 \nL 359.36326 51.967067 \nL 359.667928 61.269319 \nL 359.972597 89.176045 \nL 360.277265 96.152729 \nL 360.581933 47.315943 \nL 360.886602 56.618188 \nL 361.19127 58.943752 \nL 361.495938 44.990387 \nL 361.800607 79.873811 \nL 362.105275 93.827177 \nL 362.409943 56.618187 \nL 362.409943 56.618187 \n\" style=\"fill:none;stroke:#1f77b4;stroke-linecap:square;stroke-width:1.5;\"/>\n   </g>\n   <g id=\"patch_3\">\n    <path d=\"M 42.828125 224.64 \nL 42.828125 7.2 \n\" style=\"fill:none;stroke:#000000;stroke-linecap:square;stroke-linejoin:miter;stroke-width:0.8;\"/>\n   </g>\n   <g id=\"patch_4\">\n    <path d=\"M 377.628125 224.64 \nL 377.628125 7.2 \n\" style=\"fill:none;stroke:#000000;stroke-linecap:square;stroke-linejoin:miter;stroke-width:0.8;\"/>\n   </g>\n   <g id=\"patch_5\">\n    <path d=\"M 42.828125 224.64 \nL 377.628125 224.64 \n\" style=\"fill:none;stroke:#000000;stroke-linecap:square;stroke-linejoin:miter;stroke-width:0.8;\"/>\n   </g>\n   <g id=\"patch_6\">\n    <path d=\"M 42.828125 7.2 \nL 377.628125 7.2 \n\" style=\"fill:none;stroke:#000000;stroke-linecap:square;stroke-linejoin:miter;stroke-width:0.8;\"/>\n   </g>\n  </g>\n </g>\n <defs>\n  <clipPath id=\"p02e6dfaf3a\">\n   <rect height=\"217.44\" width=\"334.8\" x=\"42.828125\" y=\"7.2\"/>\n  </clipPath>\n </defs>\n</svg>\n",
      "text/plain": "<Figure size 432x288 with 1 Axes>"
     },
     "metadata": {
      "needs_background": "light"
     },
     "output_type": "display_data"
    }
   ],
   "source": [
    "#plt.plot(history.history['loss'])\n",
    "plt.plot(history.history['acc'])"
   ]
  },
  {
   "cell_type": "code",
   "execution_count": 51,
   "metadata": {},
   "outputs": [
    {
     "data": {
      "text/plain": "112"
     },
     "execution_count": 51,
     "metadata": {},
     "output_type": "execute_result"
    }
   ],
   "source": [
    "#reshap = Reshape((Layer.shape[1], 1), input_shape=(X.shape[1], ))(layer)\n",
    "model.fit_generator()"
   ]
  },
  {
   "cell_type": "code",
   "execution_count": null,
   "metadata": {},
   "outputs": [],
   "source": [
    "# the way it is set up, len(TimeseriesGenerator)= (len(data)-length)/batch_size, thus for #epochs>=6 and len(data)=190, length=16 and batch_size=29\n",
    "# to calculate a good number of batches/epoch, use floor(#samples/batch_size), to avoid seeing datapoints multiple times during a single epoch\n",
    "\n",
    "# DataGen_NSW = TimeseriesGenerator(df_all, y, 16, sampling_rate=1, stride=1, shuffle=False, reverse=False, batch_size=29)"
   ]
  },
  {
   "cell_type": "code",
   "execution_count": 22,
   "metadata": {},
   "outputs": [
    {
     "data": {
      "text/html": "<div>\n<style scoped>\n    .dataframe tbody tr th:only-of-type {\n        vertical-align: middle;\n    }\n\n    .dataframe tbody tr th {\n        vertical-align: top;\n    }\n\n    .dataframe thead th {\n        text-align: right;\n    }\n</style>\n<table border=\"1\" class=\"dataframe\">\n  <thead>\n    <tr style=\"text-align: right;\">\n      <th></th>\n      <th>price_NSW</th>\n      <th>price_QLD</th>\n      <th>price_SA</th>\n      <th>price_VIC</th>\n    </tr>\n  </thead>\n  <tbody>\n    <tr>\n      <th>2019-11-11 15:00:00</th>\n      <td>73.902058</td>\n      <td>42.191511</td>\n      <td>-188.904570</td>\n      <td>74.399059</td>\n    </tr>\n    <tr>\n      <th>2019-11-11 17:00:00</th>\n      <td>93.971053</td>\n      <td>86.783147</td>\n      <td>9.616821</td>\n      <td>91.430584</td>\n    </tr>\n    <tr>\n      <th>2019-11-11 19:00:00</th>\n      <td>99.080228</td>\n      <td>106.321299</td>\n      <td>86.391360</td>\n      <td>90.160702</td>\n    </tr>\n  </tbody>\n</table>\n</div>",
      "text/plain": "                     price_NSW   price_QLD    price_SA  price_VIC\n2019-11-11 15:00:00  73.902058   42.191511 -188.904570  74.399059\n2019-11-11 17:00:00  93.971053   86.783147    9.616821  91.430584\n2019-11-11 19:00:00  99.080228  106.321299   86.391360  90.160702"
     },
     "execution_count": 22,
     "metadata": {},
     "output_type": "execute_result"
    }
   ],
   "source": []
  },
  {
   "cell_type": "code",
   "execution_count": 50,
   "metadata": {},
   "outputs": [
    {
     "name": "stdout",
     "output_type": "stream",
     "text": "(2, 4)\n"
    },
    {
     "data": {
      "text/plain": "array([[['0'],\n        ['1'],\n        ['2'],\n        ['3']],\n\n       [['a'],\n        ['b'],\n        ['c'],\n        ['d']]], dtype='<U21')"
     },
     "execution_count": 50,
     "metadata": {},
     "output_type": "execute_result"
    }
   ],
   "source": [
    "arr_ = np.array([[0,1,2,3],['a','b','c','d']])\n",
    "nrows, ncols = arr_.shape\n",
    "print(arr_.shape)\n",
    "arr_.reshape(nrows, ncols, 1)"
   ]
  },
  {
   "cell_type": "code",
   "execution_count": 32,
   "metadata": {},
   "outputs": [
    {
     "data": {
      "text/html": "<div>\n<style scoped>\n    .dataframe tbody tr th:only-of-type {\n        vertical-align: middle;\n    }\n\n    .dataframe tbody tr th {\n        vertical-align: top;\n    }\n\n    .dataframe thead th {\n        text-align: right;\n    }\n</style>\n<table border=\"1\" class=\"dataframe\">\n  <thead>\n    <tr style=\"text-align: right;\">\n      <th></th>\n      <th>price_NSW</th>\n      <th>price_QLD</th>\n      <th>price_SA</th>\n      <th>price_VIC</th>\n    </tr>\n  </thead>\n  <tbody>\n    <tr>\n      <th>2019-11-11 15:00:00</th>\n      <td>73.902058</td>\n      <td>42.191511</td>\n      <td>-188.904570</td>\n      <td>74.399059</td>\n    </tr>\n    <tr>\n      <th>2019-11-11 17:00:00</th>\n      <td>93.971053</td>\n      <td>86.783147</td>\n      <td>9.616821</td>\n      <td>91.430584</td>\n    </tr>\n    <tr>\n      <th>2019-11-11 19:00:00</th>\n      <td>99.080228</td>\n      <td>106.321299</td>\n      <td>86.391360</td>\n      <td>90.160702</td>\n    </tr>\n  </tbody>\n</table>\n</div>",
      "text/plain": "                     price_NSW   price_QLD    price_SA  price_VIC\n2019-11-11 15:00:00  73.902058   42.191511 -188.904570  74.399059\n2019-11-11 17:00:00  93.971053   86.783147    9.616821  91.430584\n2019-11-11 19:00:00  99.080228  106.321299   86.391360  90.160702"
     },
     "execution_count": 32,
     "metadata": {},
     "output_type": "execute_result"
    }
   ],
   "source": []
  },
  {
   "cell_type": "code",
   "execution_count": 35,
   "metadata": {},
   "outputs": [
    {
     "ename": "AttributeError",
     "evalue": "'DataFrame' object has no attribute 'reshape'",
     "output_type": "error",
     "traceback": [
      "\u001b[0;31m---------------------------------------------------------------------------\u001b[0m",
      "\u001b[0;31mAttributeError\u001b[0m                            Traceback (most recent call last)",
      "\u001b[0;32m<ipython-input-35-25ab3e4cdf9b>\u001b[0m in \u001b[0;36m<module>\u001b[0;34m\u001b[0m\n\u001b[0;32m----> 1\u001b[0;31m \u001b[0ma\u001b[0m \u001b[0;34m=\u001b[0m \u001b[0ma\u001b[0m\u001b[0;34m.\u001b[0m\u001b[0mreshape\u001b[0m\u001b[0;34m(\u001b[0m\u001b[0;34m(\u001b[0m\u001b[0ma\u001b[0m\u001b[0;34m.\u001b[0m\u001b[0mshape\u001b[0m\u001b[0;34m[\u001b[0m\u001b[0;36m0\u001b[0m\u001b[0;34m]\u001b[0m\u001b[0;34m,\u001b[0m \u001b[0ma\u001b[0m\u001b[0;34m.\u001b[0m\u001b[0mshape\u001b[0m\u001b[0;34m[\u001b[0m\u001b[0;36m1\u001b[0m\u001b[0;34m]\u001b[0m\u001b[0;34m,\u001b[0m \u001b[0;36m1\u001b[0m\u001b[0;34m)\u001b[0m\u001b[0;34m)\u001b[0m\u001b[0;34m\u001b[0m\u001b[0;34m\u001b[0m\u001b[0m\n\u001b[0m",
      "\u001b[0;32m~/anaconda3/envs/EFORECAST/lib/python3.7/site-packages/pandas/core/generic.py\u001b[0m in \u001b[0;36m__getattr__\u001b[0;34m(self, name)\u001b[0m\n\u001b[1;32m   5177\u001b[0m             \u001b[0;32mif\u001b[0m \u001b[0mself\u001b[0m\u001b[0;34m.\u001b[0m\u001b[0m_info_axis\u001b[0m\u001b[0;34m.\u001b[0m\u001b[0m_can_hold_identifiers_and_holds_name\u001b[0m\u001b[0;34m(\u001b[0m\u001b[0mname\u001b[0m\u001b[0;34m)\u001b[0m\u001b[0;34m:\u001b[0m\u001b[0;34m\u001b[0m\u001b[0;34m\u001b[0m\u001b[0m\n\u001b[1;32m   5178\u001b[0m                 \u001b[0;32mreturn\u001b[0m \u001b[0mself\u001b[0m\u001b[0;34m[\u001b[0m\u001b[0mname\u001b[0m\u001b[0;34m]\u001b[0m\u001b[0;34m\u001b[0m\u001b[0;34m\u001b[0m\u001b[0m\n\u001b[0;32m-> 5179\u001b[0;31m             \u001b[0;32mreturn\u001b[0m \u001b[0mobject\u001b[0m\u001b[0;34m.\u001b[0m\u001b[0m__getattribute__\u001b[0m\u001b[0;34m(\u001b[0m\u001b[0mself\u001b[0m\u001b[0;34m,\u001b[0m \u001b[0mname\u001b[0m\u001b[0;34m)\u001b[0m\u001b[0;34m\u001b[0m\u001b[0;34m\u001b[0m\u001b[0m\n\u001b[0m\u001b[1;32m   5180\u001b[0m \u001b[0;34m\u001b[0m\u001b[0m\n\u001b[1;32m   5181\u001b[0m     \u001b[0;32mdef\u001b[0m \u001b[0m__setattr__\u001b[0m\u001b[0;34m(\u001b[0m\u001b[0mself\u001b[0m\u001b[0;34m,\u001b[0m \u001b[0mname\u001b[0m\u001b[0;34m,\u001b[0m \u001b[0mvalue\u001b[0m\u001b[0;34m)\u001b[0m\u001b[0;34m:\u001b[0m\u001b[0;34m\u001b[0m\u001b[0;34m\u001b[0m\u001b[0m\n",
      "\u001b[0;31mAttributeError\u001b[0m: 'DataFrame' object has no attribute 'reshape'"
     ]
    }
   ],
   "source": [
    "a = a.reshape((a.shape[0], a.shape[1], 1))"
   ]
  },
  {
   "cell_type": "code",
   "execution_count": 48,
   "metadata": {},
   "outputs": [],
   "source": [
    "y_24h.name = 12"
   ]
  },
  {
   "cell_type": "code",
   "execution_count": 51,
   "metadata": {},
   "outputs": [],
   "source": [
    "y_24h.name = 12\n",
    "y_timeshift = [y_2h, y_6h, y_12h, y_24h]"
   ]
  },
  {
   "cell_type": "code",
   "execution_count": 52,
   "metadata": {},
   "outputs": [
    {
     "data": {
      "text/plain": "[                     price_NSW   price_QLD   price_SA  price_VIC\n 2019-11-11 15:00:00  93.971053   86.783147   9.616821  91.430584\n 2019-11-11 17:00:00  99.080228  106.321299  86.391360  90.160702\n 2019-11-11 19:00:00  66.364615   64.227690  58.054220  61.840291\n 2019-11-11 21:00:00  67.524743   64.960000  59.524424  65.541250\n 2019-11-11 23:00:00  43.994170   43.253505  37.627617  40.739793\n ...                        ...         ...        ...        ...\n 2019-11-27 19:00:00  60.811630   60.686921  66.382507  64.112951\n 2019-11-27 21:00:00  48.882500   49.116166  57.240443  52.753398\n 2019-11-27 23:00:00  41.057230   39.586084  47.445475  43.007240\n 2019-11-28 01:00:00  38.420000   37.423622  41.511857  37.506012\n 2019-11-28 03:00:00        NaN         NaN        NaN        NaN\n \n [199 rows x 4 columns],\n                      price_NSW  price_QLD   price_SA  price_VIC\n 2019-11-11 15:00:00  66.364615  64.227690  58.054220  61.840291\n 2019-11-11 17:00:00  67.524743  64.960000  59.524424  65.541250\n 2019-11-11 19:00:00  43.994170  43.253505  37.627617  40.739793\n 2019-11-11 21:00:00  44.095282  42.956405  33.225290  33.257834\n 2019-11-11 23:00:00  76.317304  60.940083  72.552780  76.522480\n ...                        ...        ...        ...        ...\n 2019-11-27 19:00:00  41.057230  39.586084  47.445475  43.007240\n 2019-11-27 21:00:00  38.420000  37.423622  41.511857  37.506012\n 2019-11-27 23:00:00        NaN        NaN        NaN        NaN\n 2019-11-28 01:00:00        NaN        NaN        NaN        NaN\n 2019-11-28 03:00:00        NaN        NaN        NaN        NaN\n \n [199 rows x 4 columns],\n                      price_NSW  price_QLD    price_SA  price_VIC\n 2019-11-11 15:00:00  44.095282  42.956405   33.225290  33.257834\n 2019-11-11 17:00:00  76.317304  60.940083   72.552780  76.522480\n 2019-11-11 19:00:00  67.837232  25.065498   70.435009  73.531389\n 2019-11-11 21:00:00  41.731476  14.708492   35.630168  39.043804\n 2019-11-11 23:00:00  40.470917  23.944074 -127.477702  25.804247\n ...                        ...        ...         ...        ...\n 2019-11-27 19:00:00        NaN        NaN         NaN        NaN\n 2019-11-27 21:00:00        NaN        NaN         NaN        NaN\n 2019-11-27 23:00:00        NaN        NaN         NaN        NaN\n 2019-11-28 01:00:00        NaN        NaN         NaN        NaN\n 2019-11-28 03:00:00        NaN        NaN         NaN        NaN\n \n [199 rows x 4 columns],\n                       price_NSW   price_QLD   price_SA  price_VIC\n 2019-11-11 15:00:00  105.994530  100.520612 -74.500268  64.469009\n 2019-11-11 17:00:00  130.501702  127.056027  32.251894  72.256154\n 2019-11-11 19:00:00  111.594185  112.703059  67.504994  96.994505\n 2019-11-11 21:00:00   74.518206   74.289871  65.521961  71.818119\n 2019-11-11 23:00:00   68.249101   67.858122  62.507665  66.575058\n ...                         ...         ...        ...        ...\n 2019-11-27 19:00:00         NaN         NaN        NaN        NaN\n 2019-11-27 21:00:00         NaN         NaN        NaN        NaN\n 2019-11-27 23:00:00         NaN         NaN        NaN        NaN\n 2019-11-28 01:00:00         NaN         NaN        NaN        NaN\n 2019-11-28 03:00:00         NaN         NaN        NaN        NaN\n \n [199 rows x 4 columns]]"
     },
     "execution_count": 52,
     "metadata": {},
     "output_type": "execute_result"
    }
   ],
   "source": [
    "weather_NSW, electricity_NSW = doodahs.import_n_statelabel('NSW')\n",
    "weather_QLD, electricity_QLD = doodahs.import_n_statelabel('QLD')\n",
    "weather_VIC, electricity_VIC = doodahs.import_n_statelabel('VIC')\n",
    "weather_SA, electricity_SA = doodahs.import_n_statelabel('SA')\n",
    "\n",
    "# join all data state wise\n",
    "df_NSW = weather_NSW.join(electricity_NSW['scheduledGeneration_NSW'])\n",
    "df_NSW = doodahs.create_diffs(df_NSW, list(range(len(df_NSW.columns))))\n",
    "df_QLD = weather_QLD.join(electricity_QLD['scheduledGeneration_QLD'])\n",
    "df_QLD = doodahs.create_diffs(df_QLD, list(range(len(df_QLD.columns))))\n",
    "df_VIC = weather_VIC.join(electricity_VIC['scheduledGeneration_VIC'])\n",
    "df_VIC = doodahs.create_diffs(df_VIC, list(range(len(df_VIC.columns))))\n",
    "df_SA = weather_SA.join(electricity_SA['scheduledGeneration_SA'])\n",
    "df_SA = doodahs.create_diffs(df_SA, list(range(len(df_SA.columns))))\n",
    "\n",
    "y_nn = electricity_NSW.join(electricity_QLD['price_QLD'])\n",
    "del y_nn['scheduledGeneration_NSW']\n",
    "y_nn = y_nn.join(electricity_VIC['price_VIC'])\n",
    "y_nn = y_nn.join(electricity_SA['price_SA'])\n",
    "\n",
    "print('NSW', df_NSW.shape)   \n",
    "print('QLD', df_QLD.shape)\n",
    "print('VIC', df_VIC.shape)   \n",
    "print('SA', df_SA.shape)       \n",
    "df_NSW = df_NSW.dropna()\n",
    "df_QLD = df_QLD.dropna()\n",
    "df_VIC = df_VIC.dropna()\n",
    "df_SA = df_SA.dropna()\n",
    "\n",
    "\n",
    "\n",
    "y_nn = y_nn[(y_nn.index>=df_NSW.index[0])&(y_nn.index<=df_NSW.index[-1])]\n",
    "assert y_nn.shape[0]==df_NSW.shape[0], 'Different columns lengths detected!'\n",
    "print('data x shape: ',df_NSW.shape)\n",
    "print('test y shape: ',y_nn.shape)"
   ]
  },
  {
   "cell_type": "code",
   "execution_count": 58,
   "metadata": {},
   "outputs": [
    {
     "data": {
      "text/html": "<div>\n<style scoped>\n    .dataframe tbody tr th:only-of-type {\n        vertical-align: middle;\n    }\n\n    .dataframe tbody tr th {\n        vertical-align: top;\n    }\n\n    .dataframe thead th {\n        text-align: right;\n    }\n</style>\n<table border=\"1\" class=\"dataframe\">\n  <thead>\n    <tr style=\"text-align: right;\">\n      <th></th>\n      <th>price_NSW</th>\n      <th>scheduledGeneration_NSW</th>\n    </tr>\n  </thead>\n  <tbody>\n    <tr>\n      <th>2019-11-09 11:00:00+00:00</th>\n      <td>77.150094</td>\n      <td>5466.648813</td>\n    </tr>\n    <tr>\n      <th>2019-11-09 12:00:00+00:00</th>\n      <td>75.228484</td>\n      <td>5324.231333</td>\n    </tr>\n    <tr>\n      <th>2019-11-09 13:00:00+00:00</th>\n      <td>89.562308</td>\n      <td>5250.784769</td>\n    </tr>\n    <tr>\n      <th>2019-11-09 14:00:00+00:00</th>\n      <td>74.352310</td>\n      <td>5052.957333</td>\n    </tr>\n    <tr>\n      <th>2019-11-09 15:00:00+00:00</th>\n      <td>73.655698</td>\n      <td>4779.852429</td>\n    </tr>\n    <tr>\n      <th>...</th>\n      <td>...</td>\n      <td>...</td>\n    </tr>\n    <tr>\n      <th>2019-12-10 00:00:00+00:00</th>\n      <td>56.495956</td>\n      <td>8092.033145</td>\n    </tr>\n    <tr>\n      <th>2019-12-10 01:00:00+00:00</th>\n      <td>63.729611</td>\n      <td>8556.537543</td>\n    </tr>\n    <tr>\n      <th>2019-12-10 02:00:00+00:00</th>\n      <td>67.493070</td>\n      <td>8978.043818</td>\n    </tr>\n    <tr>\n      <th>2019-12-10 03:00:00+00:00</th>\n      <td>68.522514</td>\n      <td>9508.025989</td>\n    </tr>\n    <tr>\n      <th>2019-12-10 04:00:00+00:00</th>\n      <td>68.805264</td>\n      <td>9609.602130</td>\n    </tr>\n  </tbody>\n</table>\n<p>738 rows × 2 columns</p>\n</div>",
      "text/plain": "                           price_NSW  scheduledGeneration_NSW\n2019-11-09 11:00:00+00:00  77.150094              5466.648813\n2019-11-09 12:00:00+00:00  75.228484              5324.231333\n2019-11-09 13:00:00+00:00  89.562308              5250.784769\n2019-11-09 14:00:00+00:00  74.352310              5052.957333\n2019-11-09 15:00:00+00:00  73.655698              4779.852429\n...                              ...                      ...\n2019-12-10 00:00:00+00:00  56.495956              8092.033145\n2019-12-10 01:00:00+00:00  63.729611              8556.537543\n2019-12-10 02:00:00+00:00  67.493070              8978.043818\n2019-12-10 03:00:00+00:00  68.522514              9508.025989\n2019-12-10 04:00:00+00:00  68.805264              9609.602130\n\n[738 rows x 2 columns]"
     },
     "execution_count": 58,
     "metadata": {},
     "output_type": "execute_result"
    }
   ],
   "source": [
    "electricity_dict['electricity_NSW'].resample('60T').mean()"
   ]
  },
  {
   "cell_type": "code",
   "execution_count": 167,
   "metadata": {},
   "outputs": [
    {
     "data": {
      "text/plain": "[{'t': Timestamp('2019-12-16 11:00:00'),\n  'banana': 0.0,\n  'appl': 1.0,\n  'citron': 2.0},\n {'t': Timestamp('2019-12-16 12:00:00'),\n  'banana': 3.0,\n  'appl': 4.0,\n  'citron': 5.0},\n {'t': Timestamp('2019-12-16 13:00:00'),\n  'banana': 6.0,\n  'appl': 7.0,\n  'citron': 8.0},\n {'t': Timestamp('2016-12-16 14:00:00'),\n  'banana': 9.0,\n  'appl': 10.0,\n  'citron': 11.0}]"
     },
     "execution_count": 167,
     "metadata": {},
     "output_type": "execute_result"
    }
   ],
   "source": [
    "params = {'name': \"Test - now also with signals\",\n",
    "        'description': \"Can definitely confirm signals extant.\",\n",
    "        'price': 0,\n",
    "        'file_path': './6_predictions/banana.csv'\n",
    "        }\n",
    "APIfetch.upload_series(ananas, params, id_='bab66317-3e8a-4e3f-94b2-aa5fe890dc11')"
   ]
  },
  {
   "cell_type": "code",
   "execution_count": 72,
   "metadata": {},
   "outputs": [
    {
     "name": "stdout",
     "output_type": "stream",
     "text": "\n"
    }
   ],
   "source": [
    "appler = ''\n",
    "if not appler:\n",
    "    print(appler)"
   ]
  },
  {
   "cell_type": "code",
   "execution_count": 166,
   "metadata": {},
   "outputs": [
    {
     "data": {
      "text/html": "<div>\n<style scoped>\n    .dataframe tbody tr th:only-of-type {\n        vertical-align: middle;\n    }\n\n    .dataframe tbody tr th {\n        vertical-align: top;\n    }\n\n    .dataframe thead th {\n        text-align: right;\n    }\n</style>\n<table border=\"1\" class=\"dataframe\">\n  <thead>\n    <tr style=\"text-align: right;\">\n      <th></th>\n      <th>banana</th>\n      <th>appl</th>\n      <th>citron</th>\n    </tr>\n  </thead>\n  <tbody>\n    <tr>\n      <th>2019-12-16 11:00:00</th>\n      <td>0</td>\n      <td>1</td>\n      <td>2</td>\n    </tr>\n    <tr>\n      <th>2019-12-16 12:00:00</th>\n      <td>3</td>\n      <td>4</td>\n      <td>5</td>\n    </tr>\n    <tr>\n      <th>2019-12-16 13:00:00</th>\n      <td>6</td>\n      <td>7</td>\n      <td>8</td>\n    </tr>\n    <tr>\n      <th>2016-12-16 14:00:00</th>\n      <td>9</td>\n      <td>10</td>\n      <td>11</td>\n    </tr>\n  </tbody>\n</table>\n</div>",
      "text/plain": "                     banana  appl  citron\n2019-12-16 11:00:00       0     1       2\n2019-12-16 12:00:00       3     4       5\n2019-12-16 13:00:00       6     7       8\n2016-12-16 14:00:00       9    10      11"
     },
     "execution_count": 166,
     "metadata": {},
     "output_type": "execute_result"
    }
   ],
   "source": [
    "ananas = pd.DataFrame([[0,1,2],[3,4,5],[6,7,8],[9,10,11]],index=[datetime(2019,12,16,11,0,0),datetime(2019,12,16,12,0,0,),datetime(2019,12,16,13,0,0),datetime(2016,12,16,14,0,0)], columns=['banana','appl','citron']); ananas.head()"
   ]
  },
  {
   "cell_type": "code",
   "execution_count": 141,
   "metadata": {},
   "outputs": [
    {
     "name": "stdout",
     "output_type": "stream",
     "text": "0\n1\n2\n3\n"
    }
   ],
   "source": [
    "signal_list = []\n",
    "cats = ananas.columns\n",
    "for row in range(ananas.shape[0]):\n",
    "    print(row)\n",
    "    temp_dict = dict(t=ananas.index[row])\n",
    "    for _ in range(len(cats)):\n",
    "      temp_dict[cats[_]] = ananas.iloc[row,_]\n",
    "    signal_list.append(temp_dict)"
   ]
  },
  {
   "cell_type": "code",
   "execution_count": 142,
   "metadata": {},
   "outputs": [
    {
     "data": {
      "text/plain": "[{'t': Timestamp('2019-12-01 00:00:00'), 'banan': 0, 'appl': 1, 'citron': 2},\n {'t': Timestamp('2018-12-01 12:00:00'), 'banan': 3, 'appl': 4, 'citron': 5},\n {'t': Timestamp('2017-12-01 00:00:00'), 'banan': 6, 'appl': 7, 'citron': 8},\n {'t': Timestamp('2016-12-01 00:00:00'), 'banan': 9, 'appl': 10, 'citron': 11}]"
     },
     "execution_count": 142,
     "metadata": {},
     "output_type": "execute_result"
    }
   ],
   "source": [
    "signal_list"
   ]
  },
  {
   "cell_type": "code",
   "execution_count": 8,
   "metadata": {},
   "outputs": [
    {
     "data": {
      "text/plain": "{'electricity_NSW':                            price._NSW  scheduledGeneration._NSW\n 2019-11-09 11:00:00+00:00   76.732424               5476.242923\n 2019-11-09 12:00:00+00:00   75.001667               5361.238833\n 2019-11-09 13:00:00+00:00   89.955000               5252.768500\n 2019-11-09 14:00:00+00:00   75.348605               5033.585455\n 2019-11-09 15:00:00+00:00   74.153314               4773.684500\n ...                               ...                       ...\n 2019-12-10 00:00:00+00:00   55.970478               8155.316572\n 2019-12-10 01:00:00+00:00   61.797306               8555.511271\n 2019-12-10 02:00:00+00:00   62.821535               8798.406909\n 2019-12-10 03:00:00+00:00   58.581257               8985.097994\n 2019-12-10 04:00:00+00:00   61.610132               9324.001065\n \n [738 rows x 2 columns],\n 'electricity_QLD':                            price._QLD  scheduledGeneration._QLD\n 2019-11-09 11:00:00+00:00   54.120000               6604.693000\n 2019-11-09 12:00:00+00:00   49.652846               6304.466714\n 2019-11-09 13:00:00+00:00   48.847500               5945.815000\n 2019-11-09 14:00:00+00:00   31.201000               5644.405400\n 2019-11-09 15:00:00+00:00   39.634167               5523.380417\n ...                               ...                       ...\n 2019-12-10 00:00:00+00:00   58.100894               5906.398550\n 2019-12-10 01:00:00+00:00   64.880306               5998.708638\n 2019-12-10 02:00:00+00:00   65.860851               6238.997681\n 2019-12-10 03:00:00+00:00   70.938126               6453.287625\n 2019-12-10 04:00:00+00:00   72.366652               6886.962188\n \n [738 rows x 2 columns],\n 'electricity_VIC':                            price._VIC  scheduledGeneration._VIC\n 2019-11-09 11:00:00+00:00   71.434833               3829.825222\n 2019-11-09 12:00:00+00:00   69.231708               3844.651750\n 2019-11-09 13:00:00+00:00   89.684694               3710.697636\n 2019-11-09 14:00:00+00:00   75.426356               3545.479917\n 2019-11-09 15:00:00+00:00   73.362010               3544.644000\n ...                               ...                       ...\n 2019-12-10 00:00:00+00:00   48.254344               3960.982125\n 2019-12-10 01:00:00+00:00   49.095765               4106.119937\n 2019-12-10 02:00:00+00:00   44.826824               4184.702312\n 2019-12-10 03:00:00+00:00   37.639531               4173.624875\n 2019-12-10 04:00:00+00:00   46.712448               4120.261875\n \n [738 rows x 2 columns],\n 'electricity_SA':                            price._SA  scheduledGeneration._SA\n 2019-11-09 11:00:00+00:00  69.461535               607.768538\n 2019-11-09 12:00:00+00:00  70.039997               572.231267\n 2019-11-09 13:00:00+00:00  93.460173               781.764526\n 2019-11-09 14:00:00+00:00  82.615169               594.673071\n 2019-11-09 15:00:00+00:00  81.291183               493.645333\n ...                              ...                      ...\n 2019-12-10 00:00:00+00:00  45.778231               516.459125\n 2019-12-10 01:00:00+00:00  45.765581               517.879812\n 2019-12-10 02:00:00+00:00  41.891008               515.397750\n 2019-12-10 03:00:00+00:00  34.857887               562.429688\n 2019-12-10 04:00:00+00:00  43.053845               578.778563\n \n [738 rows x 2 columns]}"
     },
     "execution_count": 8,
     "metadata": {},
     "output_type": "execute_result"
    }
   ],
   "source": [
    "electricity_dict"
   ]
  },
  {
   "cell_type": "code",
   "execution_count": 16,
   "metadata": {},
   "outputs": [
    {
     "data": {
      "text/plain": "DatetimeIndex(['2019-11-11 02:00:00+00:00', '2019-11-11 03:00:00+00:00',\n               '2019-11-11 04:00:00+00:00', '2019-11-11 05:00:00+00:00',\n               '2019-11-11 06:00:00+00:00', '2019-11-11 07:00:00+00:00',\n               '2019-11-11 08:00:00+00:00', '2019-11-11 09:00:00+00:00',\n               '2019-11-11 10:00:00+00:00', '2019-11-11 11:00:00+00:00',\n               ...\n               '2019-12-09 19:00:00+00:00', '2019-12-09 20:00:00+00:00',\n               '2019-12-09 21:00:00+00:00', '2019-12-09 22:00:00+00:00',\n               '2019-12-09 23:00:00+00:00', '2019-12-10 00:00:00+00:00',\n               '2019-12-10 01:00:00+00:00', '2019-12-10 02:00:00+00:00',\n               '2019-12-10 03:00:00+00:00', '2019-12-10 04:00:00+00:00'],\n              dtype='datetime64[ns, tzutc()]', length=699, freq='60T')"
     },
     "execution_count": 16,
     "metadata": {},
     "output_type": "execute_result"
    }
   ],
   "source": [
    "e = y.copy()\n",
    "df_all.index.sort_values()"
   ]
  },
  {
   "cell_type": "code",
   "execution_count": 170,
   "metadata": {},
   "outputs": [
    {
     "data": {
      "text/plain": "['temperature_VIC',\n 'rainProb_VIC',\n 'windSpeed_VIC',\n 'windDirection_VIC',\n 'cloudCover_VIC',\n 'pressure_VIC',\n 'd_temperature_VIC',\n 'd_rainProb_VIC',\n 'd_windSpeed_VIC',\n 'd_windDirection_VIC',\n 'd_cloudCover_VIC',\n 'd_pressure_VIC',\n 'd_price_VIC',\n 'd_scheduledGeneration_VIC',\n 'scheduledGeneration_VIC',\n 'price.Forecast_VIC',\n 'scheduledGeneration.Forecast_VIC',\n 'd_price.Forecast_VIC',\n 'd_scheduledGeneration.Forecast_VIC',\n 'year',\n 'month',\n 'day',\n 'dayofweek',\n 'dayofyear',\n 'is_quarter_end',\n 'hour']"
     },
     "execution_count": 170,
     "metadata": {},
     "output_type": "execute_result"
    }
   ],
   "source": [
    "[*df_all.columns[['_VIC' in a for a in df_all.columns]],'year', 'month', 'day', 'dayofweek','dayofyear', 'is_quarter_end', 'hour']"
   ]
  },
  {
   "cell_type": "code",
   "execution_count": null,
   "metadata": {},
   "outputs": [],
   "source": []
  }
 ],
 "metadata": {
  "file_extension": ".py",
  "kernelspec": {
   "display_name": "Python 3",
   "language": "python",
   "name": "python3"
  },
  "language_info": {
   "codemirror_mode": {
    "name": "ipython",
    "version": 3
   },
   "file_extension": ".py",
   "mimetype": "text/x-python",
   "name": "python",
   "nbconvert_exporter": "python",
   "pygments_lexer": "ipython3",
   "version": "3.7.5"
  },
  "mimetype": "text/x-python",
  "name": "python",
  "npconvert_exporter": "python",
  "pygments_lexer": "ipython3",
  "version": 3
 },
 "nbformat": 4,
 "nbformat_minor": 4
}