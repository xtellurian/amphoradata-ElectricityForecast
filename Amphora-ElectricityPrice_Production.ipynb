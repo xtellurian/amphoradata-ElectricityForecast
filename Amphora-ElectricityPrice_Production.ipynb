{
 "cells": [
  {
   "cell_type": "markdown",
   "execution_count": 1,
   "metadata": {},
   "outputs": [],
   "source": [
    "# Creating Electricity Spot Price predictions for SA, NSW, VIC and QLD with data from amphora.com"
   ]
  },
  {
   "cell_type": "code",
   "execution_count": 58,
   "metadata": {},
   "outputs": [],
   "source": [
    "#!\"./setup-EForecast.sh\"\n",
    "%reload_ext autoreload\n",
    "%autoreload 2\n",
    "%matplotlib inline\n",
    "\n",
    "import pandas as pd\n",
    "from pandas.plotting import register_matplotlib_converters\n",
    "register_matplotlib_converters()\n",
    "import matplotlib.pyplot as plt\n",
    "import seaborn as sns\n",
    "from math import floor\n",
    "import numpy as np\n",
    "from datetime import datetime\n",
    "from sklearn import linear_model\n",
    "from sklearn.ensemble import RandomForestRegressor, ExtraTreesRegressor\n",
    "from joblib import dump, load\n",
    "from doodahs import doodahs\n",
    "from doodahs import APIfetch"
   ]
  },
  {
   "cell_type": "markdown",
   "execution_count": null,
   "metadata": {},
   "outputs": [],
   "source": [
    "## Loading data, creating differential features, creating X, and Y data"
   ]
  },
  {
   "cell_type": "code",
   "execution_count": 2,
   "metadata": {},
   "outputs": [],
   "source": [
    "# load electricity and weather data from the amphora API\n",
    "params = {'id': '',\n",
    "        'start_time': datetime(2019,11,9,11),#YYYY,MM,DD,hh,mm\n",
    "        'end_time': datetime(2019,12,10,5),\n",
    "        #'filter': ''\n",
    "        }\n",
    "\n",
    "e_ids = {'electricity_NSW': 'ecc5263e-83b6-42d6-8852-64beffdf204e',  \n",
    "        'electricity_QLD': 'ef22fa0f-010c-4ab1-8a28-a8963f838ce9',  \n",
    "        'electricity_VIC': '3b66da5a-0723-4778-98fc-02d619c70664', \n",
    "        'electricity_SA': '89c2e30d-78c8-46ef-b591-140edd84ddb6'}  \n",
    "\n",
    "electricity_dict = {}\n",
    "for _ in e_ids:\n",
    "    params['id'] = e_ids[_]\n",
    "    banana_temp = APIfetch.fetch_data(params)\n",
    "    if 'filter' in params:\n",
    "        del banana_temp['periodType.{}'.format(params['filter'])]\n",
    "    else:\n",
    "        del banana_temp['periodType']\n",
    "    # add the _state suffix to column names:\n",
    "    banana_temp.columns = [col +'_'+_[_.index('_')+1:] for col in banana_temp.columns]\n",
    "    banana_temp = banana_temp.sort_index()\n",
    "    # prevent some weird pandas 'feature' from resampling the df:\n",
    "    banana_temp = banana_temp.apply(pd.to_numeric,                       errors='coerce')\n",
    "    electricity_dict[_] = banana_temp.resample('60T').mean()\n",
    "\n",
    "forecast_dict = {}\n",
    "for _ in e_ids:\n",
    "    params['filter'] = 'Forecast'\n",
    "    params['id'] = e_ids[_]\n",
    "    banana_temp = APIfetch.fetch_data(params)\n",
    "    del banana_temp['periodType.Forecast']\n",
    "    # add the _state suffix to column names:\n",
    "    banana_temp.columns = [col +'_'+_[_.index('_')+1:] for col in banana_temp.columns]\n",
    "    banana_temp = banana_temp.sort_index()\n",
    "    # prevent some weird pandas 'feature' from resampling the df:\n",
    "    banana_temp = banana_temp.apply(pd.to_numeric,                       errors='coerce')\n",
    "    forecast_dict[_] = banana_temp.resample('60T').mean()\n",
    "    del params['filter']\n",
    "    \n",
    "w_ids = {'weather_NSW': '11fd3d6a-12e4-4767-9d52-03271b543c66',  \n",
    "        'weather_QLD': 'a46f461f-f7ee-4cc5-a1e4-569960ea5ed8',  \n",
    "        'weather_VIC': 'd48ac35f-c658-41c1-909a-f662d6f3a972', \n",
    "        'weather_SA': 'f860ba45-9dda-41e0-91aa-73901a323318'}  \n",
    "\n",
    "weather_dict = {}\n",
    "for _ in w_ids:\n",
    "    params['id'] = w_ids[_]\n",
    "    banana_temp = APIfetch.fetch_data(params)\n",
    "    if 'filter' in params:\n",
    "        del banana_temp['description.{}'.format(params['filter'])]\n",
    "    else:\n",
    "        del banana_temp['description']\n",
    "    # add the _state suffix to column names:\n",
    "    banana_temp.columns = [col +'_'+_[_.index('_')+1:] for col in banana_temp.columns]\n",
    "    banana_temp = banana_temp.sort_index()\n",
    "    # prevent some weird pandas 'feature' from resampling the df:\n",
    "    banana_temp = banana_temp.apply(pd.to_numeric,                       errors='coerce')\n",
    "    weather_dict[_] = banana_temp.resample('60T').mean()"
   ]
  },
  {
   "cell_type": "code",
   "execution_count": 37,
   "metadata": {},
   "outputs": [],
   "source": [
    "# join all electricity data\n",
    "df_elec = electricity_dict['electricity_NSW'].join(electricity_dict['electricity_QLD'])\n",
    "df_elec = df_elec.join(electricity_dict['electricity_VIC'])\n",
    "df_elec = df_elec.join(electricity_dict['electricity_SA'])\n",
    "df_elec = doodahs.create_diffs(df_elec, list(range(len(df_elec.columns))))\n",
    "\n",
    "# join all forecast data\n",
    "df_fore = forecast_dict['electricity_NSW'].join(forecast_dict['electricity_QLD'])\n",
    "df_fore = df_fore.join(forecast_dict['electricity_VIC'])\n",
    "df_fore = df_fore.join(forecast_dict['electricity_SA'])\n",
    "df_fore = doodahs.create_diffs(df_fore, list(range(len(df_fore.columns))))\n",
    "\n",
    "# outer join for all weather data\n",
    "df_weather = weather_dict['weather_NSW'].join(weather_dict['weather_QLD'])\n",
    "df_weather = df_weather.join(weather_dict['weather_VIC'])\n",
    "df_weather = df_weather.join(weather_dict['weather_SA'])\n",
    "df_weather = doodahs.create_diffs(df_weather, list(range(len(df_weather.columns))))"
   ]
  },
  {
   "cell_type": "code",
   "execution_count": 40,
   "metadata": {},
   "outputs": [
    {
     "name": "stdout",
     "output_type": "stream",
     "text": "elec shape:  (738, 12)\ny shape:  (738, 4)\ndf_all shape:  (699, 76)\n"
    }
   ],
   "source": [
    "# re-sort dataset columns and extract test data y\n",
    "df_elec = df_elec.reindex(sorted(df_elec.columns), axis=1)\n",
    "y = df_elec.iloc[:,8:12]\n",
    "for _ in y.columns:\n",
    "    del df_elec[_]\n",
    "\n",
    "print('elec shape: ',df_elec.shape)\n",
    "print('y shape: ',y.shape)\n",
    "\n",
    "# Create complete dataset of all train variables\n",
    "df_all = df_weather.join(df_elec)\n",
    "df_all = df_all.join(df_fore)\n",
    "\n",
    "print('df_all shape: ',df_all.shape)"
   ]
  },
  {
   "cell_type": "code",
   "execution_count": 41,
   "metadata": {},
   "outputs": [
    {
     "data": {
      "text/plain": "(551, 4)"
     },
     "execution_count": 41,
     "metadata": {},
     "output_type": "execute_result"
    }
   ],
   "source": [
    "# ensure equal shape on both X & Y, so both train and test data share the same timeframe\n",
    "df_all = df_all.dropna()\n",
    "y = y[y.index.isin(df_all.index)]\n",
    "#y = y[(y.index>=df_all.index[0]) & (y.index<=df_all.index[-1])]\n",
    "assert all(dat in df_all.index for dat in y.index), 'Index differs for df_all and y!'\n",
    "y.shape"
   ]
  },
  {
   "cell_type": "markdown",
   "execution_count": null,
   "metadata": {},
   "outputs": [],
   "source": [
    "## Creating Linear, NN and CNN models:"
   ]
  },
  {
   "cell_type": "code",
   "execution_count": 42,
   "metadata": {},
   "outputs": [],
   "source": [
    "# Calculate correlations to price for slim and nimble multi-linear model:\n",
    "corr_NSW = (df_all.join(y.iloc[:,0])).corr()\n",
    "corr_QLD = (df_all.join(y.iloc[:,1])).corr()\n",
    "corr_SA = (df_all.join(y.iloc[:,2])).corr()\n",
    "corr_VIC = (df_all.join(y.iloc[:,3])).corr()"
   ]
  },
  {
   "cell_type": "code",
   "execution_count": 43,
   "metadata": {},
   "outputs": [],
   "source": [
    "##Define data ranges for train, validation, and test set:\n",
    "\n",
    "# data the model will be trained on (corresponding columns)\n",
    "train_from = 0\n",
    "train_to = floor(0.9 * df_all.shape[0])\n",
    "# data the current model (read: weights) are validated on\n",
    "valid_from = floor(0.9 * df_all.shape[0])+1\n",
    "valid_to = floor(0.95 * df_all.shape[0])\n",
    "# data the final fit will be tested on, to make predictions for the last timesteps\n",
    "test_from = floor(0.95 * df_all.shape[0])+1\n",
    "test_to = df_all.shape[0]"
   ]
  },
  {
   "cell_type": "code",
   "execution_count": 44,
   "metadata": {},
   "outputs": [
    {
     "data": {
      "text/plain": "Index(['price_NSW', 'price_QLD', 'price_SA', 'price_VIC'], dtype='object')"
     },
     "execution_count": 44,
     "metadata": {},
     "output_type": "execute_result"
    }
   ],
   "source": [
    "# error check:\n",
    "y.columns"
   ]
  },
  {
   "cell_type": "markdown",
   "execution_count": null,
   "metadata": {},
   "outputs": [],
   "source": [
    "### Fitting a multivariate linear model to the top i variables with the highest correlation to 'price_STATE':"
   ]
  },
  {
   "cell_type": "code",
   "execution_count": 123,
   "metadata": {},
   "outputs": [],
   "source": [
    "# Fitting a multivariate linear model to the top i variables with the highest correlation to 'price_NSW':\n",
    "\n",
    "state_dict = {'NSW': corr_NSW, 'QLD': corr_QLD, 'VIC': corr_VIC, 'SA': corr_SA}\n",
    "# df containing the predicted values with correct timestamps:\n",
    "lin_pred_df = pd.DataFrame(index=df_all.index)\n",
    "\n",
    "# predict for eacht state according to \n",
    "for _ in y.columns:\n",
    "    # extract state string:\n",
    "    state = _[_.index('_')+1:]\n",
    "    # select 8 vars with highest correlation to electricity spot price in state:\n",
    "    banana = list(state_dict[state][_].sort_values(ascending=False)[1:20].index)\n",
    "    # create training, validation and validation features:\n",
    "    training_x = df_all[banana].iloc[train_from:train_to,:]\n",
    "    training_y = y[[_]].iloc[train_from:train_to,:]\n",
    "    validation_x = df_all[banana].iloc[valid_from:valid_to,:]\n",
    "    test_data = y[[_]].iloc[test_from:test_to,:]\n",
    "\n",
    "    # get the (model, predictions) from the fit:\n",
    "    lin1, lin1_pred = doodahs.linear_model_predictions(training_x, training_y, validation_x)\n",
    "    \n",
    "    # mean absolute error and relative rror:\n",
    "    mae = doodahs.model_MAE(lin1, lin1_pred, test_data)\n",
    "    rel = doodahs.rel_error(lin1, lin1_pred, test_data)\n",
    "    \n",
    "    # save model to folder ./5_models:\n",
    "    now = datetime.now()\n",
    "    dump(lin1, f'./5_models/{state}-lin-model-{now:y%Y-m%m-d%d-h%H-m%M}-error{mae:.1f}.joblib') # load model by using load('./folder/filename')\n",
    "\n",
    "    # save predictions to df:\n",
    "    temp_str = ''.join([state,'_linModel-inferred'])\n",
    "    lin_pred_df[temp_str] = lin1_pred.reshape((len(lin1_pred)))\n"
   ]
  },
  {
   "cell_type": "markdown",
   "execution_count": null,
   "metadata": {},
   "outputs": [],
   "source": [
    "### Fitting a random forest regressor model to the data for all 'price_STATE':"
   ]
  },
  {
   "cell_type": "code",
   "execution_count": 152,
   "metadata": {},
   "outputs": [],
   "source": [
    "# Fitting a Random Forest to the entire 60 variable dataset, testing for the influence of the train/test split:\n",
    "\n",
    "# create predictions df:\n",
    "RFR_pred_df = pd.DataFrame(index=test_data.index)\n",
    "\n",
    "# loop over different states:\n",
    "for _ in y.columns:\n",
    "    # create state string:\n",
    "    state = _[_.index('_')+1:]\n",
    "\n",
    "    # select vars with higher correlation to electricity spot price in state to improve preds:\n",
    "    banana = list(state_dict[state][_].sort_values(ascending=False)[1:20].index)    \n",
    "    # create train, test data (validation data is intrinsic due to oob):\n",
    "    training_x = df_all[banana].iloc[0:valid_to,:]\n",
    "    training_y = y[[_]].iloc[0:valid_to,:]\n",
    "    test_x = df_all[banana].iloc[test_from:test_to,:]\n",
    "\n",
    "    RFR = RandomForestRegressor(n_estimators=1000, random_state=42)\n",
    "    RFR.fit(training_x, np.ravel(training_y))\n",
    "    RFR_pred = RFR.predict(test_x)\n",
    "\n",
    "    # save predictions to predictions dataframe:\n",
    "    temp_str = ''.join([state,'_RFRModel-inferred'])\n",
    "    RFR_pred_df[temp_str] = RFR_pred#.reshape((len(lin1_pred)))\n",
    "\n",
    "    mae = doodahs.model_MAE(RFR,RFR_pred.reshape((len(RFR_pred),1)),test_x)\n",
    "    rel = doodahs.rel_error(RFR,RFR_pred.reshape((len(RFR_pred),1)),test_x)\n",
    "\n",
    "    # save model to folder ./5_models:\n",
    "    now = datetime.now()\n",
    "    dump(RFR, f'./5_models/{state}-RFR-model-{now:y%Y-m%m-d%d-h%H-m%M}-error{mae:.1f}.joblib') # load model by using load('./folder/filename')"
   ]
  },
  {
   "cell_type": "code",
   "execution_count": 154,
   "metadata": {},
   "outputs": [],
   "source": [
    "# RFR.feature_importances_\n",
    "# apple = pd.DataFrame()\n",
    "# apple['feature'] = [*temp_df.iloc[:,1:16].columns]#,'testfeature']\n",
    "# apple['importance'] = [*RFR.feature_importances_]\n",
    "# apple.sort_values(by=['importance'], ascending=False)"
   ]
  },
  {
   "cell_type": "markdown",
   "execution_count": 18,
   "metadata": {},
   "outputs": [
    {
     "data": {
      "text/plain": "['scheduledGeneration_QLD',\n 'scheduledGeneration_VIC',\n 'scheduledGeneration_SA',\n 'd_scheduledGeneration_SA',\n 'd_price_VIC',\n 'd_scheduledGeneration_VIC',\n 'scheduledGeneration_NSW',\n 'd_price_NSW',\n 'd_pressure_NSW',\n 'windSpeed_NSW',\n 'd_scheduledGeneration_QLD',\n 'd_pressure_QLD',\n 'd_scheduledGeneration_NSW',\n 'windSpeed_QLD',\n 'd_price_QLD',\n 'cloudCover_VIC',\n 'temperature_SA',\n 'temperature_VIC',\n 'd_price_SA',\n 'windSpeed_VIC',\n 'windSpeed_SA',\n 'd_pressure_VIC',\n 'd_cloudCover_NSW',\n 'd_rainProb_SA',\n 'd_cloudCover_VIC',\n 'windDirection_SA',\n 'temperature_NSW',\n 'd_windDirection_QLD',\n 'd_cloudCover_SA',\n 'd_rainProb_VIC',\n 'rainProb_SA',\n 'rainProb_VIC',\n 'd_pressure_SA',\n 'cloudCover_SA',\n 'windDirection_QLD',\n 'windDirection_NSW',\n 'd_rainProb_NSW',\n 'temperature_QLD',\n 'd_windDirection_NSW',\n 'windDirection_VIC',\n 'd_cloudCover_QLD',\n 'd_windDirection_VIC',\n 'rainProb_QLD',\n 'cloudCover_NSW',\n 'pressure_VIC',\n 'pressure_SA',\n 'rainProb_NSW',\n 'd_windSpeed_NSW',\n 'd_windDirection_SA',\n 'pressure_NSW',\n 'd_rainProb_QLD',\n 'pressure_QLD',\n 'd_windSpeed_QLD',\n 'd_temperature_VIC',\n 'cloudCover_QLD',\n 'd_temperature_SA',\n 'd_temperature_NSW',\n 'd_windSpeed_SA',\n 'd_windSpeed_VIC']"
     },
     "execution_count": 18,
     "metadata": {},
     "output_type": "execute_result"
    }
   ],
   "source": [
    "#### CNN approach using multiple inputs, one output array:\n"
   ]
  },
  {
   "cell_type": "code",
   "execution_count": 156,
   "metadata": {},
   "outputs": [],
   "source": [
    "# split dates into year month day day of week hour, etc for additional features \n",
    "df_all = doodahs.split_dates_df(df_all,)\n",
    "\n",
    "# and this is what the new cols look like\n",
    "# df_all.iloc[:,-7:-1].head(1)"
   ]
  },
  {
   "cell_type": "code",
   "execution_count": 21,
   "metadata": {},
   "outputs": [],
   "source": [
    "# data is binned in 2h timesteps thus the following shifts:\n",
    "y_2h = doodahs.time_shift(y, 1)\n",
    "y_2h.name = 1\n",
    "y_6h = doodahs.time_shift(y, 3)\n",
    "y_6h.name = 3\n",
    "y_12h = doodahs.time_shift(y, 6)\n",
    "y_12h.name = 6\n",
    "y_24h = doodahs.time_shift(y, 12)\n",
    "y_24h.name = 12\n",
    "y_timeshift = [y_2h, y_6h, y_12h, y_24h]"
   ]
  },
  {
   "cell_type": "markdown",
   "execution_count": null,
   "metadata": {},
   "outputs": [],
   "source": [
    "Absolutely Rubbish, the accuracy yielded is atrocious.\n",
    "\n",
    "keras.preprocessing.sequence.TimeseriesGenerator(data, targets, length, sampling_rate=1, stride=1, start_index=0, end_index=None, shuffle=False, reverse=False, batch_size=128)\n"
   ]
  },
  {
   "cell_type": "code",
   "execution_count": 172,
   "metadata": {},
   "outputs": [],
   "source": [
    "# a bit dense, but it selects all cols containing the '_XXX' substring\n",
    "# creates a list thereof, unpacks it (* unpacks), then adds others\n",
    "# unnamde cols:\n",
    "df_NSW = df_all[[*df_all.columns[['_NSW' in a for a in df_all.columns]],'year', 'month', 'day', 'dayofweek','dayofyear', 'is_quarter_end', 'hour']]\n",
    "\n",
    "df_VIC = df_all[[*df_all.columns[['_VIC' in a for a in df_all.columns]],'year', 'month', 'day', 'dayofweek','dayofyear', 'is_quarter_end', 'hour']]\n",
    "\n",
    "df_QLD = df_all[[*df_all.columns[['_QLD' in a for a in df_all.columns]],'year', 'month', 'day', 'dayofweek','dayofyear', 'is_quarter_end', 'hour']]\n",
    "\n",
    "df_SA = df_all[[*df_all.columns[['_SA' in a for a in df_all.columns]],'year', 'month', 'day', 'dayofweek','dayofyear', 'is_quarter_end', 'hour']]"
   ]
  },
  {
   "cell_type": "code",
   "execution_count": 27,
   "metadata": {},
   "outputs": [
    {
     "name": "stderr",
     "output_type": "stream",
     "text": "/Users/markusdollmann/anaconda3/envs/EFORECAST/lib/python3.7/site-packages/ipykernel_launcher.py:18: UserWarning: Update your `Model` call to the Keras 2 API: `Model(inputs=Tensor(\"in..., outputs=Tensor(\"de...)`\nEpoch 1/10\n201/201 [==============================] - 0s 2ms/step - loss: 9266.8036\nEpoch 2/10\n201/201 [==============================] - 0s 37us/step - loss: 856.6569\nEpoch 3/10\n201/201 [==============================] - 0s 34us/step - loss: 1497.7783\nEpoch 4/10\n201/201 [==============================] - 0s 37us/step - loss: 1049.4466\nEpoch 5/10\n201/201 [==============================] - 0s 34us/step - loss: 437.2360\nEpoch 6/10\n201/201 [==============================] - 0s 41us/step - loss: 605.4468\nEpoch 7/10\n201/201 [==============================] - 0s 36us/step - loss: 444.1852\nEpoch 8/10\n201/201 [==============================] - 0s 37us/step - loss: 431.8638\nEpoch 9/10\n201/201 [==============================] - 0s 34us/step - loss: 402.1540\nEpoch 10/10\n201/201 [==============================] - 0s 35us/step - loss: 357.0066\nThe model is inaccurate by $26.80 on average.\nThe model has a relative error of 55.1%.\n"
    }
   ],
   "source": [
    "import tensorflow as tf\n",
    "from keras.layers import Input, Dense, concatenate, LeakyReLU\n",
    "from keras.layers import Reshape\n",
    "from keras.models import Model\n",
    "from keras.preprocessing.sequence import TimeseriesGenerator\n",
    "\n",
    "# first linear NN model:\n",
    "banana = list(corr_NSW.price_NSW.sort_values(ascending=False)[1:9].index)\n",
    "training_features = df_all[banana].iloc[0:201,:]\n",
    "test_features = y[['price_NSW']].iloc[0:201,:]\n",
    "predict_param = df_all[banana].iloc[202:213,:]\n",
    "\n",
    "input_size = training_features.shape[1]\n",
    "inputs = Input(shape=(input_size,))\n",
    "\n",
    "Dense1 = Dense(1, use_bias=True, kernel_initializer='normal', activation='linear')(inputs)\n",
    "\n",
    "model_lin_tf = Model(input= inputs, output = Dense1)\n",
    "model_lin_tf.compile(loss='mse', optimizer='adam')\n",
    "\n",
    "history = model_lin_tf.fit(training_features, test_features, epochs=10)\n",
    "\n",
    "doodahs.model_MAE(model_lin_tf, model_lin_tf.predict(predict_param),y[['price_NSW']].iloc[188:199,:], print_result=True)\n",
    "doodahs.rel_error(model_lin_tf, model_lin_tf.predict(predict_param),y[['price_NSW']].iloc[188:199,:], print_result=True)\n",
    "\n",
    "# import matplotlib.pyplot as plt\n",
    "# plt.plot(history.history['loss'])"
   ]
  },
  {
   "cell_type": "markdown",
   "execution_count": 57,
   "metadata": {},
   "outputs": [
    {
     "name": "stdout",
     "output_type": "stream",
     "text": "# packages in environment at /Users/markusdollmann/anaconda3/envs/EFORECAST:\n#\n# Name                    Version                   Build  Channel\n_tflow_select             2.3.0                       mkl  \nabsl-py                   0.8.1                    py37_0  \nappnope                   0.1.0                    py37_0  \nasn1crypto                1.2.0                    py37_0  \nastor                     0.8.0                    py37_0  \nastroid                   2.3.3                    py37_0  \nattrs                     19.3.0                     py_0  \nbackcall                  0.1.0                    py37_0  \nblas                      1.0                         mkl  \nbleach                    3.1.0                    py37_0  \nbokeh                     1.4.0                    py37_0  \nc-ares                    1.15.0            h1de35cc_1001  \nca-certificates           2019.11.28           hecc5488_0    conda-forge\ncertifi                   2019.11.28               py37_0    conda-forge\ncffi                      1.13.2           py37hb5b8e2f_0  \nchardet                   3.0.4                 py37_1003  \nclick                     7.0                      py37_0  \ncloudpickle               1.2.2                      py_0  \ncryptography              2.8              py37ha12b0ac_0  \ncycler                    0.10.0                   py37_0  \ncytoolz                   0.10.1           py37h1de35cc_0  \ndask                      2.8.0                      py_1  \ndask-core                 2.8.0                      py_0  \ndecorator                 4.4.1                      py_0  \ndefusedxml                0.6.0                      py_0  \ndistributed               2.8.1                      py_0  \nentrypoints               0.3                      py37_0  \nfreetype                  2.9.1                hb4e5f40_0  \nfsspec                    0.6.0                      py_0  \ngast                      0.2.2                    py37_0  \ngoogle-pasta              0.1.8                      py_0  \ngrpcio                    1.16.1           py37h044775b_1  \nh5py                      2.9.0            py37h3134771_0  \nhdf5                      1.10.4               hfa1e0ec_0  \nheapdict                  1.0.1                      py_0  \nholidays                  0.9.11                     py_0    conda-forge\nidna                      2.8                      py37_0  \nimportlib_metadata        0.23                     py37_0  \nintel-openmp              2019.4                      233  \nipykernel                 5.1.3            py37h39e3cac_0  \nipython                   7.9.0            py37h39e3cac_0  \nipython_genutils          0.2.0                    py37_0  \nisort                     4.3.21                   py37_0  \njedi                      0.15.1                   py37_0  \njinja2                    2.10.3                     py_0  \njoblib                    0.14.0                     py_0  \njpeg                      9b                   he5867d9_2  \njson5                     0.8.5                      py_0  \njsonschema                3.2.0                    py37_0  \njupyter_client            5.3.4                    py37_0  \njupyter_core              4.6.1                    py37_0  \njupyterlab                1.2.3              pyhf63ae98_0  \njupyterlab_server         1.0.6                      py_0  \nkeras                     2.2.4                         0  \nkeras-applications        1.0.8                      py_0  \nkeras-base                2.2.4                    py37_0  \nkeras-preprocessing       1.1.0                      py_1  \nkiwisolver                1.1.0            py37h0a44026_0  \nlazy-object-proxy         1.4.3            py37h1de35cc_0  \nlibcxx                    4.0.1                hcfea43d_1  \nlibcxxabi                 4.0.1                hcfea43d_1  \nlibedit                   3.1.20181209         hb402a30_0  \nlibffi                    3.2.1                h475c297_4  \nlibgfortran               3.0.1                h93005f0_2  \nlibpng                    1.6.37               ha441bb4_0  \nlibprotobuf               3.10.1               hd9629dc_0  \nlibsodium                 1.0.16               h3efe00b_0  \nlibtiff                   4.1.0                hcb84e12_0  \nllvm-openmp               4.0.1                hcfea43d_1  \nlocket                    0.2.0                    py37_1  \nmarkdown                  3.1.1                    py37_0  \nmarkupsafe                1.1.1            py37h1de35cc_0  \nmatplotlib                3.1.1            py37h54f8f79_0  \nmccabe                    0.6.1                    py37_1  \nmistune                   0.8.4            py37h1de35cc_0  \nmkl                       2019.4                      233  \nmkl-service               2.3.0            py37hfbe908c_0  \nmkl_fft                   1.0.15           py37h5e564d8_0  \nmkl_random                1.1.0            py37ha771720_0  \nmore-itertools            7.2.0                    py37_0  \nmsgpack-python            0.6.1            py37h04f5b5a_1  \nnbconvert                 5.6.1                    py37_0  \nnbformat                  4.4.0                    py37_0  \nncurses                   6.1                  h0a44026_1  \nnodejs                    10.13.0              h0a44026_0  \nnotebook                  6.0.2                    py37_0  \nnumpy                     1.17.3           py37h4174a10_0  \nnumpy-base                1.17.3           py37h6575580_0  \nolefile                   0.46                     py37_0  \nopenssl                   1.1.1d               h0b31af3_0    conda-forge\nopt_einsum                3.1.0                      py_0  \npackaging                 19.2                       py_0  \npandas                    0.25.3           py37h0a44026_0  \npandoc                    2.2.3.2                       0  \npandocfilters             1.4.2                    py37_1  \nparso                     0.5.1                      py_0  \npartd                     1.1.0                      py_0  \npatsy                     0.5.1                    py37_0  \npexpect                   4.7.0                    py37_0  \npickleshare               0.7.5                    py37_0  \npillow                    6.2.1            py37hb68e598_0  \npip                       19.3.1                   py37_0  \nprometheus_client         0.7.1                      py_0  \nprompt_toolkit            2.0.10                     py_0  \nprotobuf                  3.10.1           py37h0a44026_0  \npsutil                    5.6.5            py37h1de35cc_0  \nptyprocess                0.6.0                    py37_0  \npycparser                 2.19                     py37_0  \npygments                  2.4.2                      py_0  \npylint                    2.4.4                    py37_0  \npyopenssl                 19.1.0                   py37_0  \npyparsing                 2.4.5                      py_0  \npyrsistent                0.15.6           py37h1de35cc_0  \npysocks                   1.7.1                    py37_0  \npython                    3.7.5                h359304d_0  \npython-dateutil           2.8.1                      py_0  \npytz                      2019.3                     py_0  \npyyaml                    5.1.2            py37h1de35cc_0  \npyzmq                     18.1.0           py37h0a44026_0  \nreadline                  7.0                  h1de35cc_5  \nrequests                  2.22.0                   py37_0  \nscikit-learn              0.21.3           py37h27c97d8_0  \nscipy                     1.3.1            py37h1410ff5_0  \nseaborn                   0.9.0              pyh91ea838_1  \nsend2trash                1.5.0                    py37_0  \nsetuptools                42.0.1                   py37_0  \nsix                       1.13.0                   py37_0  \nsortedcontainers          2.1.0                    py37_0  \nsqlite                    3.30.1               ha441bb4_0  \nstatsmodels               0.10.1           py37h1d22016_0  \ntblib                     1.5.0                      py_0  \ntensorboard               1.15.0             pyhb230dea_0  \ntensorflow                1.15.0          mkl_py37hb249377_0  \ntensorflow-base           1.15.0          mkl_py37h032239d_0  \ntensorflow-estimator      1.15.1             pyh2649769_0  \ntermcolor                 1.1.0                    py37_1  \nterminado                 0.8.3                    py37_0  \ntestpath                  0.4.4                      py_0  \ntk                        8.6.8                ha441bb4_0  \ntoolz                     0.10.0                     py_0  \ntornado                   6.0.3            py37h1de35cc_0  \ntraitlets                 4.3.3                    py37_0  \nurllib3                   1.24.2                   py37_0  \nwcwidth                   0.1.7                    py37_0  \nwebencodings              0.5.1                    py37_1  \nwerkzeug                  0.16.0                     py_0  \nwheel                     0.33.6                   py37_0  \nwrapt                     1.11.2           py37h1de35cc_0  \nxz                        5.2.4                h1de35cc_4  \nyaml                      0.1.7                hc338f04_2  \nzeromq                    4.3.1                h0a44026_3  \nzict                      1.0.0                      py_0  \nzipp                      0.6.0                      py_0  \nzlib                      1.2.11               h1de35cc_3  \nzstd                      1.3.7                h5bba6e5_0  \n"
    }
   ],
   "source": [
    "# Random Thoughts\n",
    "\n",
    "keras.preprocessing.sequence.TimeseriesGenerator(data, targets, length, sampling_rate=1, stride=1, start_index=0, end_index=None, shuffle=False, reverse=False, batch_size=128)\n",
    "\n",
    "length=12? implies one day, neglects these interactions?"
   ]
  },
  {
   "cell_type": "code",
   "execution_count": 54,
   "metadata": {},
   "outputs": [
    {
     "name": "stderr",
     "output_type": "stream",
     "text": "/Users/markusdollmann/Desktop/ElectricityForecast/1_modules/doodahs/doodahs.py:267: UserWarning: Update your `Model` call to the Keras 2 API: `Model(name=\"model_CNN\", inputs=[<tf.Tenso..., outputs=Tensor(\"de...)`\n  \n"
    }
   ],
   "source": [
    "model_CNN = doodahs.func_CNN_1(df_QLD, nn_name='model_CNN')\n",
    "model_CNN.compile(loss='mse', optimizer='adam', metrics=['accuracy'])"
   ]
  },
  {
   "cell_type": "code",
   "execution_count": 65,
   "metadata": {},
   "outputs": [],
   "source": [
    "#model_CNN.summary()"
   ]
  },
  {
   "cell_type": "code",
   "execution_count": 94,
   "metadata": {},
   "outputs": [
    {
     "name": "stdout",
     "output_type": "stream",
     "text": "--- 37.29268789291382 seconds passed ---\n"
    }
   ],
   "source": [
    "import time\n",
    "batch_size = 24\n",
    "epochs = 500\n",
    "start_time = time.time()\n",
    "NSW = doodahs.reshape_for_CNN(df_NSW)\n",
    "QLD = doodahs.reshape_for_CNN(df_QLD)\n",
    "VIC = doodahs.reshape_for_CNN(df_VIC)\n",
    "SA = doodahs.reshape_for_CNN(df_SA)\n",
    "\n",
    "# This model optimises for the mse for all four states to be minimal:\n",
    "history = model_CNN.fit([NSW[0:200,:], QLD[0:200,:], VIC[0:200,:], SA[0:200,:]], y.iloc[0:200,:],\n",
    "          batch_size=batch_size,\n",
    "          epochs=epochs,\n",
    "          verbose=0)\n",
    "\n",
    "print(\"--- {} seconds passed ---\".format(time.time() - start_time))\n",
    "\n",
    "# score = model_CNN.evaluate([NSW[201:213,:], QLD[201:213,:], VIC[201:213,:], SA[201:213,:]], y.iloc[201:213,:], verbose=0)\n",
    "# print('Test loss:', score[0])\n",
    "# print('Test accuracy:', score[1])\n",
    "\n",
    "predictions = model_CNN.predict([NSW[201:213,:], QLD[201:213,:], VIC[201:213,:], SA[201:213,:]])"
   ]
  },
  {
   "cell_type": "code",
   "execution_count": 95,
   "metadata": {},
   "outputs": [
    {
     "name": "stdout",
     "output_type": "stream",
     "text": "--- MAE of\n price_NSW    13.244\nprice_QLD    14.100\nprice_SA     27.830\nprice_VIC    19.073\ndtype: float64,\n\nwith a relative error of\nprice_NSW     17.875\nprice_QLD     20.494\nprice_SA     127.384\nprice_VIC     23.948\ndtype: float64 ---\n"
    }
   ],
   "source": [
    "mae, rel = doodahs.MAE_CNN(model_CNN, [NSW[201:213,:], QLD[201:213,:], VIC[201:213,:], SA[201:213,:]], y.iloc[201:213,:])\n",
    "print('--- MAE of\\n {0},\\n\\nwith a relative error of\\n{1} ---'.format(mae, rel))"
   ]
  },
  {
   "cell_type": "code",
   "execution_count": 100,
   "metadata": {},
   "outputs": [
    {
     "data": {
      "text/plain": "[<matplotlib.lines.Line2D at 0x1ca294fe90>]"
     },
     "execution_count": 100,
     "metadata": {},
     "output_type": "execute_result"
    },
    {
     "data": {
      "image/png": "[encoded data removed]",
      "image/svg+xml": "<?xml version=\"1.0\" encoding=\"utf-8\" standalone=\"no\"?>\n<!DOCTYPE svg PUBLIC \"-//W3C//DTD SVG 1.1//EN\"\n  \"http://www.w3.org/Graphics/SVG/1.1/DTD/svg11.dtd\">\n<!-- Created with matplotlib (https://matplotlib.org/) -->\n<svg height=\"248.518125pt\" version=\"1.1\" viewBox=\"0 0 378.465625 248.518125\" width=\"378.465625pt\" xmlns=\"http://www.w3.org/2000/svg\" xmlns:xlink=\"http://www.w3.org/1999/xlink\">\n <defs>\n  <style type=\"text/css\">\n*{stroke-linecap:butt;stroke-linejoin:round;}\n  </style>\n </defs>\n <g id=\"figure_1\">\n  <g id=\"patch_1\">\n   <path d=\"M 0 248.518125 \nL 378.465625 248.518125 \nL 378.465625 0 \nL 0 0 \nz\n\" style=\"fill:none;\"/>\n  </g>\n  <g id=\"axes_1\">\n   <g id=\"patch_2\">\n    <path d=\"M 36.465625 224.64 \nL 371.265625 224.64 \nL 371.265625 7.2 \nL 36.465625 7.2 \nz\n\" style=\"fill:#ffffff;\"/>\n   </g>\n   <g id=\"matplotlib.axis_1\">\n    <g id=\"xtick_1\">\n     <g id=\"line2d_1\">\n      <defs>\n       <path d=\"M 0 0 \nL 0 3.5 \n\" id=\"m0c590505b5\" style=\"stroke:#000000;stroke-width:0.8;\"/>\n      </defs>\n      <g>\n       <use style=\"stroke:#000000;stroke-width:0.8;\" x=\"51.683807\" xlink:href=\"#m0c590505b5\" y=\"224.64\"/>\n      </g>\n     </g>\n     <g id=\"text_1\">\n      <!-- 0 -->\n      <defs>\n       <path d=\"M 31.78125 66.40625 \nQ 24.171875 66.40625 20.328125 58.90625 \nQ 16.5 51.421875 16.5 36.375 \nQ 16.5 21.390625 20.328125 13.890625 \nQ 24.171875 6.390625 31.78125 6.390625 \nQ 39.453125 6.390625 43.28125 13.890625 \nQ 47.125 21.390625 47.125 36.375 \nQ 47.125 51.421875 43.28125 58.90625 \nQ 39.453125 66.40625 31.78125 66.40625 \nz\nM 31.78125 74.21875 \nQ 44.046875 74.21875 50.515625 64.515625 \nQ 56.984375 54.828125 56.984375 36.375 \nQ 56.984375 17.96875 50.515625 8.265625 \nQ 44.046875 -1.421875 31.78125 -1.421875 \nQ 19.53125 -1.421875 13.0625 8.265625 \nQ 6.59375 17.96875 6.59375 36.375 \nQ 6.59375 54.828125 13.0625 64.515625 \nQ 19.53125 74.21875 31.78125 74.21875 \nz\n\" id=\"DejaVuSans-48\"/>\n      </defs>\n      <g transform=\"translate(48.502557 239.238438)scale(0.1 -0.1)\">\n       <use xlink:href=\"#DejaVuSans-48\"/>\n      </g>\n     </g>\n    </g>\n    <g id=\"xtick_2\">\n     <g id=\"line2d_2\">\n      <g>\n       <use style=\"stroke:#000000;stroke-width:0.8;\" x=\"112.678524\" xlink:href=\"#m0c590505b5\" y=\"224.64\"/>\n      </g>\n     </g>\n     <g id=\"text_2\">\n      <!-- 100 -->\n      <defs>\n       <path d=\"M 12.40625 8.296875 \nL 28.515625 8.296875 \nL 28.515625 63.921875 \nL 10.984375 60.40625 \nL 10.984375 69.390625 \nL 28.421875 72.90625 \nL 38.28125 72.90625 \nL 38.28125 8.296875 \nL 54.390625 8.296875 \nL 54.390625 0 \nL 12.40625 0 \nz\n\" id=\"DejaVuSans-49\"/>\n      </defs>\n      <g transform=\"translate(103.134774 239.238438)scale(0.1 -0.1)\">\n       <use xlink:href=\"#DejaVuSans-49\"/>\n       <use x=\"63.623047\" xlink:href=\"#DejaVuSans-48\"/>\n       <use x=\"127.246094\" xlink:href=\"#DejaVuSans-48\"/>\n      </g>\n     </g>\n    </g>\n    <g id=\"xtick_3\">\n     <g id=\"line2d_3\">\n      <g>\n       <use style=\"stroke:#000000;stroke-width:0.8;\" x=\"173.67324\" xlink:href=\"#m0c590505b5\" y=\"224.64\"/>\n      </g>\n     </g>\n     <g id=\"text_3\">\n      <!-- 200 -->\n      <defs>\n       <path d=\"M 19.1875 8.296875 \nL 53.609375 8.296875 \nL 53.609375 0 \nL 7.328125 0 \nL 7.328125 8.296875 \nQ 12.9375 14.109375 22.625 23.890625 \nQ 32.328125 33.6875 34.8125 36.53125 \nQ 39.546875 41.84375 41.421875 45.53125 \nQ 43.3125 49.21875 43.3125 52.78125 \nQ 43.3125 58.59375 39.234375 62.25 \nQ 35.15625 65.921875 28.609375 65.921875 \nQ 23.96875 65.921875 18.8125 64.3125 \nQ 13.671875 62.703125 7.8125 59.421875 \nL 7.8125 69.390625 \nQ 13.765625 71.78125 18.9375 73 \nQ 24.125 74.21875 28.421875 74.21875 \nQ 39.75 74.21875 46.484375 68.546875 \nQ 53.21875 62.890625 53.21875 53.421875 \nQ 53.21875 48.921875 51.53125 44.890625 \nQ 49.859375 40.875 45.40625 35.40625 \nQ 44.1875 33.984375 37.640625 27.21875 \nQ 31.109375 20.453125 19.1875 8.296875 \nz\n\" id=\"DejaVuSans-50\"/>\n      </defs>\n      <g transform=\"translate(164.12949 239.238438)scale(0.1 -0.1)\">\n       <use xlink:href=\"#DejaVuSans-50\"/>\n       <use x=\"63.623047\" xlink:href=\"#DejaVuSans-48\"/>\n       <use x=\"127.246094\" xlink:href=\"#DejaVuSans-48\"/>\n      </g>\n     </g>\n    </g>\n    <g id=\"xtick_4\">\n     <g id=\"line2d_4\">\n      <g>\n       <use style=\"stroke:#000000;stroke-width:0.8;\" x=\"234.667957\" xlink:href=\"#m0c590505b5\" y=\"224.64\"/>\n      </g>\n     </g>\n     <g id=\"text_4\">\n      <!-- 300 -->\n      <defs>\n       <path d=\"M 40.578125 39.3125 \nQ 47.65625 37.796875 51.625 33 \nQ 55.609375 28.21875 55.609375 21.1875 \nQ 55.609375 10.40625 48.1875 4.484375 \nQ 40.765625 -1.421875 27.09375 -1.421875 \nQ 22.515625 -1.421875 17.65625 -0.515625 \nQ 12.796875 0.390625 7.625 2.203125 \nL 7.625 11.71875 \nQ 11.71875 9.328125 16.59375 8.109375 \nQ 21.484375 6.890625 26.8125 6.890625 \nQ 36.078125 6.890625 40.9375 10.546875 \nQ 45.796875 14.203125 45.796875 21.1875 \nQ 45.796875 27.640625 41.28125 31.265625 \nQ 36.765625 34.90625 28.71875 34.90625 \nL 20.21875 34.90625 \nL 20.21875 43.015625 \nL 29.109375 43.015625 \nQ 36.375 43.015625 40.234375 45.921875 \nQ 44.09375 48.828125 44.09375 54.296875 \nQ 44.09375 59.90625 40.109375 62.90625 \nQ 36.140625 65.921875 28.71875 65.921875 \nQ 24.65625 65.921875 20.015625 65.03125 \nQ 15.375 64.15625 9.8125 62.3125 \nL 9.8125 71.09375 \nQ 15.4375 72.65625 20.34375 73.4375 \nQ 25.25 74.21875 29.59375 74.21875 \nQ 40.828125 74.21875 47.359375 69.109375 \nQ 53.90625 64.015625 53.90625 55.328125 \nQ 53.90625 49.265625 50.4375 45.09375 \nQ 46.96875 40.921875 40.578125 39.3125 \nz\n\" id=\"DejaVuSans-51\"/>\n      </defs>\n      <g transform=\"translate(225.124207 239.238438)scale(0.1 -0.1)\">\n       <use xlink:href=\"#DejaVuSans-51\"/>\n       <use x=\"63.623047\" xlink:href=\"#DejaVuSans-48\"/>\n       <use x=\"127.246094\" xlink:href=\"#DejaVuSans-48\"/>\n      </g>\n     </g>\n    </g>\n    <g id=\"xtick_5\">\n     <g id=\"line2d_5\">\n      <g>\n       <use style=\"stroke:#000000;stroke-width:0.8;\" x=\"295.662674\" xlink:href=\"#m0c590505b5\" y=\"224.64\"/>\n      </g>\n     </g>\n     <g id=\"text_5\">\n      <!-- 400 -->\n      <defs>\n       <path d=\"M 37.796875 64.3125 \nL 12.890625 25.390625 \nL 37.796875 25.390625 \nz\nM 35.203125 72.90625 \nL 47.609375 72.90625 \nL 47.609375 25.390625 \nL 58.015625 25.390625 \nL 58.015625 17.1875 \nL 47.609375 17.1875 \nL 47.609375 0 \nL 37.796875 0 \nL 37.796875 17.1875 \nL 4.890625 17.1875 \nL 4.890625 26.703125 \nz\n\" id=\"DejaVuSans-52\"/>\n      </defs>\n      <g transform=\"translate(286.118924 239.238438)scale(0.1 -0.1)\">\n       <use xlink:href=\"#DejaVuSans-52\"/>\n       <use x=\"63.623047\" xlink:href=\"#DejaVuSans-48\"/>\n       <use x=\"127.246094\" xlink:href=\"#DejaVuSans-48\"/>\n      </g>\n     </g>\n    </g>\n    <g id=\"xtick_6\">\n     <g id=\"line2d_6\">\n      <g>\n       <use style=\"stroke:#000000;stroke-width:0.8;\" x=\"356.65739\" xlink:href=\"#m0c590505b5\" y=\"224.64\"/>\n      </g>\n     </g>\n     <g id=\"text_6\">\n      <!-- 500 -->\n      <defs>\n       <path d=\"M 10.796875 72.90625 \nL 49.515625 72.90625 \nL 49.515625 64.59375 \nL 19.828125 64.59375 \nL 19.828125 46.734375 \nQ 21.96875 47.46875 24.109375 47.828125 \nQ 26.265625 48.1875 28.421875 48.1875 \nQ 40.625 48.1875 47.75 41.5 \nQ 54.890625 34.8125 54.890625 23.390625 \nQ 54.890625 11.625 47.5625 5.09375 \nQ 40.234375 -1.421875 26.90625 -1.421875 \nQ 22.3125 -1.421875 17.546875 -0.640625 \nQ 12.796875 0.140625 7.71875 1.703125 \nL 7.71875 11.625 \nQ 12.109375 9.234375 16.796875 8.0625 \nQ 21.484375 6.890625 26.703125 6.890625 \nQ 35.15625 6.890625 40.078125 11.328125 \nQ 45.015625 15.765625 45.015625 23.390625 \nQ 45.015625 31 40.078125 35.4375 \nQ 35.15625 39.890625 26.703125 39.890625 \nQ 22.75 39.890625 18.8125 39.015625 \nQ 14.890625 38.140625 10.796875 36.28125 \nz\n\" id=\"DejaVuSans-53\"/>\n      </defs>\n      <g transform=\"translate(347.11364 239.238438)scale(0.1 -0.1)\">\n       <use xlink:href=\"#DejaVuSans-53\"/>\n       <use x=\"63.623047\" xlink:href=\"#DejaVuSans-48\"/>\n       <use x=\"127.246094\" xlink:href=\"#DejaVuSans-48\"/>\n      </g>\n     </g>\n    </g>\n   </g>\n   <g id=\"matplotlib.axis_2\">\n    <g id=\"ytick_1\">\n     <g id=\"line2d_7\">\n      <defs>\n       <path d=\"M 0 0 \nL -3.5 0 \n\" id=\"m0b3cb3a781\" style=\"stroke:#000000;stroke-width:0.8;\"/>\n      </defs>\n      <g>\n       <use style=\"stroke:#000000;stroke-width:0.8;\" x=\"36.465625\" xlink:href=\"#m0b3cb3a781\" y=\"203.567339\"/>\n      </g>\n     </g>\n     <g id=\"text_7\">\n      <!-- 0.50 -->\n      <defs>\n       <path d=\"M 10.6875 12.40625 \nL 21 12.40625 \nL 21 0 \nL 10.6875 0 \nz\n\" id=\"DejaVuSans-46\"/>\n      </defs>\n      <g transform=\"translate(7.2 207.366558)scale(0.1 -0.1)\">\n       <use xlink:href=\"#DejaVuSans-48\"/>\n       <use x=\"63.623047\" xlink:href=\"#DejaVuSans-46\"/>\n       <use x=\"95.410156\" xlink:href=\"#DejaVuSans-53\"/>\n       <use x=\"159.033203\" xlink:href=\"#DejaVuSans-48\"/>\n      </g>\n     </g>\n    </g>\n    <g id=\"ytick_2\">\n     <g id=\"line2d_8\">\n      <g>\n       <use style=\"stroke:#000000;stroke-width:0.8;\" x=\"36.465625\" xlink:href=\"#m0b3cb3a781\" y=\"166.270599\"/>\n      </g>\n     </g>\n     <g id=\"text_8\">\n      <!-- 0.55 -->\n      <g transform=\"translate(7.2 170.069818)scale(0.1 -0.1)\">\n       <use xlink:href=\"#DejaVuSans-48\"/>\n       <use x=\"63.623047\" xlink:href=\"#DejaVuSans-46\"/>\n       <use x=\"95.410156\" xlink:href=\"#DejaVuSans-53\"/>\n       <use x=\"159.033203\" xlink:href=\"#DejaVuSans-53\"/>\n      </g>\n     </g>\n    </g>\n    <g id=\"ytick_3\">\n     <g id=\"line2d_9\">\n      <g>\n       <use style=\"stroke:#000000;stroke-width:0.8;\" x=\"36.465625\" xlink:href=\"#m0b3cb3a781\" y=\"128.973859\"/>\n      </g>\n     </g>\n     <g id=\"text_9\">\n      <!-- 0.60 -->\n      <defs>\n       <path d=\"M 33.015625 40.375 \nQ 26.375 40.375 22.484375 35.828125 \nQ 18.609375 31.296875 18.609375 23.390625 \nQ 18.609375 15.53125 22.484375 10.953125 \nQ 26.375 6.390625 33.015625 6.390625 \nQ 39.65625 6.390625 43.53125 10.953125 \nQ 47.40625 15.53125 47.40625 23.390625 \nQ 47.40625 31.296875 43.53125 35.828125 \nQ 39.65625 40.375 33.015625 40.375 \nz\nM 52.59375 71.296875 \nL 52.59375 62.3125 \nQ 48.875 64.0625 45.09375 64.984375 \nQ 41.3125 65.921875 37.59375 65.921875 \nQ 27.828125 65.921875 22.671875 59.328125 \nQ 17.53125 52.734375 16.796875 39.40625 \nQ 19.671875 43.65625 24.015625 45.921875 \nQ 28.375 48.1875 33.59375 48.1875 \nQ 44.578125 48.1875 50.953125 41.515625 \nQ 57.328125 34.859375 57.328125 23.390625 \nQ 57.328125 12.15625 50.6875 5.359375 \nQ 44.046875 -1.421875 33.015625 -1.421875 \nQ 20.359375 -1.421875 13.671875 8.265625 \nQ 6.984375 17.96875 6.984375 36.375 \nQ 6.984375 53.65625 15.1875 63.9375 \nQ 23.390625 74.21875 37.203125 74.21875 \nQ 40.921875 74.21875 44.703125 73.484375 \nQ 48.484375 72.75 52.59375 71.296875 \nz\n\" id=\"DejaVuSans-54\"/>\n      </defs>\n      <g transform=\"translate(7.2 132.773077)scale(0.1 -0.1)\">\n       <use xlink:href=\"#DejaVuSans-48\"/>\n       <use x=\"63.623047\" xlink:href=\"#DejaVuSans-46\"/>\n       <use x=\"95.410156\" xlink:href=\"#DejaVuSans-54\"/>\n       <use x=\"159.033203\" xlink:href=\"#DejaVuSans-48\"/>\n      </g>\n     </g>\n    </g>\n    <g id=\"ytick_4\">\n     <g id=\"line2d_10\">\n      <g>\n       <use style=\"stroke:#000000;stroke-width:0.8;\" x=\"36.465625\" xlink:href=\"#m0b3cb3a781\" y=\"91.677118\"/>\n      </g>\n     </g>\n     <g id=\"text_10\">\n      <!-- 0.65 -->\n      <g transform=\"translate(7.2 95.476337)scale(0.1 -0.1)\">\n       <use xlink:href=\"#DejaVuSans-48\"/>\n       <use x=\"63.623047\" xlink:href=\"#DejaVuSans-46\"/>\n       <use x=\"95.410156\" xlink:href=\"#DejaVuSans-54\"/>\n       <use x=\"159.033203\" xlink:href=\"#DejaVuSans-53\"/>\n      </g>\n     </g>\n    </g>\n    <g id=\"ytick_5\">\n     <g id=\"line2d_11\">\n      <g>\n       <use style=\"stroke:#000000;stroke-width:0.8;\" x=\"36.465625\" xlink:href=\"#m0b3cb3a781\" y=\"54.380378\"/>\n      </g>\n     </g>\n     <g id=\"text_11\">\n      <!-- 0.70 -->\n      <defs>\n       <path d=\"M 8.203125 72.90625 \nL 55.078125 72.90625 \nL 55.078125 68.703125 \nL 28.609375 0 \nL 18.3125 0 \nL 43.21875 64.59375 \nL 8.203125 64.59375 \nz\n\" id=\"DejaVuSans-55\"/>\n      </defs>\n      <g transform=\"translate(7.2 58.179597)scale(0.1 -0.1)\">\n       <use xlink:href=\"#DejaVuSans-48\"/>\n       <use x=\"63.623047\" xlink:href=\"#DejaVuSans-46\"/>\n       <use x=\"95.410156\" xlink:href=\"#DejaVuSans-55\"/>\n       <use x=\"159.033203\" xlink:href=\"#DejaVuSans-48\"/>\n      </g>\n     </g>\n    </g>\n    <g id=\"ytick_6\">\n     <g id=\"line2d_12\">\n      <g>\n       <use style=\"stroke:#000000;stroke-width:0.8;\" x=\"36.465625\" xlink:href=\"#m0b3cb3a781\" y=\"17.083638\"/>\n      </g>\n     </g>\n     <g id=\"text_12\">\n      <!-- 0.75 -->\n      <g transform=\"translate(7.2 20.882857)scale(0.1 -0.1)\">\n       <use xlink:href=\"#DejaVuSans-48\"/>\n       <use x=\"63.623047\" xlink:href=\"#DejaVuSans-46\"/>\n       <use x=\"95.410156\" xlink:href=\"#DejaVuSans-55\"/>\n       <use x=\"159.033203\" xlink:href=\"#DejaVuSans-53\"/>\n      </g>\n     </g>\n    </g>\n   </g>\n   <g id=\"line2d_13\">\n    <path clip-path=\"url(#p0c8e9f66f9)\" d=\"M 51.683807 136.433215 \nL 52.293754 177.45962 \nL 52.903701 151.351902 \nL 53.513648 155.081578 \nL 54.123595 136.433204 \nL 54.733543 155.081573 \nL 55.34349 136.433207 \nL 55.953437 214.756364 \nL 56.563384 158.811245 \nL 57.173331 151.351904 \nL 57.783278 162.540926 \nL 58.393226 192.378315 \nL 59.003173 117.784837 \nL 59.61312 102.866142 \nL 60.223067 188.648644 \nL 60.833014 199.837665 \nL 61.442961 132.703529 \nL 62.052909 99.136459 \nL 62.662856 155.081572 \nL 63.272803 147.622229 \nL 63.88275 173.729942 \nL 64.492697 140.162885 \nL 65.712592 132.703533 \nL 66.322539 114.055155 \nL 66.932486 99.136465 \nL 67.542433 132.703529 \nL 68.15238 158.81125 \nL 68.762327 91.677111 \nL 69.372275 155.081574 \nL 69.982222 151.351901 \nL 70.592169 173.729946 \nL 71.202116 158.811251 \nL 71.812063 128.973854 \nL 72.42201 110.325479 \nL 73.031958 184.918964 \nL 73.641905 170.000268 \nL 74.861799 91.677117 \nL 75.471746 181.189297 \nL 76.081694 143.892554 \nL 76.691641 170.000267 \nL 77.301588 147.622227 \nL 77.911535 140.162879 \nL 78.521482 147.622235 \nL 79.131429 136.433203 \nL 79.741377 117.784842 \nL 80.351324 132.70353 \nL 80.961271 143.89256 \nL 81.571218 121.514512 \nL 82.181165 128.973859 \nL 82.791112 91.677118 \nL 83.40106 132.703526 \nL 84.011007 132.703534 \nL 84.620954 125.244176 \nL 85.230901 121.514513 \nL 85.840848 147.622228 \nL 86.450795 181.18929 \nL 87.060743 143.892551 \nL 87.67069 117.784838 \nL 88.280637 166.270598 \nL 88.890584 121.51451 \nL 89.500531 99.136468 \nL 90.110478 125.24418 \nL 90.720426 158.811253 \nL 91.330373 173.729942 \nL 91.94032 143.892555 \nL 92.550267 128.973859 \nL 93.160214 158.811246 \nL 93.770161 110.325495 \nL 94.380109 155.081578 \nL 94.990056 117.784837 \nL 95.600003 140.162874 \nL 96.20995 132.703529 \nL 96.819897 121.514513 \nL 97.429844 147.622229 \nL 98.039792 121.514512 \nL 98.649739 136.4332 \nL 99.259686 95.406792 \nL 99.869633 121.514509 \nL 100.47958 155.081572 \nL 101.089527 117.784837 \nL 101.699475 121.514512 \nL 102.309422 136.433204 \nL 102.919369 121.514508 \nL 103.529316 84.217773 \nL 104.139263 140.162878 \nL 104.74921 143.892556 \nL 105.359158 162.540924 \nL 105.969105 136.4332 \nL 106.579052 128.973858 \nL 107.188999 173.729949 \nL 107.798946 117.784831 \nL 108.408893 147.622224 \nL 109.018841 125.244191 \nL 109.628788 173.729942 \nL 110.238735 117.784837 \nL 110.848682 128.973859 \nL 111.458629 143.892555 \nL 112.068576 110.325493 \nL 113.288471 166.270598 \nL 113.898418 151.351902 \nL 114.508365 143.892558 \nL 115.118312 158.811251 \nL 115.728259 110.325488 \nL 116.338207 128.973853 \nL 116.948154 136.433195 \nL 117.558101 136.433208 \nL 118.168048 143.892551 \nL 118.777995 102.866138 \nL 119.387942 140.162883 \nL 119.99789 121.514505 \nL 120.607837 117.784837 \nL 121.217784 132.703532 \nL 121.827731 121.51451 \nL 122.437678 158.81125 \nL 123.047625 147.622232 \nL 123.657573 121.514504 \nL 124.26752 140.16289 \nL 124.877467 102.866144 \nL 125.487414 95.406792 \nL 126.097361 132.703531 \nL 126.707308 136.433204 \nL 127.317256 132.703529 \nL 127.927203 147.622231 \nL 128.53715 155.081575 \nL 129.147097 132.703534 \nL 129.757044 128.973848 \nL 130.366991 128.973857 \nL 130.976939 114.055164 \nL 131.586886 121.514511 \nL 132.196833 95.406792 \nL 132.80678 155.081575 \nL 133.416727 121.51451 \nL 134.026674 125.244185 \nL 134.636622 158.81125 \nL 135.246569 177.45961 \nL 135.856516 143.892556 \nL 136.466463 54.380378 \nL 137.07641 121.514508 \nL 137.686357 155.081572 \nL 138.296305 166.270597 \nL 138.906252 106.595811 \nL 139.516199 102.866146 \nL 140.126146 151.351901 \nL 140.736093 110.325493 \nL 141.34604 110.325494 \nL 141.955988 114.055163 \nL 142.565935 73.028748 \nL 143.175882 132.703534 \nL 143.785829 87.947444 \nL 144.395776 117.784837 \nL 145.005723 84.217767 \nL 145.615671 110.32548 \nL 146.225618 162.540928 \nL 147.445512 114.055169 \nL 148.055459 125.244185 \nL 148.665406 114.055163 \nL 149.275354 140.162882 \nL 149.885301 110.325489 \nL 150.495248 110.325483 \nL 151.105195 102.866135 \nL 151.715142 117.784835 \nL 152.325089 136.43321 \nL 152.935037 110.325489 \nL 153.544984 136.433204 \nL 154.154931 188.648641 \nL 154.764878 117.784833 \nL 155.374825 155.081574 \nL 155.984772 84.217769 \nL 156.59472 158.811248 \nL 157.204667 128.973859 \nL 158.424561 114.055163 \nL 159.034508 114.055162 \nL 159.644455 121.514509 \nL 160.254403 95.406787 \nL 160.86435 121.514505 \nL 161.474297 106.595813 \nL 162.084244 117.784835 \nL 162.694191 170.00027 \nL 163.304138 69.299069 \nL 163.914086 91.677118 \nL 164.524033 106.595816 \nL 165.13398 188.648647 \nL 165.743927 91.677113 \nL 166.353874 110.325484 \nL 166.963821 143.892552 \nL 167.573769 114.055166 \nL 168.183716 132.703537 \nL 168.793663 69.299069 \nL 169.40361 125.244187 \nL 170.013557 99.136465 \nL 170.623504 147.622236 \nL 171.843399 99.136475 \nL 172.453346 61.839732 \nL 173.063293 136.433209 \nL 173.67324 91.677115 \nL 174.283187 106.595807 \nL 174.893135 140.16288 \nL 175.503082 76.758426 \nL 176.113029 140.162888 \nL 176.722976 95.406798 \nL 177.332923 102.866142 \nL 177.94287 128.973854 \nL 178.552818 128.973867 \nL 179.162765 110.325491 \nL 179.772712 121.514508 \nL 180.382659 121.514503 \nL 180.992606 188.648638 \nL 181.602553 106.595813 \nL 182.212501 117.784835 \nL 182.822448 132.703526 \nL 183.432395 117.784834 \nL 184.042342 128.973857 \nL 184.652289 147.622227 \nL 185.262236 84.217765 \nL 185.872184 114.055163 \nL 186.482131 110.325476 \nL 187.092078 99.13647 \nL 187.702025 128.973857 \nL 188.311972 125.244195 \nL 188.921919 91.677111 \nL 189.531867 136.433211 \nL 190.141814 106.595812 \nL 190.751761 110.325484 \nL 191.361708 158.811253 \nL 191.971655 95.406785 \nL 192.581602 114.055164 \nL 193.19155 110.325485 \nL 193.801497 158.811249 \nL 194.411444 151.351896 \nL 195.021391 87.947444 \nL 195.631338 128.973858 \nL 196.241285 95.406794 \nL 196.851233 76.758415 \nL 197.46118 95.406794 \nL 198.071127 102.866138 \nL 199.291021 147.622234 \nL 199.900968 106.595811 \nL 200.510916 140.162882 \nL 201.120863 84.217774 \nL 201.73081 106.595808 \nL 202.340757 151.351909 \nL 202.950704 65.569404 \nL 203.560651 99.136466 \nL 204.170599 91.677124 \nL 204.780546 102.866137 \nL 205.390493 69.299078 \nL 206.00044 80.488096 \nL 206.610387 136.433201 \nL 207.220334 73.028748 \nL 207.830282 158.811249 \nL 208.440229 106.595814 \nL 209.050176 125.24419 \nL 209.660123 95.406796 \nL 210.27007 102.866139 \nL 210.880017 84.217776 \nL 211.489965 117.784829 \nL 212.099912 35.732005 \nL 212.709859 80.488091 \nL 213.319806 143.892554 \nL 213.929753 99.136466 \nL 214.5397 76.758421 \nL 215.149648 102.866146 \nL 215.759595 76.758415 \nL 216.369542 76.758422 \nL 216.979489 140.162876 \nL 217.589436 143.892549 \nL 218.199383 80.488101 \nL 218.809331 132.703532 \nL 219.419278 140.162884 \nL 220.029225 80.488101 \nL 220.639172 162.540919 \nL 221.249119 132.70353 \nL 221.859066 140.16288 \nL 222.469014 140.162879 \nL 223.078961 84.217774 \nL 223.688908 117.784844 \nL 224.298855 95.406789 \nL 224.908802 95.406794 \nL 225.518749 128.973853 \nL 226.128697 114.055168 \nL 226.738644 128.973855 \nL 227.348591 84.217778 \nL 227.958538 61.839726 \nL 228.568485 121.514509 \nL 229.178432 110.32549 \nL 229.78838 84.217769 \nL 230.398327 140.162885 \nL 231.008274 87.947444 \nL 231.618221 117.784833 \nL 232.228168 114.055168 \nL 232.838115 125.244185 \nL 234.05801 61.839726 \nL 234.667957 132.703535 \nL 235.277904 102.866143 \nL 235.887851 84.217774 \nL 236.497798 128.973859 \nL 237.107746 143.89256 \nL 237.717693 143.892558 \nL 238.32764 69.299071 \nL 238.937587 125.244184 \nL 239.547534 147.622231 \nL 240.157481 46.921028 \nL 240.767429 87.947444 \nL 241.377376 99.136458 \nL 241.987323 87.947439 \nL 242.59727 117.784833 \nL 243.207217 95.406794 \nL 243.817164 102.866146 \nL 244.427112 54.380378 \nL 245.037059 87.947444 \nL 245.647006 114.055166 \nL 246.256953 80.488098 \nL 246.8669 117.784838 \nL 247.476847 73.028743 \nL 248.086795 117.784841 \nL 248.696742 151.351904 \nL 249.306689 61.839728 \nL 249.916636 114.055163 \nL 250.526583 117.784828 \nL 251.13653 110.32549 \nL 251.746478 117.784832 \nL 252.966372 54.380375 \nL 253.576319 58.110052 \nL 254.186266 95.406789 \nL 254.796213 84.217769 \nL 255.406161 87.947444 \nL 256.016108 125.244184 \nL 256.626055 95.406784 \nL 257.236002 99.13647 \nL 257.845949 95.406794 \nL 258.455896 117.784834 \nL 259.065844 117.784837 \nL 259.675791 121.514509 \nL 260.285738 91.677112 \nL 260.895685 125.244185 \nL 261.505632 91.677115 \nL 262.115579 114.055157 \nL 262.725527 65.569395 \nL 263.335474 76.758423 \nL 263.945421 80.488096 \nL 264.555368 73.028745 \nL 265.165315 114.05516 \nL 265.775262 106.595814 \nL 266.38521 132.70353 \nL 266.995157 114.055163 \nL 267.605104 173.729939 \nL 268.215051 80.488096 \nL 268.824998 61.839726 \nL 269.434945 143.892548 \nL 270.044893 43.19136 \nL 270.65484 61.83973 \nL 271.264787 87.947448 \nL 271.874734 99.136466 \nL 272.484681 69.299078 \nL 273.094628 114.055161 \nL 273.704576 76.758421 \nL 274.314523 76.758415 \nL 274.92447 99.13646 \nL 275.534417 99.136465 \nL 276.144364 80.488088 \nL 276.754311 102.866141 \nL 277.364259 76.758417 \nL 277.974206 114.05516 \nL 278.584153 110.325486 \nL 279.1941 99.136472 \nL 279.804047 80.488096 \nL 280.413994 114.055163 \nL 281.023942 76.758421 \nL 281.633889 95.406798 \nL 282.243836 65.569393 \nL 282.853783 91.67711 \nL 283.46373 87.947443 \nL 284.073677 76.758424 \nL 285.293572 151.351902 \nL 285.903519 50.650703 \nL 286.513466 73.028743 \nL 287.123413 46.921032 \nL 287.73336 65.569399 \nL 288.343308 50.650703 \nL 288.953255 69.299067 \nL 289.563202 69.29908 \nL 290.173149 125.244187 \nL 290.783096 87.947444 \nL 291.393043 73.028752 \nL 292.612938 173.729941 \nL 293.222885 73.02875 \nL 293.832832 114.055161 \nL 294.442779 128.973859 \nL 295.052726 80.488096 \nL 295.662674 121.514502 \nL 296.272621 87.947438 \nL 296.882568 121.514504 \nL 297.492515 87.947447 \nL 298.102462 114.055168 \nL 298.712409 95.40679 \nL 299.322357 87.947437 \nL 299.932304 99.136467 \nL 300.542251 95.406794 \nL 301.152198 84.217772 \nL 301.762145 125.244182 \nL 302.372092 95.406788 \nL 302.98204 95.406792 \nL 303.591987 87.947444 \nL 304.201934 136.43321 \nL 304.811881 80.488098 \nL 305.421828 125.244184 \nL 306.031775 99.136468 \nL 306.641723 95.406797 \nL 307.25167 99.136465 \nL 307.861617 76.758417 \nL 308.471564 84.21777 \nL 309.081511 106.595819 \nL 309.691458 69.29908 \nL 310.301406 80.488089 \nL 310.911353 99.136468 \nL 311.5213 114.055154 \nL 312.131247 61.839726 \nL 312.741194 102.866133 \nL 313.961089 46.921032 \nL 315.180983 121.514512 \nL 315.79093 99.136461 \nL 316.400877 117.784833 \nL 317.620772 73.02875 \nL 318.230719 95.406792 \nL 318.840666 99.136467 \nL 319.450613 114.055164 \nL 320.06056 73.028748 \nL 320.670507 147.622223 \nL 321.280455 91.677111 \nL 321.890402 76.758419 \nL 322.500349 125.244184 \nL 323.110296 117.78483 \nL 323.720243 69.299078 \nL 324.33019 73.028747 \nL 324.940138 73.028749 \nL 325.550085 87.947443 \nL 326.160032 69.299074 \nL 326.769979 121.514504 \nL 327.379926 73.028748 \nL 327.989873 106.595816 \nL 328.599821 121.514505 \nL 329.209768 58.110051 \nL 329.819715 73.028747 \nL 330.429662 140.162883 \nL 331.039609 73.028754 \nL 331.649556 69.299064 \nL 332.259504 102.86614 \nL 332.869451 95.406789 \nL 333.479398 43.19136 \nL 334.089345 84.217769 \nL 334.699292 106.595813 \nL 335.30924 91.677115 \nL 335.919187 80.488102 \nL 336.529134 54.380375 \nL 337.139081 69.299075 \nL 337.749028 54.38038 \nL 338.358975 91.677114 \nL 338.968923 95.406787 \nL 339.57887 110.325481 \nL 340.798764 73.02875 \nL 341.408711 87.947446 \nL 342.018658 43.191353 \nL 342.628606 73.028751 \nL 343.238553 87.947443 \nL 343.8485 76.758419 \nL 344.458447 91.677118 \nL 345.068394 95.406791 \nL 345.678341 61.839726 \nL 346.288289 114.055162 \nL 346.898236 17.083636 \nL 347.508183 125.244193 \nL 348.728077 50.650701 \nL 349.338024 128.973857 \nL 349.947972 95.406794 \nL 350.557919 106.595812 \nL 351.167866 121.514511 \nL 351.777813 87.947444 \nL 352.38776 91.67711 \nL 352.997707 73.028741 \nL 353.607655 125.244185 \nL 354.217602 84.217774 \nL 354.827549 125.244181 \nL 355.437496 73.028745 \nL 356.047443 65.569402 \nL 356.047443 65.569402 \n\" style=\"fill:none;stroke:#1f77b4;stroke-linecap:square;stroke-width:1.5;\"/>\n   </g>\n   <g id=\"patch_3\">\n    <path d=\"M 36.465625 224.64 \nL 36.465625 7.2 \n\" style=\"fill:none;stroke:#000000;stroke-linecap:square;stroke-linejoin:miter;stroke-width:0.8;\"/>\n   </g>\n   <g id=\"patch_4\">\n    <path d=\"M 371.265625 224.64 \nL 371.265625 7.2 \n\" style=\"fill:none;stroke:#000000;stroke-linecap:square;stroke-linejoin:miter;stroke-width:0.8;\"/>\n   </g>\n   <g id=\"patch_5\">\n    <path d=\"M 36.465625 224.64 \nL 371.265625 224.64 \n\" style=\"fill:none;stroke:#000000;stroke-linecap:square;stroke-linejoin:miter;stroke-width:0.8;\"/>\n   </g>\n   <g id=\"patch_6\">\n    <path d=\"M 36.465625 7.2 \nL 371.265625 7.2 \n\" style=\"fill:none;stroke:#000000;stroke-linecap:square;stroke-linejoin:miter;stroke-width:0.8;\"/>\n   </g>\n  </g>\n </g>\n <defs>\n  <clipPath id=\"p0c8e9f66f9\">\n   <rect height=\"217.44\" width=\"334.8\" x=\"36.465625\" y=\"7.2\"/>\n  </clipPath>\n </defs>\n</svg>\n",
      "text/plain": "<Figure size 432x288 with 1 Axes>"
     },
     "metadata": {
      "needs_background": "light"
     },
     "output_type": "display_data"
    }
   ],
   "source": [
    "#plt.plot(history.history['loss'])\n",
    "plt.plot(history.history['acc'])"
   ]
  },
  {
   "cell_type": "code",
   "execution_count": 51,
   "metadata": {},
   "outputs": [
    {
     "data": {
      "text/plain": "112"
     },
     "execution_count": 51,
     "metadata": {},
     "output_type": "execute_result"
    }
   ],
   "source": [
    "#reshap = Reshape((Layer.shape[1], 1), input_shape=(X.shape[1], ))(layer)\n",
    "model.fit_generator()"
   ]
  },
  {
   "cell_type": "code",
   "execution_count": null,
   "metadata": {},
   "outputs": [],
   "source": [
    "# the way it is set up, len(TimeseriesGenerator)= (len(data)-length)/batch_size, thus for #epochs>=6 and len(data)=190, length=16 and batch_size=29\n",
    "# to calculate a good number of batches/epoch, use floor(#samples/batch_size), to avoid seeing datapoints multiple times during a single epoch\n",
    "\n",
    "# DataGen_NSW = TimeseriesGenerator(df_all, y, 16, sampling_rate=1, stride=1, shuffle=False, reverse=False, batch_size=29)"
   ]
  },
  {
   "cell_type": "code",
   "execution_count": 22,
   "metadata": {},
   "outputs": [
    {
     "data": {
      "text/html": "<div>\n<style scoped>\n    .dataframe tbody tr th:only-of-type {\n        vertical-align: middle;\n    }\n\n    .dataframe tbody tr th {\n        vertical-align: top;\n    }\n\n    .dataframe thead th {\n        text-align: right;\n    }\n</style>\n<table border=\"1\" class=\"dataframe\">\n  <thead>\n    <tr style=\"text-align: right;\">\n      <th></th>\n      <th>price_NSW</th>\n      <th>price_QLD</th>\n      <th>price_SA</th>\n      <th>price_VIC</th>\n    </tr>\n  </thead>\n  <tbody>\n    <tr>\n      <th>2019-11-11 15:00:00</th>\n      <td>73.902058</td>\n      <td>42.191511</td>\n      <td>-188.904570</td>\n      <td>74.399059</td>\n    </tr>\n    <tr>\n      <th>2019-11-11 17:00:00</th>\n      <td>93.971053</td>\n      <td>86.783147</td>\n      <td>9.616821</td>\n      <td>91.430584</td>\n    </tr>\n    <tr>\n      <th>2019-11-11 19:00:00</th>\n      <td>99.080228</td>\n      <td>106.321299</td>\n      <td>86.391360</td>\n      <td>90.160702</td>\n    </tr>\n  </tbody>\n</table>\n</div>",
      "text/plain": "                     price_NSW   price_QLD    price_SA  price_VIC\n2019-11-11 15:00:00  73.902058   42.191511 -188.904570  74.399059\n2019-11-11 17:00:00  93.971053   86.783147    9.616821  91.430584\n2019-11-11 19:00:00  99.080228  106.321299   86.391360  90.160702"
     },
     "execution_count": 22,
     "metadata": {},
     "output_type": "execute_result"
    }
   ],
   "source": []
  },
  {
   "cell_type": "code",
   "execution_count": 50,
   "metadata": {},
   "outputs": [
    {
     "name": "stdout",
     "output_type": "stream",
     "text": "(2, 4)\n"
    },
    {
     "data": {
      "text/plain": "array([[['0'],\n        ['1'],\n        ['2'],\n        ['3']],\n\n       [['a'],\n        ['b'],\n        ['c'],\n        ['d']]], dtype='<U21')"
     },
     "execution_count": 50,
     "metadata": {},
     "output_type": "execute_result"
    }
   ],
   "source": [
    "arr_ = np.array([[0,1,2,3],['a','b','c','d']])\n",
    "nrows, ncols = arr_.shape\n",
    "print(arr_.shape)\n",
    "arr_.reshape(nrows, ncols, 1)"
   ]
  },
  {
   "cell_type": "code",
   "execution_count": 32,
   "metadata": {},
   "outputs": [
    {
     "data": {
      "text/html": "<div>\n<style scoped>\n    .dataframe tbody tr th:only-of-type {\n        vertical-align: middle;\n    }\n\n    .dataframe tbody tr th {\n        vertical-align: top;\n    }\n\n    .dataframe thead th {\n        text-align: right;\n    }\n</style>\n<table border=\"1\" class=\"dataframe\">\n  <thead>\n    <tr style=\"text-align: right;\">\n      <th></th>\n      <th>price_NSW</th>\n      <th>price_QLD</th>\n      <th>price_SA</th>\n      <th>price_VIC</th>\n    </tr>\n  </thead>\n  <tbody>\n    <tr>\n      <th>2019-11-11 15:00:00</th>\n      <td>73.902058</td>\n      <td>42.191511</td>\n      <td>-188.904570</td>\n      <td>74.399059</td>\n    </tr>\n    <tr>\n      <th>2019-11-11 17:00:00</th>\n      <td>93.971053</td>\n      <td>86.783147</td>\n      <td>9.616821</td>\n      <td>91.430584</td>\n    </tr>\n    <tr>\n      <th>2019-11-11 19:00:00</th>\n      <td>99.080228</td>\n      <td>106.321299</td>\n      <td>86.391360</td>\n      <td>90.160702</td>\n    </tr>\n  </tbody>\n</table>\n</div>",
      "text/plain": "                     price_NSW   price_QLD    price_SA  price_VIC\n2019-11-11 15:00:00  73.902058   42.191511 -188.904570  74.399059\n2019-11-11 17:00:00  93.971053   86.783147    9.616821  91.430584\n2019-11-11 19:00:00  99.080228  106.321299   86.391360  90.160702"
     },
     "execution_count": 32,
     "metadata": {},
     "output_type": "execute_result"
    }
   ],
   "source": []
  },
  {
   "cell_type": "code",
   "execution_count": 35,
   "metadata": {},
   "outputs": [
    {
     "ename": "AttributeError",
     "evalue": "'DataFrame' object has no attribute 'reshape'",
     "output_type": "error",
     "traceback": [
      "\u001b[0;31m---------------------------------------------------------------------------\u001b[0m",
      "\u001b[0;31mAttributeError\u001b[0m                            Traceback (most recent call last)",
      "\u001b[0;32m<ipython-input-35-25ab3e4cdf9b>\u001b[0m in \u001b[0;36m<module>\u001b[0;34m\u001b[0m\n\u001b[0;32m----> 1\u001b[0;31m \u001b[0ma\u001b[0m \u001b[0;34m=\u001b[0m \u001b[0ma\u001b[0m\u001b[0;34m.\u001b[0m\u001b[0mreshape\u001b[0m\u001b[0;34m(\u001b[0m\u001b[0;34m(\u001b[0m\u001b[0ma\u001b[0m\u001b[0;34m.\u001b[0m\u001b[0mshape\u001b[0m\u001b[0;34m[\u001b[0m\u001b[0;36m0\u001b[0m\u001b[0;34m]\u001b[0m\u001b[0;34m,\u001b[0m \u001b[0ma\u001b[0m\u001b[0;34m.\u001b[0m\u001b[0mshape\u001b[0m\u001b[0;34m[\u001b[0m\u001b[0;36m1\u001b[0m\u001b[0;34m]\u001b[0m\u001b[0;34m,\u001b[0m \u001b[0;36m1\u001b[0m\u001b[0;34m)\u001b[0m\u001b[0;34m)\u001b[0m\u001b[0;34m\u001b[0m\u001b[0;34m\u001b[0m\u001b[0m\n\u001b[0m",
      "\u001b[0;32m~/anaconda3/envs/EFORECAST/lib/python3.7/site-packages/pandas/core/generic.py\u001b[0m in \u001b[0;36m__getattr__\u001b[0;34m(self, name)\u001b[0m\n\u001b[1;32m   5177\u001b[0m             \u001b[0;32mif\u001b[0m \u001b[0mself\u001b[0m\u001b[0;34m.\u001b[0m\u001b[0m_info_axis\u001b[0m\u001b[0;34m.\u001b[0m\u001b[0m_can_hold_identifiers_and_holds_name\u001b[0m\u001b[0;34m(\u001b[0m\u001b[0mname\u001b[0m\u001b[0;34m)\u001b[0m\u001b[0;34m:\u001b[0m\u001b[0;34m\u001b[0m\u001b[0;34m\u001b[0m\u001b[0m\n\u001b[1;32m   5178\u001b[0m                 \u001b[0;32mreturn\u001b[0m \u001b[0mself\u001b[0m\u001b[0;34m[\u001b[0m\u001b[0mname\u001b[0m\u001b[0;34m]\u001b[0m\u001b[0;34m\u001b[0m\u001b[0;34m\u001b[0m\u001b[0m\n\u001b[0;32m-> 5179\u001b[0;31m             \u001b[0;32mreturn\u001b[0m \u001b[0mobject\u001b[0m\u001b[0;34m.\u001b[0m\u001b[0m__getattribute__\u001b[0m\u001b[0;34m(\u001b[0m\u001b[0mself\u001b[0m\u001b[0;34m,\u001b[0m \u001b[0mname\u001b[0m\u001b[0;34m)\u001b[0m\u001b[0;34m\u001b[0m\u001b[0;34m\u001b[0m\u001b[0m\n\u001b[0m\u001b[1;32m   5180\u001b[0m \u001b[0;34m\u001b[0m\u001b[0m\n\u001b[1;32m   5181\u001b[0m     \u001b[0;32mdef\u001b[0m \u001b[0m__setattr__\u001b[0m\u001b[0;34m(\u001b[0m\u001b[0mself\u001b[0m\u001b[0;34m,\u001b[0m \u001b[0mname\u001b[0m\u001b[0;34m,\u001b[0m \u001b[0mvalue\u001b[0m\u001b[0;34m)\u001b[0m\u001b[0;34m:\u001b[0m\u001b[0;34m\u001b[0m\u001b[0;34m\u001b[0m\u001b[0m\n",
      "\u001b[0;31mAttributeError\u001b[0m: 'DataFrame' object has no attribute 'reshape'"
     ]
    }
   ],
   "source": [
    "a = a.reshape((a.shape[0], a.shape[1], 1))"
   ]
  },
  {
   "cell_type": "code",
   "execution_count": 48,
   "metadata": {},
   "outputs": [],
   "source": [
    "y_24h.name = 12"
   ]
  },
  {
   "cell_type": "code",
   "execution_count": 51,
   "metadata": {},
   "outputs": [],
   "source": [
    "y_24h.name = 12\n",
    "y_timeshift = [y_2h, y_6h, y_12h, y_24h]"
   ]
  },
  {
   "cell_type": "code",
   "execution_count": 52,
   "metadata": {},
   "outputs": [
    {
     "data": {
      "text/plain": "[                     price_NSW   price_QLD   price_SA  price_VIC\n 2019-11-11 15:00:00  93.971053   86.783147   9.616821  91.430584\n 2019-11-11 17:00:00  99.080228  106.321299  86.391360  90.160702\n 2019-11-11 19:00:00  66.364615   64.227690  58.054220  61.840291\n 2019-11-11 21:00:00  67.524743   64.960000  59.524424  65.541250\n 2019-11-11 23:00:00  43.994170   43.253505  37.627617  40.739793\n ...                        ...         ...        ...        ...\n 2019-11-27 19:00:00  60.811630   60.686921  66.382507  64.112951\n 2019-11-27 21:00:00  48.882500   49.116166  57.240443  52.753398\n 2019-11-27 23:00:00  41.057230   39.586084  47.445475  43.007240\n 2019-11-28 01:00:00  38.420000   37.423622  41.511857  37.506012\n 2019-11-28 03:00:00        NaN         NaN        NaN        NaN\n \n [199 rows x 4 columns],\n                      price_NSW  price_QLD   price_SA  price_VIC\n 2019-11-11 15:00:00  66.364615  64.227690  58.054220  61.840291\n 2019-11-11 17:00:00  67.524743  64.960000  59.524424  65.541250\n 2019-11-11 19:00:00  43.994170  43.253505  37.627617  40.739793\n 2019-11-11 21:00:00  44.095282  42.956405  33.225290  33.257834\n 2019-11-11 23:00:00  76.317304  60.940083  72.552780  76.522480\n ...                        ...        ...        ...        ...\n 2019-11-27 19:00:00  41.057230  39.586084  47.445475  43.007240\n 2019-11-27 21:00:00  38.420000  37.423622  41.511857  37.506012\n 2019-11-27 23:00:00        NaN        NaN        NaN        NaN\n 2019-11-28 01:00:00        NaN        NaN        NaN        NaN\n 2019-11-28 03:00:00        NaN        NaN        NaN        NaN\n \n [199 rows x 4 columns],\n                      price_NSW  price_QLD    price_SA  price_VIC\n 2019-11-11 15:00:00  44.095282  42.956405   33.225290  33.257834\n 2019-11-11 17:00:00  76.317304  60.940083   72.552780  76.522480\n 2019-11-11 19:00:00  67.837232  25.065498   70.435009  73.531389\n 2019-11-11 21:00:00  41.731476  14.708492   35.630168  39.043804\n 2019-11-11 23:00:00  40.470917  23.944074 -127.477702  25.804247\n ...                        ...        ...         ...        ...\n 2019-11-27 19:00:00        NaN        NaN         NaN        NaN\n 2019-11-27 21:00:00        NaN        NaN         NaN        NaN\n 2019-11-27 23:00:00        NaN        NaN         NaN        NaN\n 2019-11-28 01:00:00        NaN        NaN         NaN        NaN\n 2019-11-28 03:00:00        NaN        NaN         NaN        NaN\n \n [199 rows x 4 columns],\n                       price_NSW   price_QLD   price_SA  price_VIC\n 2019-11-11 15:00:00  105.994530  100.520612 -74.500268  64.469009\n 2019-11-11 17:00:00  130.501702  127.056027  32.251894  72.256154\n 2019-11-11 19:00:00  111.594185  112.703059  67.504994  96.994505\n 2019-11-11 21:00:00   74.518206   74.289871  65.521961  71.818119\n 2019-11-11 23:00:00   68.249101   67.858122  62.507665  66.575058\n ...                         ...         ...        ...        ...\n 2019-11-27 19:00:00         NaN         NaN        NaN        NaN\n 2019-11-27 21:00:00         NaN         NaN        NaN        NaN\n 2019-11-27 23:00:00         NaN         NaN        NaN        NaN\n 2019-11-28 01:00:00         NaN         NaN        NaN        NaN\n 2019-11-28 03:00:00         NaN         NaN        NaN        NaN\n \n [199 rows x 4 columns]]"
     },
     "execution_count": 52,
     "metadata": {},
     "output_type": "execute_result"
    }
   ],
   "source": [
    "weather_NSW, electricity_NSW = doodahs.import_n_statelabel('NSW')\n",
    "weather_QLD, electricity_QLD = doodahs.import_n_statelabel('QLD')\n",
    "weather_VIC, electricity_VIC = doodahs.import_n_statelabel('VIC')\n",
    "weather_SA, electricity_SA = doodahs.import_n_statelabel('SA')\n",
    "\n",
    "# join all data state wise\n",
    "df_NSW = weather_NSW.join(electricity_NSW['scheduledGeneration_NSW'])\n",
    "df_NSW = doodahs.create_diffs(df_NSW, list(range(len(df_NSW.columns))))\n",
    "df_QLD = weather_QLD.join(electricity_QLD['scheduledGeneration_QLD'])\n",
    "df_QLD = doodahs.create_diffs(df_QLD, list(range(len(df_QLD.columns))))\n",
    "df_VIC = weather_VIC.join(electricity_VIC['scheduledGeneration_VIC'])\n",
    "df_VIC = doodahs.create_diffs(df_VIC, list(range(len(df_VIC.columns))))\n",
    "df_SA = weather_SA.join(electricity_SA['scheduledGeneration_SA'])\n",
    "df_SA = doodahs.create_diffs(df_SA, list(range(len(df_SA.columns))))\n",
    "\n",
    "y_nn = electricity_NSW.join(electricity_QLD['price_QLD'])\n",
    "del y_nn['scheduledGeneration_NSW']\n",
    "y_nn = y_nn.join(electricity_VIC['price_VIC'])\n",
    "y_nn = y_nn.join(electricity_SA['price_SA'])\n",
    "\n",
    "print('NSW', df_NSW.shape)   \n",
    "print('QLD', df_QLD.shape)\n",
    "print('VIC', df_VIC.shape)   \n",
    "print('SA', df_SA.shape)       \n",
    "df_NSW = df_NSW.dropna()\n",
    "df_QLD = df_QLD.dropna()\n",
    "df_VIC = df_VIC.dropna()\n",
    "df_SA = df_SA.dropna()\n",
    "\n",
    "\n",
    "\n",
    "y_nn = y_nn[(y_nn.index>=df_NSW.index[0])&(y_nn.index<=df_NSW.index[-1])]\n",
    "assert y_nn.shape[0]==df_NSW.shape[0], 'Different columns lengths detected!'\n",
    "print('data x shape: ',df_NSW.shape)\n",
    "print('test y shape: ',y_nn.shape)"
   ]
  },
  {
   "cell_type": "code",
   "execution_count": 58,
   "metadata": {},
   "outputs": [
    {
     "data": {
      "text/html": "<div>\n<style scoped>\n    .dataframe tbody tr th:only-of-type {\n        vertical-align: middle;\n    }\n\n    .dataframe tbody tr th {\n        vertical-align: top;\n    }\n\n    .dataframe thead th {\n        text-align: right;\n    }\n</style>\n<table border=\"1\" class=\"dataframe\">\n  <thead>\n    <tr style=\"text-align: right;\">\n      <th></th>\n      <th>price_NSW</th>\n      <th>scheduledGeneration_NSW</th>\n    </tr>\n  </thead>\n  <tbody>\n    <tr>\n      <th>2019-11-09 11:00:00+00:00</th>\n      <td>77.150094</td>\n      <td>5466.648813</td>\n    </tr>\n    <tr>\n      <th>2019-11-09 12:00:00+00:00</th>\n      <td>75.228484</td>\n      <td>5324.231333</td>\n    </tr>\n    <tr>\n      <th>2019-11-09 13:00:00+00:00</th>\n      <td>89.562308</td>\n      <td>5250.784769</td>\n    </tr>\n    <tr>\n      <th>2019-11-09 14:00:00+00:00</th>\n      <td>74.352310</td>\n      <td>5052.957333</td>\n    </tr>\n    <tr>\n      <th>2019-11-09 15:00:00+00:00</th>\n      <td>73.655698</td>\n      <td>4779.852429</td>\n    </tr>\n    <tr>\n      <th>...</th>\n      <td>...</td>\n      <td>...</td>\n    </tr>\n    <tr>\n      <th>2019-12-10 00:00:00+00:00</th>\n      <td>56.495956</td>\n      <td>8092.033145</td>\n    </tr>\n    <tr>\n      <th>2019-12-10 01:00:00+00:00</th>\n      <td>63.729611</td>\n      <td>8556.537543</td>\n    </tr>\n    <tr>\n      <th>2019-12-10 02:00:00+00:00</th>\n      <td>67.493070</td>\n      <td>8978.043818</td>\n    </tr>\n    <tr>\n      <th>2019-12-10 03:00:00+00:00</th>\n      <td>68.522514</td>\n      <td>9508.025989</td>\n    </tr>\n    <tr>\n      <th>2019-12-10 04:00:00+00:00</th>\n      <td>68.805264</td>\n      <td>9609.602130</td>\n    </tr>\n  </tbody>\n</table>\n<p>738 rows × 2 columns</p>\n</div>",
      "text/plain": "                           price_NSW  scheduledGeneration_NSW\n2019-11-09 11:00:00+00:00  77.150094              5466.648813\n2019-11-09 12:00:00+00:00  75.228484              5324.231333\n2019-11-09 13:00:00+00:00  89.562308              5250.784769\n2019-11-09 14:00:00+00:00  74.352310              5052.957333\n2019-11-09 15:00:00+00:00  73.655698              4779.852429\n...                              ...                      ...\n2019-12-10 00:00:00+00:00  56.495956              8092.033145\n2019-12-10 01:00:00+00:00  63.729611              8556.537543\n2019-12-10 02:00:00+00:00  67.493070              8978.043818\n2019-12-10 03:00:00+00:00  68.522514              9508.025989\n2019-12-10 04:00:00+00:00  68.805264              9609.602130\n\n[738 rows x 2 columns]"
     },
     "execution_count": 58,
     "metadata": {},
     "output_type": "execute_result"
    }
   ],
   "source": [
    "electricity_dict['electricity_NSW'].resample('60T').mean()"
   ]
  },
  {
   "cell_type": "code",
   "execution_count": 167,
   "metadata": {},
   "outputs": [
    {
     "data": {
      "text/plain": "[{'t': Timestamp('2019-12-16 11:00:00'),\n  'banana': 0.0,\n  'appl': 1.0,\n  'citron': 2.0},\n {'t': Timestamp('2019-12-16 12:00:00'),\n  'banana': 3.0,\n  'appl': 4.0,\n  'citron': 5.0},\n {'t': Timestamp('2019-12-16 13:00:00'),\n  'banana': 6.0,\n  'appl': 7.0,\n  'citron': 8.0},\n {'t': Timestamp('2016-12-16 14:00:00'),\n  'banana': 9.0,\n  'appl': 10.0,\n  'citron': 11.0}]"
     },
     "execution_count": 167,
     "metadata": {},
     "output_type": "execute_result"
    }
   ],
   "source": [
    "params = {'name': \"Test - now also with signals\",\n",
    "        'description': \"Can definitely confirm signals extant.\",\n",
    "        'price': 0,\n",
    "        'file_path': './6_predictions/banana.csv'\n",
    "        }\n",
    "APIfetch.upload_series(ananas, params, id_='bab66317-3e8a-4e3f-94b2-aa5fe890dc11')"
   ]
  },
  {
   "cell_type": "code",
   "execution_count": 72,
   "metadata": {},
   "outputs": [
    {
     "name": "stdout",
     "output_type": "stream",
     "text": "\n"
    }
   ],
   "source": [
    "appler = ''\n",
    "if not appler:\n",
    "    print(appler)"
   ]
  },
  {
   "cell_type": "code",
   "execution_count": 166,
   "metadata": {},
   "outputs": [
    {
     "data": {
      "text/html": "<div>\n<style scoped>\n    .dataframe tbody tr th:only-of-type {\n        vertical-align: middle;\n    }\n\n    .dataframe tbody tr th {\n        vertical-align: top;\n    }\n\n    .dataframe thead th {\n        text-align: right;\n    }\n</style>\n<table border=\"1\" class=\"dataframe\">\n  <thead>\n    <tr style=\"text-align: right;\">\n      <th></th>\n      <th>banana</th>\n      <th>appl</th>\n      <th>citron</th>\n    </tr>\n  </thead>\n  <tbody>\n    <tr>\n      <th>2019-12-16 11:00:00</th>\n      <td>0</td>\n      <td>1</td>\n      <td>2</td>\n    </tr>\n    <tr>\n      <th>2019-12-16 12:00:00</th>\n      <td>3</td>\n      <td>4</td>\n      <td>5</td>\n    </tr>\n    <tr>\n      <th>2019-12-16 13:00:00</th>\n      <td>6</td>\n      <td>7</td>\n      <td>8</td>\n    </tr>\n    <tr>\n      <th>2016-12-16 14:00:00</th>\n      <td>9</td>\n      <td>10</td>\n      <td>11</td>\n    </tr>\n  </tbody>\n</table>\n</div>",
      "text/plain": "                     banana  appl  citron\n2019-12-16 11:00:00       0     1       2\n2019-12-16 12:00:00       3     4       5\n2019-12-16 13:00:00       6     7       8\n2016-12-16 14:00:00       9    10      11"
     },
     "execution_count": 166,
     "metadata": {},
     "output_type": "execute_result"
    }
   ],
   "source": [
    "ananas = pd.DataFrame([[0,1,2],[3,4,5],[6,7,8],[9,10,11]],index=[datetime(2019,12,16,11,0,0),datetime(2019,12,16,12,0,0,),datetime(2019,12,16,13,0,0),datetime(2016,12,16,14,0,0)], columns=['banana','appl','citron']); ananas.head()"
   ]
  },
  {
   "cell_type": "code",
   "execution_count": 141,
   "metadata": {},
   "outputs": [
    {
     "name": "stdout",
     "output_type": "stream",
     "text": "0\n1\n2\n3\n"
    }
   ],
   "source": [
    "signal_list = []\n",
    "cats = ananas.columns\n",
    "for row in range(ananas.shape[0]):\n",
    "    print(row)\n",
    "    temp_dict = dict(t=ananas.index[row])\n",
    "    for _ in range(len(cats)):\n",
    "      temp_dict[cats[_]] = ananas.iloc[row,_]\n",
    "    signal_list.append(temp_dict)"
   ]
  },
  {
   "cell_type": "code",
   "execution_count": 142,
   "metadata": {},
   "outputs": [
    {
     "data": {
      "text/plain": "[{'t': Timestamp('2019-12-01 00:00:00'), 'banan': 0, 'appl': 1, 'citron': 2},\n {'t': Timestamp('2018-12-01 12:00:00'), 'banan': 3, 'appl': 4, 'citron': 5},\n {'t': Timestamp('2017-12-01 00:00:00'), 'banan': 6, 'appl': 7, 'citron': 8},\n {'t': Timestamp('2016-12-01 00:00:00'), 'banan': 9, 'appl': 10, 'citron': 11}]"
     },
     "execution_count": 142,
     "metadata": {},
     "output_type": "execute_result"
    }
   ],
   "source": [
    "signal_list"
   ]
  },
  {
   "cell_type": "code",
   "execution_count": 8,
   "metadata": {},
   "outputs": [
    {
     "data": {
      "text/plain": "{'electricity_NSW':                            price._NSW  scheduledGeneration._NSW\n 2019-11-09 11:00:00+00:00   76.732424               5476.242923\n 2019-11-09 12:00:00+00:00   75.001667               5361.238833\n 2019-11-09 13:00:00+00:00   89.955000               5252.768500\n 2019-11-09 14:00:00+00:00   75.348605               5033.585455\n 2019-11-09 15:00:00+00:00   74.153314               4773.684500\n ...                               ...                       ...\n 2019-12-10 00:00:00+00:00   55.970478               8155.316572\n 2019-12-10 01:00:00+00:00   61.797306               8555.511271\n 2019-12-10 02:00:00+00:00   62.821535               8798.406909\n 2019-12-10 03:00:00+00:00   58.581257               8985.097994\n 2019-12-10 04:00:00+00:00   61.610132               9324.001065\n \n [738 rows x 2 columns],\n 'electricity_QLD':                            price._QLD  scheduledGeneration._QLD\n 2019-11-09 11:00:00+00:00   54.120000               6604.693000\n 2019-11-09 12:00:00+00:00   49.652846               6304.466714\n 2019-11-09 13:00:00+00:00   48.847500               5945.815000\n 2019-11-09 14:00:00+00:00   31.201000               5644.405400\n 2019-11-09 15:00:00+00:00   39.634167               5523.380417\n ...                               ...                       ...\n 2019-12-10 00:00:00+00:00   58.100894               5906.398550\n 2019-12-10 01:00:00+00:00   64.880306               5998.708638\n 2019-12-10 02:00:00+00:00   65.860851               6238.997681\n 2019-12-10 03:00:00+00:00   70.938126               6453.287625\n 2019-12-10 04:00:00+00:00   72.366652               6886.962188\n \n [738 rows x 2 columns],\n 'electricity_VIC':                            price._VIC  scheduledGeneration._VIC\n 2019-11-09 11:00:00+00:00   71.434833               3829.825222\n 2019-11-09 12:00:00+00:00   69.231708               3844.651750\n 2019-11-09 13:00:00+00:00   89.684694               3710.697636\n 2019-11-09 14:00:00+00:00   75.426356               3545.479917\n 2019-11-09 15:00:00+00:00   73.362010               3544.644000\n ...                               ...                       ...\n 2019-12-10 00:00:00+00:00   48.254344               3960.982125\n 2019-12-10 01:00:00+00:00   49.095765               4106.119937\n 2019-12-10 02:00:00+00:00   44.826824               4184.702312\n 2019-12-10 03:00:00+00:00   37.639531               4173.624875\n 2019-12-10 04:00:00+00:00   46.712448               4120.261875\n \n [738 rows x 2 columns],\n 'electricity_SA':                            price._SA  scheduledGeneration._SA\n 2019-11-09 11:00:00+00:00  69.461535               607.768538\n 2019-11-09 12:00:00+00:00  70.039997               572.231267\n 2019-11-09 13:00:00+00:00  93.460173               781.764526\n 2019-11-09 14:00:00+00:00  82.615169               594.673071\n 2019-11-09 15:00:00+00:00  81.291183               493.645333\n ...                              ...                      ...\n 2019-12-10 00:00:00+00:00  45.778231               516.459125\n 2019-12-10 01:00:00+00:00  45.765581               517.879812\n 2019-12-10 02:00:00+00:00  41.891008               515.397750\n 2019-12-10 03:00:00+00:00  34.857887               562.429688\n 2019-12-10 04:00:00+00:00  43.053845               578.778563\n \n [738 rows x 2 columns]}"
     },
     "execution_count": 8,
     "metadata": {},
     "output_type": "execute_result"
    }
   ],
   "source": [
    "electricity_dict"
   ]
  },
  {
   "cell_type": "code",
   "execution_count": 16,
   "metadata": {},
   "outputs": [
    {
     "data": {
      "text/plain": "DatetimeIndex(['2019-11-11 02:00:00+00:00', '2019-11-11 03:00:00+00:00',\n               '2019-11-11 04:00:00+00:00', '2019-11-11 05:00:00+00:00',\n               '2019-11-11 06:00:00+00:00', '2019-11-11 07:00:00+00:00',\n               '2019-11-11 08:00:00+00:00', '2019-11-11 09:00:00+00:00',\n               '2019-11-11 10:00:00+00:00', '2019-11-11 11:00:00+00:00',\n               ...\n               '2019-12-09 19:00:00+00:00', '2019-12-09 20:00:00+00:00',\n               '2019-12-09 21:00:00+00:00', '2019-12-09 22:00:00+00:00',\n               '2019-12-09 23:00:00+00:00', '2019-12-10 00:00:00+00:00',\n               '2019-12-10 01:00:00+00:00', '2019-12-10 02:00:00+00:00',\n               '2019-12-10 03:00:00+00:00', '2019-12-10 04:00:00+00:00'],\n              dtype='datetime64[ns, tzutc()]', length=699, freq='60T')"
     },
     "execution_count": 16,
     "metadata": {},
     "output_type": "execute_result"
    }
   ],
   "source": [
    "e = y.copy()\n",
    "df_all.index.sort_values()"
   ]
  },
  {
   "cell_type": "code",
   "execution_count": 170,
   "metadata": {},
   "outputs": [
    {
     "data": {
      "text/plain": "['temperature_VIC',\n 'rainProb_VIC',\n 'windSpeed_VIC',\n 'windDirection_VIC',\n 'cloudCover_VIC',\n 'pressure_VIC',\n 'd_temperature_VIC',\n 'd_rainProb_VIC',\n 'd_windSpeed_VIC',\n 'd_windDirection_VIC',\n 'd_cloudCover_VIC',\n 'd_pressure_VIC',\n 'd_price_VIC',\n 'd_scheduledGeneration_VIC',\n 'scheduledGeneration_VIC',\n 'price.Forecast_VIC',\n 'scheduledGeneration.Forecast_VIC',\n 'd_price.Forecast_VIC',\n 'd_scheduledGeneration.Forecast_VIC',\n 'year',\n 'month',\n 'day',\n 'dayofweek',\n 'dayofyear',\n 'is_quarter_end',\n 'hour']"
     },
     "execution_count": 170,
     "metadata": {},
     "output_type": "execute_result"
    }
   ],
   "source": [
    "[*df_all.columns[['_VIC' in a for a in df_all.columns]],'year', 'month', 'day', 'dayofweek','dayofyear', 'is_quarter_end', 'hour']"
   ]
  },
  {
   "cell_type": "code",
   "execution_count": null,
   "metadata": {},
   "outputs": [],
   "source": []
  }
 ],
 "metadata": {
  "file_extension": ".py",
  "kernelspec": {
   "display_name": "Python 3",
   "language": "python",
   "name": "python3"
  },
  "language_info": {
   "codemirror_mode": {
    "name": "ipython",
    "version": 3
   },
   "file_extension": ".py",
   "mimetype": "text/x-python",
   "name": "python",
   "nbconvert_exporter": "python",
   "pygments_lexer": "ipython3",
   "version": "3.7.5"
  },
  "mimetype": "text/x-python",
  "name": "python",
  "npconvert_exporter": "python",
  "pygments_lexer": "ipython3",
  "version": 3
 },
 "nbformat": 4,
 "nbformat_minor": 4
}